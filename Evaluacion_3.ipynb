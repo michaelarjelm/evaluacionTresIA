{
  "nbformat": 4,
  "nbformat_minor": 0,
  "metadata": {
    "colab": {
      "provenance": [],
      "authorship_tag": "ABX9TyPjbX/SKuHPin8mdF0L2WEV",
      "include_colab_link": true
    },
    "kernelspec": {
      "name": "python3",
      "display_name": "Python 3"
    },
    "language_info": {
      "name": "python"
    },
    "widgets": {
      "application/vnd.jupyter.widget-state+json": {
        "963f96f468c14eefa981f8b037887f08": {
          "model_module": "@jupyter-widgets/controls",
          "model_name": "IntSliderModel",
          "model_module_version": "1.5.0",
          "state": {
            "_dom_classes": [],
            "_model_module": "@jupyter-widgets/controls",
            "_model_module_version": "1.5.0",
            "_model_name": "IntSliderModel",
            "_view_count": null,
            "_view_module": "@jupyter-widgets/controls",
            "_view_module_version": "1.5.0",
            "_view_name": "IntSliderView",
            "continuous_update": true,
            "description": "Hora:",
            "description_tooltip": null,
            "disabled": false,
            "layout": "IPY_MODEL_cb26206069a84cd9b56c7672e8dfde88",
            "max": 23,
            "min": 0,
            "orientation": "horizontal",
            "readout": true,
            "readout_format": "d",
            "step": 1,
            "style": "IPY_MODEL_274ed184c0ee4e098c95dc2f89a97aab",
            "value": 12
          }
        },
        "cb26206069a84cd9b56c7672e8dfde88": {
          "model_module": "@jupyter-widgets/base",
          "model_name": "LayoutModel",
          "model_module_version": "1.2.0",
          "state": {
            "_model_module": "@jupyter-widgets/base",
            "_model_module_version": "1.2.0",
            "_model_name": "LayoutModel",
            "_view_count": null,
            "_view_module": "@jupyter-widgets/base",
            "_view_module_version": "1.2.0",
            "_view_name": "LayoutView",
            "align_content": null,
            "align_items": null,
            "align_self": null,
            "border": null,
            "bottom": null,
            "display": null,
            "flex": null,
            "flex_flow": null,
            "grid_area": null,
            "grid_auto_columns": null,
            "grid_auto_flow": null,
            "grid_auto_rows": null,
            "grid_column": null,
            "grid_gap": null,
            "grid_row": null,
            "grid_template_areas": null,
            "grid_template_columns": null,
            "grid_template_rows": null,
            "height": null,
            "justify_content": null,
            "justify_items": null,
            "left": null,
            "margin": null,
            "max_height": null,
            "max_width": null,
            "min_height": null,
            "min_width": null,
            "object_fit": null,
            "object_position": null,
            "order": null,
            "overflow": null,
            "overflow_x": null,
            "overflow_y": null,
            "padding": null,
            "right": null,
            "top": null,
            "visibility": null,
            "width": null
          }
        },
        "274ed184c0ee4e098c95dc2f89a97aab": {
          "model_module": "@jupyter-widgets/controls",
          "model_name": "SliderStyleModel",
          "model_module_version": "1.5.0",
          "state": {
            "_model_module": "@jupyter-widgets/controls",
            "_model_module_version": "1.5.0",
            "_model_name": "SliderStyleModel",
            "_view_count": null,
            "_view_module": "@jupyter-widgets/base",
            "_view_module_version": "1.2.0",
            "_view_name": "StyleView",
            "description_width": "",
            "handle_color": null
          }
        },
        "be067f40d09b47e39e292dc4ab49adbf": {
          "model_module": "@jupyter-widgets/controls",
          "model_name": "IntSliderModel",
          "model_module_version": "1.5.0",
          "state": {
            "_dom_classes": [],
            "_model_module": "@jupyter-widgets/controls",
            "_model_module_version": "1.5.0",
            "_model_name": "IntSliderModel",
            "_view_count": null,
            "_view_module": "@jupyter-widgets/controls",
            "_view_module_version": "1.5.0",
            "_view_name": "IntSliderView",
            "continuous_update": true,
            "description": "Tráfico (%):",
            "description_tooltip": null,
            "disabled": false,
            "layout": "IPY_MODEL_a5a45e7840e04cb38db618d09cfa05e7",
            "max": 100,
            "min": 0,
            "orientation": "horizontal",
            "readout": true,
            "readout_format": "d",
            "step": 10,
            "style": "IPY_MODEL_758ec54746824452a89eb4466c59efdb",
            "value": 50
          }
        },
        "a5a45e7840e04cb38db618d09cfa05e7": {
          "model_module": "@jupyter-widgets/base",
          "model_name": "LayoutModel",
          "model_module_version": "1.2.0",
          "state": {
            "_model_module": "@jupyter-widgets/base",
            "_model_module_version": "1.2.0",
            "_model_name": "LayoutModel",
            "_view_count": null,
            "_view_module": "@jupyter-widgets/base",
            "_view_module_version": "1.2.0",
            "_view_name": "LayoutView",
            "align_content": null,
            "align_items": null,
            "align_self": null,
            "border": null,
            "bottom": null,
            "display": null,
            "flex": null,
            "flex_flow": null,
            "grid_area": null,
            "grid_auto_columns": null,
            "grid_auto_flow": null,
            "grid_auto_rows": null,
            "grid_column": null,
            "grid_gap": null,
            "grid_row": null,
            "grid_template_areas": null,
            "grid_template_columns": null,
            "grid_template_rows": null,
            "height": null,
            "justify_content": null,
            "justify_items": null,
            "left": null,
            "margin": null,
            "max_height": null,
            "max_width": null,
            "min_height": null,
            "min_width": null,
            "object_fit": null,
            "object_position": null,
            "order": null,
            "overflow": null,
            "overflow_x": null,
            "overflow_y": null,
            "padding": null,
            "right": null,
            "top": null,
            "visibility": null,
            "width": null
          }
        },
        "758ec54746824452a89eb4466c59efdb": {
          "model_module": "@jupyter-widgets/controls",
          "model_name": "SliderStyleModel",
          "model_module_version": "1.5.0",
          "state": {
            "_model_module": "@jupyter-widgets/controls",
            "_model_module_version": "1.5.0",
            "_model_name": "SliderStyleModel",
            "_view_count": null,
            "_view_module": "@jupyter-widgets/base",
            "_view_module_version": "1.2.0",
            "_view_name": "StyleView",
            "description_width": "",
            "handle_color": null
          }
        },
        "eaf9e15460854851a130d20093f3686c": {
          "model_module": "@jupyter-widgets/controls",
          "model_name": "DropdownModel",
          "model_module_version": "1.5.0",
          "state": {
            "_dom_classes": [],
            "_model_module": "@jupyter-widgets/controls",
            "_model_module_version": "1.5.0",
            "_model_name": "DropdownModel",
            "_options_labels": [
              "Favorable",
              "Normal",
              "Desfavorable"
            ],
            "_view_count": null,
            "_view_module": "@jupyter-widgets/controls",
            "_view_module_version": "1.5.0",
            "_view_name": "DropdownView",
            "description": "Clima:",
            "description_tooltip": null,
            "disabled": false,
            "index": 1,
            "layout": "IPY_MODEL_917db6e841464520ac1365207dae100f",
            "style": "IPY_MODEL_d08952e729084a3db8461fa3c9573122"
          }
        },
        "917db6e841464520ac1365207dae100f": {
          "model_module": "@jupyter-widgets/base",
          "model_name": "LayoutModel",
          "model_module_version": "1.2.0",
          "state": {
            "_model_module": "@jupyter-widgets/base",
            "_model_module_version": "1.2.0",
            "_model_name": "LayoutModel",
            "_view_count": null,
            "_view_module": "@jupyter-widgets/base",
            "_view_module_version": "1.2.0",
            "_view_name": "LayoutView",
            "align_content": null,
            "align_items": null,
            "align_self": null,
            "border": null,
            "bottom": null,
            "display": null,
            "flex": null,
            "flex_flow": null,
            "grid_area": null,
            "grid_auto_columns": null,
            "grid_auto_flow": null,
            "grid_auto_rows": null,
            "grid_column": null,
            "grid_gap": null,
            "grid_row": null,
            "grid_template_areas": null,
            "grid_template_columns": null,
            "grid_template_rows": null,
            "height": null,
            "justify_content": null,
            "justify_items": null,
            "left": null,
            "margin": null,
            "max_height": null,
            "max_width": null,
            "min_height": null,
            "min_width": null,
            "object_fit": null,
            "object_position": null,
            "order": null,
            "overflow": null,
            "overflow_x": null,
            "overflow_y": null,
            "padding": null,
            "right": null,
            "top": null,
            "visibility": null,
            "width": null
          }
        },
        "d08952e729084a3db8461fa3c9573122": {
          "model_module": "@jupyter-widgets/controls",
          "model_name": "DescriptionStyleModel",
          "model_module_version": "1.5.0",
          "state": {
            "_model_module": "@jupyter-widgets/controls",
            "_model_module_version": "1.5.0",
            "_model_name": "DescriptionStyleModel",
            "_view_count": null,
            "_view_module": "@jupyter-widgets/base",
            "_view_module_version": "1.2.0",
            "_view_name": "StyleView",
            "description_width": ""
          }
        },
        "bd3b70cc8f6546389e03e9aeeb840ca1": {
          "model_module": "@jupyter-widgets/controls",
          "model_name": "DropdownModel",
          "model_module_version": "1.5.0",
          "state": {
            "_dom_classes": [],
            "_model_module": "@jupyter-widgets/controls",
            "_model_module_version": "1.5.0",
            "_model_name": "DropdownModel",
            "_options_labels": [
              "normal",
              "baja presión",
              "sin agua"
            ],
            "_view_count": null,
            "_view_module": "@jupyter-widgets/controls",
            "_view_module_version": "1.5.0",
            "_view_name": "DropdownView",
            "description": "Estado suministro:",
            "description_tooltip": null,
            "disabled": false,
            "index": 0,
            "layout": "IPY_MODEL_d075cea4b1224c92b3b88973c231aab5",
            "style": "IPY_MODEL_45f889909b59479780fa5effa949f55b"
          }
        },
        "d075cea4b1224c92b3b88973c231aab5": {
          "model_module": "@jupyter-widgets/base",
          "model_name": "LayoutModel",
          "model_module_version": "1.2.0",
          "state": {
            "_model_module": "@jupyter-widgets/base",
            "_model_module_version": "1.2.0",
            "_model_name": "LayoutModel",
            "_view_count": null,
            "_view_module": "@jupyter-widgets/base",
            "_view_module_version": "1.2.0",
            "_view_name": "LayoutView",
            "align_content": null,
            "align_items": null,
            "align_self": null,
            "border": null,
            "bottom": null,
            "display": null,
            "flex": null,
            "flex_flow": null,
            "grid_area": null,
            "grid_auto_columns": null,
            "grid_auto_flow": null,
            "grid_auto_rows": null,
            "grid_column": null,
            "grid_gap": null,
            "grid_row": null,
            "grid_template_areas": null,
            "grid_template_columns": null,
            "grid_template_rows": null,
            "height": null,
            "justify_content": null,
            "justify_items": null,
            "left": null,
            "margin": null,
            "max_height": null,
            "max_width": null,
            "min_height": null,
            "min_width": null,
            "object_fit": null,
            "object_position": null,
            "order": null,
            "overflow": null,
            "overflow_x": null,
            "overflow_y": null,
            "padding": null,
            "right": null,
            "top": null,
            "visibility": null,
            "width": null
          }
        },
        "45f889909b59479780fa5effa949f55b": {
          "model_module": "@jupyter-widgets/controls",
          "model_name": "DescriptionStyleModel",
          "model_module_version": "1.5.0",
          "state": {
            "_model_module": "@jupyter-widgets/controls",
            "_model_module_version": "1.5.0",
            "_model_name": "DescriptionStyleModel",
            "_view_count": null,
            "_view_module": "@jupyter-widgets/base",
            "_view_module_version": "1.2.0",
            "_view_name": "StyleView",
            "description_width": ""
          }
        },
        "5af67990d597483ca02b080bb0a36688": {
          "model_module": "@jupyter-widgets/controls",
          "model_name": "DropdownModel",
          "model_module_version": "1.5.0",
          "state": {
            "_dom_classes": [],
            "_model_module": "@jupyter-widgets/controls",
            "_model_module_version": "1.5.0",
            "_model_name": "DropdownModel",
            "_options_labels": [
              "abierta",
              "cerrada"
            ],
            "_view_count": null,
            "_view_module": "@jupyter-widgets/controls",
            "_view_module_version": "1.5.0",
            "_view_name": "DropdownView",
            "description": "Válvula 1:",
            "description_tooltip": null,
            "disabled": false,
            "index": 0,
            "layout": "IPY_MODEL_c518ef0d1e284b64b3f8198e70e0d098",
            "style": "IPY_MODEL_9242b1dd4bb946f5b64de06fa7ffe502"
          }
        },
        "c518ef0d1e284b64b3f8198e70e0d098": {
          "model_module": "@jupyter-widgets/base",
          "model_name": "LayoutModel",
          "model_module_version": "1.2.0",
          "state": {
            "_model_module": "@jupyter-widgets/base",
            "_model_module_version": "1.2.0",
            "_model_name": "LayoutModel",
            "_view_count": null,
            "_view_module": "@jupyter-widgets/base",
            "_view_module_version": "1.2.0",
            "_view_name": "LayoutView",
            "align_content": null,
            "align_items": null,
            "align_self": null,
            "border": null,
            "bottom": null,
            "display": null,
            "flex": null,
            "flex_flow": null,
            "grid_area": null,
            "grid_auto_columns": null,
            "grid_auto_flow": null,
            "grid_auto_rows": null,
            "grid_column": null,
            "grid_gap": null,
            "grid_row": null,
            "grid_template_areas": null,
            "grid_template_columns": null,
            "grid_template_rows": null,
            "height": null,
            "justify_content": null,
            "justify_items": null,
            "left": null,
            "margin": null,
            "max_height": null,
            "max_width": null,
            "min_height": null,
            "min_width": null,
            "object_fit": null,
            "object_position": null,
            "order": null,
            "overflow": null,
            "overflow_x": null,
            "overflow_y": null,
            "padding": null,
            "right": null,
            "top": null,
            "visibility": null,
            "width": null
          }
        },
        "9242b1dd4bb946f5b64de06fa7ffe502": {
          "model_module": "@jupyter-widgets/controls",
          "model_name": "DescriptionStyleModel",
          "model_module_version": "1.5.0",
          "state": {
            "_model_module": "@jupyter-widgets/controls",
            "_model_module_version": "1.5.0",
            "_model_name": "DescriptionStyleModel",
            "_view_count": null,
            "_view_module": "@jupyter-widgets/base",
            "_view_module_version": "1.2.0",
            "_view_name": "StyleView",
            "description_width": ""
          }
        },
        "601ca93e8e984dc69bcd687cc238a82a": {
          "model_module": "@jupyter-widgets/controls",
          "model_name": "DropdownModel",
          "model_module_version": "1.5.0",
          "state": {
            "_dom_classes": [],
            "_model_module": "@jupyter-widgets/controls",
            "_model_module_version": "1.5.0",
            "_model_name": "DropdownModel",
            "_options_labels": [
              "abierta",
              "cerrada"
            ],
            "_view_count": null,
            "_view_module": "@jupyter-widgets/controls",
            "_view_module_version": "1.5.0",
            "_view_name": "DropdownView",
            "description": "Válvula 2:",
            "description_tooltip": null,
            "disabled": false,
            "index": 0,
            "layout": "IPY_MODEL_a8b6163531b641f483cea334c74a00c1",
            "style": "IPY_MODEL_4ca8379dae254b90b80eb97ad9980186"
          }
        },
        "a8b6163531b641f483cea334c74a00c1": {
          "model_module": "@jupyter-widgets/base",
          "model_name": "LayoutModel",
          "model_module_version": "1.2.0",
          "state": {
            "_model_module": "@jupyter-widgets/base",
            "_model_module_version": "1.2.0",
            "_model_name": "LayoutModel",
            "_view_count": null,
            "_view_module": "@jupyter-widgets/base",
            "_view_module_version": "1.2.0",
            "_view_name": "LayoutView",
            "align_content": null,
            "align_items": null,
            "align_self": null,
            "border": null,
            "bottom": null,
            "display": null,
            "flex": null,
            "flex_flow": null,
            "grid_area": null,
            "grid_auto_columns": null,
            "grid_auto_flow": null,
            "grid_auto_rows": null,
            "grid_column": null,
            "grid_gap": null,
            "grid_row": null,
            "grid_template_areas": null,
            "grid_template_columns": null,
            "grid_template_rows": null,
            "height": null,
            "justify_content": null,
            "justify_items": null,
            "left": null,
            "margin": null,
            "max_height": null,
            "max_width": null,
            "min_height": null,
            "min_width": null,
            "object_fit": null,
            "object_position": null,
            "order": null,
            "overflow": null,
            "overflow_x": null,
            "overflow_y": null,
            "padding": null,
            "right": null,
            "top": null,
            "visibility": null,
            "width": null
          }
        },
        "4ca8379dae254b90b80eb97ad9980186": {
          "model_module": "@jupyter-widgets/controls",
          "model_name": "DescriptionStyleModel",
          "model_module_version": "1.5.0",
          "state": {
            "_model_module": "@jupyter-widgets/controls",
            "_model_module_version": "1.5.0",
            "_model_name": "DescriptionStyleModel",
            "_view_count": null,
            "_view_module": "@jupyter-widgets/base",
            "_view_module_version": "1.2.0",
            "_view_name": "StyleView",
            "description_width": ""
          }
        },
        "8c43294f0db74633ba945625f7ba0a93": {
          "model_module": "@jupyter-widgets/controls",
          "model_name": "DropdownModel",
          "model_module_version": "1.5.0",
          "state": {
            "_dom_classes": [],
            "_model_module": "@jupyter-widgets/controls",
            "_model_module_version": "1.5.0",
            "_model_name": "DropdownModel",
            "_options_labels": [
              "funcionando",
              "no funcionando"
            ],
            "_view_count": null,
            "_view_module": "@jupyter-widgets/controls",
            "_view_module_version": "1.5.0",
            "_view_name": "DropdownView",
            "description": "Bomba 1:",
            "description_tooltip": null,
            "disabled": false,
            "index": 0,
            "layout": "IPY_MODEL_7799c66a683142548a5d5adeb6b83a07",
            "style": "IPY_MODEL_418ef79042a940ea9a257fe528123e5c"
          }
        },
        "7799c66a683142548a5d5adeb6b83a07": {
          "model_module": "@jupyter-widgets/base",
          "model_name": "LayoutModel",
          "model_module_version": "1.2.0",
          "state": {
            "_model_module": "@jupyter-widgets/base",
            "_model_module_version": "1.2.0",
            "_model_name": "LayoutModel",
            "_view_count": null,
            "_view_module": "@jupyter-widgets/base",
            "_view_module_version": "1.2.0",
            "_view_name": "LayoutView",
            "align_content": null,
            "align_items": null,
            "align_self": null,
            "border": null,
            "bottom": null,
            "display": null,
            "flex": null,
            "flex_flow": null,
            "grid_area": null,
            "grid_auto_columns": null,
            "grid_auto_flow": null,
            "grid_auto_rows": null,
            "grid_column": null,
            "grid_gap": null,
            "grid_row": null,
            "grid_template_areas": null,
            "grid_template_columns": null,
            "grid_template_rows": null,
            "height": null,
            "justify_content": null,
            "justify_items": null,
            "left": null,
            "margin": null,
            "max_height": null,
            "max_width": null,
            "min_height": null,
            "min_width": null,
            "object_fit": null,
            "object_position": null,
            "order": null,
            "overflow": null,
            "overflow_x": null,
            "overflow_y": null,
            "padding": null,
            "right": null,
            "top": null,
            "visibility": null,
            "width": null
          }
        },
        "418ef79042a940ea9a257fe528123e5c": {
          "model_module": "@jupyter-widgets/controls",
          "model_name": "DescriptionStyleModel",
          "model_module_version": "1.5.0",
          "state": {
            "_model_module": "@jupyter-widgets/controls",
            "_model_module_version": "1.5.0",
            "_model_name": "DescriptionStyleModel",
            "_view_count": null,
            "_view_module": "@jupyter-widgets/base",
            "_view_module_version": "1.2.0",
            "_view_name": "StyleView",
            "description_width": ""
          }
        },
        "a88536cba19247b28a73e61c591749ef": {
          "model_module": "@jupyter-widgets/controls",
          "model_name": "DropdownModel",
          "model_module_version": "1.5.0",
          "state": {
            "_dom_classes": [],
            "_model_module": "@jupyter-widgets/controls",
            "_model_module_version": "1.5.0",
            "_model_name": "DropdownModel",
            "_options_labels": [
              "funcionando",
              "no funcionando"
            ],
            "_view_count": null,
            "_view_module": "@jupyter-widgets/controls",
            "_view_module_version": "1.5.0",
            "_view_name": "DropdownView",
            "description": "Bomba 2:",
            "description_tooltip": null,
            "disabled": false,
            "index": 0,
            "layout": "IPY_MODEL_b777b6550992429ebda62f6f68c26578",
            "style": "IPY_MODEL_054e9475e5e94da3b2a777f8fdf5613e"
          }
        },
        "b777b6550992429ebda62f6f68c26578": {
          "model_module": "@jupyter-widgets/base",
          "model_name": "LayoutModel",
          "model_module_version": "1.2.0",
          "state": {
            "_model_module": "@jupyter-widgets/base",
            "_model_module_version": "1.2.0",
            "_model_name": "LayoutModel",
            "_view_count": null,
            "_view_module": "@jupyter-widgets/base",
            "_view_module_version": "1.2.0",
            "_view_name": "LayoutView",
            "align_content": null,
            "align_items": null,
            "align_self": null,
            "border": null,
            "bottom": null,
            "display": null,
            "flex": null,
            "flex_flow": null,
            "grid_area": null,
            "grid_auto_columns": null,
            "grid_auto_flow": null,
            "grid_auto_rows": null,
            "grid_column": null,
            "grid_gap": null,
            "grid_row": null,
            "grid_template_areas": null,
            "grid_template_columns": null,
            "grid_template_rows": null,
            "height": null,
            "justify_content": null,
            "justify_items": null,
            "left": null,
            "margin": null,
            "max_height": null,
            "max_width": null,
            "min_height": null,
            "min_width": null,
            "object_fit": null,
            "object_position": null,
            "order": null,
            "overflow": null,
            "overflow_x": null,
            "overflow_y": null,
            "padding": null,
            "right": null,
            "top": null,
            "visibility": null,
            "width": null
          }
        },
        "054e9475e5e94da3b2a777f8fdf5613e": {
          "model_module": "@jupyter-widgets/controls",
          "model_name": "DescriptionStyleModel",
          "model_module_version": "1.5.0",
          "state": {
            "_model_module": "@jupyter-widgets/controls",
            "_model_module_version": "1.5.0",
            "_model_name": "DescriptionStyleModel",
            "_view_count": null,
            "_view_module": "@jupyter-widgets/base",
            "_view_module_version": "1.2.0",
            "_view_name": "StyleView",
            "description_width": ""
          }
        },
        "46f07bbabf004e8ea9abb1bd54b5b523": {
          "model_module": "@jupyter-widgets/controls",
          "model_name": "DropdownModel",
          "model_module_version": "1.5.0",
          "state": {
            "_dom_classes": [],
            "_model_module": "@jupyter-widgets/controls",
            "_model_module_version": "1.5.0",
            "_model_name": "DropdownModel",
            "_options_labels": [
              "funcionando",
              "no funcionando"
            ],
            "_view_count": null,
            "_view_module": "@jupyter-widgets/controls",
            "_view_module_version": "1.5.0",
            "_view_name": "DropdownView",
            "description": "Sensor 1:",
            "description_tooltip": null,
            "disabled": false,
            "index": 0,
            "layout": "IPY_MODEL_889aa0af63fe4a7ab66dffbcec08c097",
            "style": "IPY_MODEL_cd4a5f60bdf84eae8486421d223c1d4d"
          }
        },
        "889aa0af63fe4a7ab66dffbcec08c097": {
          "model_module": "@jupyter-widgets/base",
          "model_name": "LayoutModel",
          "model_module_version": "1.2.0",
          "state": {
            "_model_module": "@jupyter-widgets/base",
            "_model_module_version": "1.2.0",
            "_model_name": "LayoutModel",
            "_view_count": null,
            "_view_module": "@jupyter-widgets/base",
            "_view_module_version": "1.2.0",
            "_view_name": "LayoutView",
            "align_content": null,
            "align_items": null,
            "align_self": null,
            "border": null,
            "bottom": null,
            "display": null,
            "flex": null,
            "flex_flow": null,
            "grid_area": null,
            "grid_auto_columns": null,
            "grid_auto_flow": null,
            "grid_auto_rows": null,
            "grid_column": null,
            "grid_gap": null,
            "grid_row": null,
            "grid_template_areas": null,
            "grid_template_columns": null,
            "grid_template_rows": null,
            "height": null,
            "justify_content": null,
            "justify_items": null,
            "left": null,
            "margin": null,
            "max_height": null,
            "max_width": null,
            "min_height": null,
            "min_width": null,
            "object_fit": null,
            "object_position": null,
            "order": null,
            "overflow": null,
            "overflow_x": null,
            "overflow_y": null,
            "padding": null,
            "right": null,
            "top": null,
            "visibility": null,
            "width": null
          }
        },
        "cd4a5f60bdf84eae8486421d223c1d4d": {
          "model_module": "@jupyter-widgets/controls",
          "model_name": "DescriptionStyleModel",
          "model_module_version": "1.5.0",
          "state": {
            "_model_module": "@jupyter-widgets/controls",
            "_model_module_version": "1.5.0",
            "_model_name": "DescriptionStyleModel",
            "_view_count": null,
            "_view_module": "@jupyter-widgets/base",
            "_view_module_version": "1.2.0",
            "_view_name": "StyleView",
            "description_width": ""
          }
        },
        "ec57fcbeb6e54efd8b8d576a09b19312": {
          "model_module": "@jupyter-widgets/controls",
          "model_name": "DropdownModel",
          "model_module_version": "1.5.0",
          "state": {
            "_dom_classes": [],
            "_model_module": "@jupyter-widgets/controls",
            "_model_module_version": "1.5.0",
            "_model_name": "DropdownModel",
            "_options_labels": [
              "funcionando",
              "no funcionando"
            ],
            "_view_count": null,
            "_view_module": "@jupyter-widgets/controls",
            "_view_module_version": "1.5.0",
            "_view_name": "DropdownView",
            "description": "Sensor 2:",
            "description_tooltip": null,
            "disabled": false,
            "index": 0,
            "layout": "IPY_MODEL_b441affd289340119cc49b6df1d4e0bf",
            "style": "IPY_MODEL_915402412cc14bf5a1b00993b6a5307c"
          }
        },
        "b441affd289340119cc49b6df1d4e0bf": {
          "model_module": "@jupyter-widgets/base",
          "model_name": "LayoutModel",
          "model_module_version": "1.2.0",
          "state": {
            "_model_module": "@jupyter-widgets/base",
            "_model_module_version": "1.2.0",
            "_model_name": "LayoutModel",
            "_view_count": null,
            "_view_module": "@jupyter-widgets/base",
            "_view_module_version": "1.2.0",
            "_view_name": "LayoutView",
            "align_content": null,
            "align_items": null,
            "align_self": null,
            "border": null,
            "bottom": null,
            "display": null,
            "flex": null,
            "flex_flow": null,
            "grid_area": null,
            "grid_auto_columns": null,
            "grid_auto_flow": null,
            "grid_auto_rows": null,
            "grid_column": null,
            "grid_gap": null,
            "grid_row": null,
            "grid_template_areas": null,
            "grid_template_columns": null,
            "grid_template_rows": null,
            "height": null,
            "justify_content": null,
            "justify_items": null,
            "left": null,
            "margin": null,
            "max_height": null,
            "max_width": null,
            "min_height": null,
            "min_width": null,
            "object_fit": null,
            "object_position": null,
            "order": null,
            "overflow": null,
            "overflow_x": null,
            "overflow_y": null,
            "padding": null,
            "right": null,
            "top": null,
            "visibility": null,
            "width": null
          }
        },
        "915402412cc14bf5a1b00993b6a5307c": {
          "model_module": "@jupyter-widgets/controls",
          "model_name": "DescriptionStyleModel",
          "model_module_version": "1.5.0",
          "state": {
            "_model_module": "@jupyter-widgets/controls",
            "_model_module_version": "1.5.0",
            "_model_name": "DescriptionStyleModel",
            "_view_count": null,
            "_view_module": "@jupyter-widgets/base",
            "_view_module_version": "1.2.0",
            "_view_name": "StyleView",
            "description_width": ""
          }
        },
        "8bc387a37d544c258b0692a07ad7ed87": {
          "model_module": "@jupyter-widgets/controls",
          "model_name": "DropdownModel",
          "model_module_version": "1.5.0",
          "state": {
            "_dom_classes": [],
            "_model_module": "@jupyter-widgets/controls",
            "_model_module_version": "1.5.0",
            "_model_name": "DropdownModel",
            "_options_labels": [
              "verde",
              "amarillo",
              "rojo"
            ],
            "_view_count": null,
            "_view_module": "@jupyter-widgets/controls",
            "_view_module_version": "1.5.0",
            "_view_name": "DropdownView",
            "description": "Estado semáforo:",
            "description_tooltip": null,
            "disabled": false,
            "index": 0,
            "layout": "IPY_MODEL_25840f5054164c6982bcfa8070f59a30",
            "style": "IPY_MODEL_1b7b590a63d34674a59e7c67460faaec"
          }
        },
        "25840f5054164c6982bcfa8070f59a30": {
          "model_module": "@jupyter-widgets/base",
          "model_name": "LayoutModel",
          "model_module_version": "1.2.0",
          "state": {
            "_model_module": "@jupyter-widgets/base",
            "_model_module_version": "1.2.0",
            "_model_name": "LayoutModel",
            "_view_count": null,
            "_view_module": "@jupyter-widgets/base",
            "_view_module_version": "1.2.0",
            "_view_name": "LayoutView",
            "align_content": null,
            "align_items": null,
            "align_self": null,
            "border": null,
            "bottom": null,
            "display": null,
            "flex": null,
            "flex_flow": null,
            "grid_area": null,
            "grid_auto_columns": null,
            "grid_auto_flow": null,
            "grid_auto_rows": null,
            "grid_column": null,
            "grid_gap": null,
            "grid_row": null,
            "grid_template_areas": null,
            "grid_template_columns": null,
            "grid_template_rows": null,
            "height": null,
            "justify_content": null,
            "justify_items": null,
            "left": null,
            "margin": null,
            "max_height": null,
            "max_width": null,
            "min_height": null,
            "min_width": null,
            "object_fit": null,
            "object_position": null,
            "order": null,
            "overflow": null,
            "overflow_x": null,
            "overflow_y": null,
            "padding": null,
            "right": null,
            "top": null,
            "visibility": null,
            "width": null
          }
        },
        "1b7b590a63d34674a59e7c67460faaec": {
          "model_module": "@jupyter-widgets/controls",
          "model_name": "DescriptionStyleModel",
          "model_module_version": "1.5.0",
          "state": {
            "_model_module": "@jupyter-widgets/controls",
            "_model_module_version": "1.5.0",
            "_model_name": "DescriptionStyleModel",
            "_view_count": null,
            "_view_module": "@jupyter-widgets/base",
            "_view_module_version": "1.2.0",
            "_view_name": "StyleView",
            "description_width": ""
          }
        },
        "2ee11dcd0b254d1db614b8544117a9a4": {
          "model_module": "@jupyter-widgets/controls",
          "model_name": "TextModel",
          "model_module_version": "1.5.0",
          "state": {
            "_dom_classes": [],
            "_model_module": "@jupyter-widgets/controls",
            "_model_module_version": "1.5.0",
            "_model_name": "TextModel",
            "_view_count": null,
            "_view_module": "@jupyter-widgets/controls",
            "_view_module_version": "1.5.0",
            "_view_name": "TextView",
            "continuous_update": true,
            "description": "Ciudad:",
            "description_tooltip": null,
            "disabled": false,
            "layout": "IPY_MODEL_9be0435248d64792963078d7748083a4",
            "placeholder": "​",
            "style": "IPY_MODEL_58ce72c4a70d401cb3fd60236ba577f2",
            "value": "Ancud"
          }
        },
        "9be0435248d64792963078d7748083a4": {
          "model_module": "@jupyter-widgets/base",
          "model_name": "LayoutModel",
          "model_module_version": "1.2.0",
          "state": {
            "_model_module": "@jupyter-widgets/base",
            "_model_module_version": "1.2.0",
            "_model_name": "LayoutModel",
            "_view_count": null,
            "_view_module": "@jupyter-widgets/base",
            "_view_module_version": "1.2.0",
            "_view_name": "LayoutView",
            "align_content": null,
            "align_items": null,
            "align_self": null,
            "border": null,
            "bottom": null,
            "display": null,
            "flex": null,
            "flex_flow": null,
            "grid_area": null,
            "grid_auto_columns": null,
            "grid_auto_flow": null,
            "grid_auto_rows": null,
            "grid_column": null,
            "grid_gap": null,
            "grid_row": null,
            "grid_template_areas": null,
            "grid_template_columns": null,
            "grid_template_rows": null,
            "height": null,
            "justify_content": null,
            "justify_items": null,
            "left": null,
            "margin": null,
            "max_height": null,
            "max_width": null,
            "min_height": null,
            "min_width": null,
            "object_fit": null,
            "object_position": null,
            "order": null,
            "overflow": null,
            "overflow_x": null,
            "overflow_y": null,
            "padding": null,
            "right": null,
            "top": null,
            "visibility": null,
            "width": null
          }
        },
        "58ce72c4a70d401cb3fd60236ba577f2": {
          "model_module": "@jupyter-widgets/controls",
          "model_name": "DescriptionStyleModel",
          "model_module_version": "1.5.0",
          "state": {
            "_model_module": "@jupyter-widgets/controls",
            "_model_module_version": "1.5.0",
            "_model_name": "DescriptionStyleModel",
            "_view_count": null,
            "_view_module": "@jupyter-widgets/base",
            "_view_module_version": "1.2.0",
            "_view_name": "StyleView",
            "description_width": ""
          }
        },
        "f13211f0fb184dd8b0ce264c9f9807f1": {
          "model_module": "@jupyter-widgets/output",
          "model_name": "OutputModel",
          "model_module_version": "1.0.0",
          "state": {
            "_dom_classes": [],
            "_model_module": "@jupyter-widgets/output",
            "_model_module_version": "1.0.0",
            "_model_name": "OutputModel",
            "_view_count": null,
            "_view_module": "@jupyter-widgets/output",
            "_view_module_version": "1.0.0",
            "_view_name": "OutputView",
            "layout": "IPY_MODEL_9f714023b1c147fda1b5f2a0c1943952",
            "msg_id": "",
            "outputs": [
              {
                "output_type": "stream",
                "name": "stdout",
                "text": [
                  "Distribución optimizada de autobuses en Ancud:\n",
                  "Fitness del plan de distribución: 48\n",
                  "  - Zona: Centro, Número de autobuses: 1\n",
                  "  - Zona: Villa Chacao, Número de autobuses: 8\n",
                  "  - Zona: Pudeto, Número de autobuses: 2\n",
                  "  - Zona: Fátima, Número de autobuses: 9\n",
                  "  - Zona: Quetalmahue, Número de autobuses: 1\n",
                  "  - Zona: Pumillahue, Número de autobuses: 9\n",
                  "  - Zona: Lechagua, Número de autobuses: 4\n",
                  "  - Zona: Calen, Número de autobuses: 1\n",
                  "  - Zona: Pugueñún, Número de autobuses: 2\n",
                  "  - Zona: Caulín, Número de autobuses: 9\n"
                ]
              },
              {
                "output_type": "display_data",
                "data": {
                  "text/plain": "<Figure size 640x480 with 1 Axes>",
                  "image/png": "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\n"
                },
                "metadata": {}
              },
              {
                "output_type": "stream",
                "name": "stdout",
                "text": [
                  "\n",
                  "Recomendaciones de intensidad de luces en Ancud según simulaciones:\n",
                  "  - Hora del día: 12:00 PM\n",
                  "  - Nivel de tráfico: 50%\n",
                  "  - Condición climática: 50%\n",
                  "  - Intensidad de luces recomendada: 0.00%\n"
                ]
              },
              {
                "output_type": "display_data",
                "data": {
                  "text/plain": "<Figure size 640x480 with 1 Axes>",
                  "image/png": "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\n"
                },
                "metadata": {}
              },
              {
                "output_type": "stream",
                "name": "stdout",
                "text": [
                  "\n",
                  "Resultados de la lógica proposicional para el control de tráfico en Ancud:\n",
                  "\n",
                  "Resultados de la lógica de primer orden para el control de tráfico en Ancud:\n",
                  "\n",
                  "Estados inicial y final de los sistemas de agua en Ancud:\n",
                  "  - Estado inicial: ['normal', 'abierta', 'abierta', 'funcionando', 'funcionando', 'funcionando', 'funcionando']\n",
                  "  - Estado final: ['normal', 'abierta', 'abierta', 'funcionando', 'funcionando', 'funcionando', 'funcionando']\n"
                ]
              },
              {
                "output_type": "display_data",
                "data": {
                  "text/plain": "<Figure size 640x480 with 1 Axes>",
                  "image/png": "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\n"
                },
                "metadata": {}
              },
              {
                "output_type": "stream",
                "name": "stdout",
                "text": [
                  "\n",
                  "Información detallada sobre la infraestructura en Ancud:\n",
                  "Información sobre 'Carretera1':\n",
                  "  - Tipo: carretera\n",
                  "  - Estado: bueno\n",
                  "  - Longitud: 10 km\n",
                  "  - Conexiones: Tuberia1, CableElectrico1\n",
                  "  - Camino más corto entre 'Carretera1' y 'SubestacionElectrica1': Carretera1, CableElectrico1, SubestacionElectrica1\n",
                  "\n",
                  "Información sobre 'Tuberia1':\n",
                  "  - Tipo: tuberia\n",
                  "  - Estado: malo\n",
                  "  - Capacidad: 100 L\n",
                  "  - Conexiones: Carretera1, EstacionBombeo1\n",
                  "  - Camino más corto entre 'Tuberia1' y 'SubestacionElectrica1': Tuberia1, Carretera1, CableElectrico1, SubestacionElectrica1\n"
                ]
              },
              {
                "output_type": "display_data",
                "data": {
                  "text/plain": "<Figure size 640x480 with 1 Axes>",
                  "image/png": "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\n"
                },
                "metadata": {}
              },
              {
                "output_type": "display_data",
                "data": {
                  "text/plain": "<Figure size 640x480 with 1 Axes>",
                  "image/png": "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\n"
                },
                "metadata": {}
              }
            ]
          }
        },
        "9f714023b1c147fda1b5f2a0c1943952": {
          "model_module": "@jupyter-widgets/base",
          "model_name": "LayoutModel",
          "model_module_version": "1.2.0",
          "state": {
            "_model_module": "@jupyter-widgets/base",
            "_model_module_version": "1.2.0",
            "_model_name": "LayoutModel",
            "_view_count": null,
            "_view_module": "@jupyter-widgets/base",
            "_view_module_version": "1.2.0",
            "_view_name": "LayoutView",
            "align_content": null,
            "align_items": null,
            "align_self": null,
            "border": null,
            "bottom": null,
            "display": null,
            "flex": null,
            "flex_flow": null,
            "grid_area": null,
            "grid_auto_columns": null,
            "grid_auto_flow": null,
            "grid_auto_rows": null,
            "grid_column": null,
            "grid_gap": null,
            "grid_row": null,
            "grid_template_areas": null,
            "grid_template_columns": null,
            "grid_template_rows": null,
            "height": null,
            "justify_content": null,
            "justify_items": null,
            "left": null,
            "margin": null,
            "max_height": null,
            "max_width": null,
            "min_height": null,
            "min_width": null,
            "object_fit": null,
            "object_position": null,
            "order": null,
            "overflow": null,
            "overflow_x": null,
            "overflow_y": null,
            "padding": null,
            "right": null,
            "top": null,
            "visibility": null,
            "width": null
          }
        }
      }
    }
  },
  "cells": [
    {
      "cell_type": "markdown",
      "metadata": {
        "id": "view-in-github",
        "colab_type": "text"
      },
      "source": [
        "<a href=\"https://colab.research.google.com/github/michaelarjelm/evaluacionTresIA/blob/main/Evaluacion_3.ipynb\" target=\"_parent\"><img src=\"https://colab.research.google.com/assets/colab-badge.svg\" alt=\"Open In Colab\"/></a>"
      ]
    },
    {
      "cell_type": "markdown",
      "source": [
        "# Introducción"
      ],
      "metadata": {
        "id": "DSQLmU6KMD0b"
      }
    },
    {
      "cell_type": "markdown",
      "source": [
        "Estamos implementando un avanzado sistema de Smart City para transformar Ancud en una ciudad inteligente. Ancud, una pintoresca ciudad ubicada en el norte de la Isla de Chiloé en Chile, es conocida por su rica historia, hermosos paisajes y vibrante cultura local. Este sistema integrará tecnologías de última generación para optimizar y mejorar diversos aspectos de la vida urbana, incluyendo la gestión del tráfico, la administración del suministro de agua, y la infraestructura pública. Utilizando técnicas de inteligencia artificial, control difuso, y teoría de juegos de Nash, nuestro objetivo es crear una ciudad más eficiente, segura y sostenible, mejorando así la calidad de vida de sus habitantes y posicionando a Ancud como un modelo de innovación y modernidad en la región.\n",
        "\n",
        "\n",
        "\n",
        "\n"
      ],
      "metadata": {
        "id": "cEZnJjzBNC1S"
      }
    },
    {
      "cell_type": "markdown",
      "source": [],
      "metadata": {
        "id": "MtEVxqgFMKwq"
      }
    },
    {
      "cell_type": "markdown",
      "source": [
        "# Importar bibliotecas necesarias\n",
        "\n"
      ],
      "metadata": {
        "id": "nA5wMi0E-fsa"
      }
    },
    {
      "cell_type": "code",
      "execution_count": 34,
      "metadata": {
        "colab": {
          "base_uri": "https://localhost:8080/"
        },
        "id": "ZOLTQKVW2zjW",
        "outputId": "45bd549b-1d2e-4b75-d9ef-a0023a0764a1"
      },
      "outputs": [
        {
          "output_type": "stream",
          "name": "stdout",
          "text": [
            "Requirement already satisfied: scikit-fuzzy in /usr/local/lib/python3.10/dist-packages (0.4.2)\n",
            "Requirement already satisfied: numpy>=1.6.0 in /usr/local/lib/python3.10/dist-packages (from scikit-fuzzy) (1.25.2)\n",
            "Requirement already satisfied: scipy>=0.9.0 in /usr/local/lib/python3.10/dist-packages (from scikit-fuzzy) (1.11.4)\n",
            "Requirement already satisfied: networkx>=1.9.0 in /usr/local/lib/python3.10/dist-packages (from scikit-fuzzy) (3.3)\n",
            "Requirement already satisfied: nashpy in /usr/local/lib/python3.10/dist-packages (0.0.41)\n",
            "Requirement already satisfied: numpy>=1.21.0 in /usr/local/lib/python3.10/dist-packages (from nashpy) (1.25.2)\n",
            "Requirement already satisfied: scipy>=0.19.0 in /usr/local/lib/python3.10/dist-packages (from nashpy) (1.11.4)\n",
            "Requirement already satisfied: networkx>=3.0.0 in /usr/local/lib/python3.10/dist-packages (from nashpy) (3.3)\n",
            "Requirement already satisfied: deprecated>=1.2.14 in /usr/local/lib/python3.10/dist-packages (from nashpy) (1.2.14)\n",
            "Requirement already satisfied: wrapt<2,>=1.10 in /usr/local/lib/python3.10/dist-packages (from deprecated>=1.2.14->nashpy) (1.14.1)\n",
            "Requirement already satisfied: networkx in /usr/local/lib/python3.10/dist-packages (3.3)\n",
            "Requirement already satisfied: sympy in /usr/local/lib/python3.10/dist-packages (1.12.1)\n",
            "Requirement already satisfied: mpmath<1.4.0,>=1.1.0 in /usr/local/lib/python3.10/dist-packages (from sympy) (1.3.0)\n"
          ]
        }
      ],
      "source": [
        "!pip install scikit-fuzzy # Instala la biblioteca scikit-fuzzy, que proporciona herramientas para trabajar con lógica difusa.\n",
        "!pip install nashpy # Instala la biblioteca nashpy, que permite trabajar con teoría de juegos y encontrar equilibrios de Nash.\n",
        "!pip install networkx # Instala la biblioteca networkx, que proporciona herramientas para la creación, manipulación y estudio de la estructura, dinámica y funciones de redes complejas.\n",
        "!pip install sympy # Instala la biblioteca sympy, que es una biblioteca para cálculos simbólicos en Python.\n",
        "import ipywidgets as widgets # Importa la biblioteca ipywidgets para crear widgets interactivos en Jupyter notebooks.\n",
        "from IPython.display import display # Importa la función display de IPython.display para mostrar widgets en la salida del notebook.\n",
        "import numpy as np # Importa la biblioteca numpy para operaciones numéricas avanzadas.\n",
        "import skfuzzy as fuzz # Importa la biblioteca scikit-fuzzy para trabajar con lógica difusa.\n",
        "from skfuzzy import control as ctrl # Importa el módulo control de scikit-fuzzy para crear sistemas de control difusos.\n",
        "from datetime import datetime # Importa la clase datetime de la biblioteca datetime para manejar y manipular fechas y horas.\n",
        "import networkx as nx # Importa la biblioteca networkx para crear y manejar grafos y redes.\n",
        "from sympy import symbols, And, Implies, Not, satisfiable # Importa funciones y símbolos de la biblioteca sympy para cálculos simbólicos.\n",
        "from skfuzzy import control as ctrl # Importa el módulo control de scikit-fuzzy para crear sistemas de control difusos.\n",
        "from datetime import datetime # Importa la clase datetime de la biblioteca datetime para manejar y manipular fechas y horas.\n",
        "import networkx as nx  # Importa la biblioteca networkx para crear y manejar grafos y redes.\n",
        "import nashpy as nash  # Importa la biblioteca nashpy para trabajar con teoría de juegos y encontrar equilibrios de Nash.\n"
      ]
    },
    {
      "cell_type": "markdown",
      "source": [
        "# Creación Widgets para generar casos."
      ],
      "metadata": {
        "id": "LoVObObhAYzb"
      }
    },
    {
      "cell_type": "markdown",
      "source": [
        "Este código crea una interfaz interactiva en un notebook de Jupyter utilizando widgets para simular y gestionar un sistema de control de tráfico y un sistema de gestión de agua. Los usuarios pueden ajustar diferentes parámetros como la hora del día, el nivel de tráfico y la condición climática para ver cómo afectan la intensidad de las luces. También pueden ajustar el estado del suministro de agua, las válvulas, las bombas y los sensores para ver cómo estos cambios afectan el sistema de agua. Además, hay un selector para el estado del semáforo.\n",
        "\n",
        "Casos de uso.\n",
        "\n",
        "* Hora: 18:00 (hora punta)\n",
        "* Tráfico: 80%\n",
        "* Clima: Desfavorable\n",
        "* Madrugada con tráfico bajo y clima favorable:\n",
        "\n",
        "---------------------------------------------------------------------\n",
        "\n",
        "* Hora: 3:00\n",
        "* Tráfico: 10%\n",
        "* Clima: Favorable\n",
        "* Estado crítico del suministro de agua:\n",
        "\n",
        "----------------------------------------------------------------------\n",
        "\n",
        "* Estado del suministro: sin agua\n",
        "* Válvulas: cerradas\n",
        "* Bombas: no funcionando\n",
        "* Sensores: no funcionando\n",
        "* Condiciones normales durante el día:\n",
        "\n",
        "----------------------------------------------------------------------\n",
        "\n",
        "* Hora: 12:00\n",
        "* Tráfico: 50%\n",
        "* Clima: Normal\n",
        "* Estado del suministro: normal\n",
        "* Válvulas: abiertas\n",
        "* Bombas: funcionando\n",
        "* Sensores: funcionando\n",
        "\n"
      ],
      "metadata": {
        "id": "eSAN5OozB3ia"
      }
    },
    {
      "cell_type": "code",
      "source": [
        "# Parámetros configurables para el sistema de control de tráfico\n",
        "# Crea un slider para seleccionar la hora del día.\n",
        "hora_slider = widgets.IntSlider(value=12, min=0, max=23, step=1, description='Hora:')\n",
        "\n",
        "# Crea un slider para seleccionar el nivel de tráfico en porcentaje.\n",
        "trafico_slider = widgets.IntSlider(value=50, min=0, max=100, step=10, description='Tráfico (%):')\n",
        "\n",
        "# Crea un desplegable para seleccionar la condición climática.\n",
        "clima_dropdown = widgets.Dropdown(\n",
        "    options=['Favorable', 'Normal', 'Desfavorable'],\n",
        "    value='Normal',\n",
        "    description='Clima:',\n",
        ")\n",
        "\n",
        "# Muestra los widgets de hora, tráfico y clima en la salida del notebook.\n",
        "display(hora_slider, trafico_slider, clima_dropdown)\n",
        "\n",
        "# Parámetros configurables para el sistema de gestión de agua\n",
        "# Crea un desplegable para seleccionar el estado del suministro de agua.\n",
        "estado_suministro_selector = widgets.Dropdown(\n",
        "    options=['normal', 'baja presión', 'sin agua'],\n",
        "    value='normal',\n",
        "    description='Estado suministro:'\n",
        ")\n",
        "\n",
        "# Crea un diccionario de widgets desplegables para seleccionar el estado de las válvulas.\n",
        "estado_valvulas_selectors = {\n",
        "    'valvula1': widgets.Dropdown(options=['abierta', 'cerrada'], value='abierta', description='Válvula 1:'),\n",
        "    'valvula2': widgets.Dropdown(options=['abierta', 'cerrada'], value='abierta', description='Válvula 2:')\n",
        "}\n",
        "\n",
        "# Crea un diccionario de widgets desplegables para seleccionar el estado de las bombas.\n",
        "estado_bombas_selectors = {\n",
        "    'bomba1': widgets.Dropdown(options=['funcionando', 'no funcionando'], value='funcionando', description='Bomba 1:'),\n",
        "    'bomba2': widgets.Dropdown(options=['funcionando', 'no funcionando'], value='funcionando', description='Bomba 2:')\n",
        "}\n",
        "\n",
        "# Crea un diccionario de widgets desplegables para seleccionar el estado de los sensores.\n",
        "estado_sensores_selectors = {\n",
        "    'sensor1': widgets.Dropdown(options=['funcionando', 'no funcionando'], value='funcionando', description='Sensor 1:'),\n",
        "    'sensor2': widgets.Dropdown(options=['funcionando', 'no funcionando'], value='funcionando', description='Sensor 2:')\n",
        "}\n",
        "\n",
        "# Muestra el widget del estado del suministro de agua en la salida del notebook.\n",
        "display(estado_suministro_selector)\n",
        "\n",
        "# Muestra los widgets del estado de las válvulas en la salida del notebook.\n",
        "for w in estado_valvulas_selectors.values():\n",
        "    display(w)\n",
        "\n",
        "# Muestra los widgets del estado de las bombas en la salida del notebook.\n",
        "for w in estado_bombas_selectors.values():\n",
        "    display(w)\n",
        "\n",
        "# Muestra los widgets del estado de los sensores en la salida del notebook.\n",
        "for w in estado_sensores_selectors.values():\n",
        "    display(w)\n",
        "\n",
        "# Crea un desplegable para seleccionar el estado del semáforo.\n",
        "semaforo_selector = widgets.Dropdown(\n",
        "    options=['verde', 'amarillo', 'rojo'],\n",
        "    value='verde',\n",
        "    description='Estado semáforo:'\n",
        ")\n",
        "\n",
        "# Muestra el widget del estado del semáforo en la salida del notebook.\n",
        "display(semaforo_selector)\n"
      ],
      "metadata": {
        "colab": {
          "base_uri": "https://localhost:8080/",
          "height": 349,
          "referenced_widgets": [
            "963f96f468c14eefa981f8b037887f08",
            "cb26206069a84cd9b56c7672e8dfde88",
            "274ed184c0ee4e098c95dc2f89a97aab",
            "be067f40d09b47e39e292dc4ab49adbf",
            "a5a45e7840e04cb38db618d09cfa05e7",
            "758ec54746824452a89eb4466c59efdb",
            "eaf9e15460854851a130d20093f3686c",
            "917db6e841464520ac1365207dae100f",
            "d08952e729084a3db8461fa3c9573122",
            "bd3b70cc8f6546389e03e9aeeb840ca1",
            "d075cea4b1224c92b3b88973c231aab5",
            "45f889909b59479780fa5effa949f55b",
            "5af67990d597483ca02b080bb0a36688",
            "c518ef0d1e284b64b3f8198e70e0d098",
            "9242b1dd4bb946f5b64de06fa7ffe502",
            "601ca93e8e984dc69bcd687cc238a82a",
            "a8b6163531b641f483cea334c74a00c1",
            "4ca8379dae254b90b80eb97ad9980186",
            "8c43294f0db74633ba945625f7ba0a93",
            "7799c66a683142548a5d5adeb6b83a07",
            "418ef79042a940ea9a257fe528123e5c",
            "a88536cba19247b28a73e61c591749ef",
            "b777b6550992429ebda62f6f68c26578",
            "054e9475e5e94da3b2a777f8fdf5613e",
            "46f07bbabf004e8ea9abb1bd54b5b523",
            "889aa0af63fe4a7ab66dffbcec08c097",
            "cd4a5f60bdf84eae8486421d223c1d4d",
            "ec57fcbeb6e54efd8b8d576a09b19312",
            "b441affd289340119cc49b6df1d4e0bf",
            "915402412cc14bf5a1b00993b6a5307c",
            "8bc387a37d544c258b0692a07ad7ed87",
            "25840f5054164c6982bcfa8070f59a30",
            "1b7b590a63d34674a59e7c67460faaec"
          ]
        },
        "id": "JamSHnhn24BB",
        "outputId": "743b9bfe-45ca-42f7-8ec9-65beefee0773"
      },
      "execution_count": 35,
      "outputs": [
        {
          "output_type": "display_data",
          "data": {
            "text/plain": [
              "IntSlider(value=12, description='Hora:', max=23)"
            ],
            "application/vnd.jupyter.widget-view+json": {
              "version_major": 2,
              "version_minor": 0,
              "model_id": "963f96f468c14eefa981f8b037887f08"
            }
          },
          "metadata": {}
        },
        {
          "output_type": "display_data",
          "data": {
            "text/plain": [
              "IntSlider(value=50, description='Tráfico (%):', step=10)"
            ],
            "application/vnd.jupyter.widget-view+json": {
              "version_major": 2,
              "version_minor": 0,
              "model_id": "be067f40d09b47e39e292dc4ab49adbf"
            }
          },
          "metadata": {}
        },
        {
          "output_type": "display_data",
          "data": {
            "text/plain": [
              "Dropdown(description='Clima:', index=1, options=('Favorable', 'Normal', 'Desfavorable'), value='Normal')"
            ],
            "application/vnd.jupyter.widget-view+json": {
              "version_major": 2,
              "version_minor": 0,
              "model_id": "eaf9e15460854851a130d20093f3686c"
            }
          },
          "metadata": {}
        },
        {
          "output_type": "display_data",
          "data": {
            "text/plain": [
              "Dropdown(description='Estado suministro:', options=('normal', 'baja presión', 'sin agua'), value='normal')"
            ],
            "application/vnd.jupyter.widget-view+json": {
              "version_major": 2,
              "version_minor": 0,
              "model_id": "bd3b70cc8f6546389e03e9aeeb840ca1"
            }
          },
          "metadata": {}
        },
        {
          "output_type": "display_data",
          "data": {
            "text/plain": [
              "Dropdown(description='Válvula 1:', options=('abierta', 'cerrada'), value='abierta')"
            ],
            "application/vnd.jupyter.widget-view+json": {
              "version_major": 2,
              "version_minor": 0,
              "model_id": "5af67990d597483ca02b080bb0a36688"
            }
          },
          "metadata": {}
        },
        {
          "output_type": "display_data",
          "data": {
            "text/plain": [
              "Dropdown(description='Válvula 2:', options=('abierta', 'cerrada'), value='abierta')"
            ],
            "application/vnd.jupyter.widget-view+json": {
              "version_major": 2,
              "version_minor": 0,
              "model_id": "601ca93e8e984dc69bcd687cc238a82a"
            }
          },
          "metadata": {}
        },
        {
          "output_type": "display_data",
          "data": {
            "text/plain": [
              "Dropdown(description='Bomba 1:', options=('funcionando', 'no funcionando'), value='funcionando')"
            ],
            "application/vnd.jupyter.widget-view+json": {
              "version_major": 2,
              "version_minor": 0,
              "model_id": "8c43294f0db74633ba945625f7ba0a93"
            }
          },
          "metadata": {}
        },
        {
          "output_type": "display_data",
          "data": {
            "text/plain": [
              "Dropdown(description='Bomba 2:', options=('funcionando', 'no funcionando'), value='funcionando')"
            ],
            "application/vnd.jupyter.widget-view+json": {
              "version_major": 2,
              "version_minor": 0,
              "model_id": "a88536cba19247b28a73e61c591749ef"
            }
          },
          "metadata": {}
        },
        {
          "output_type": "display_data",
          "data": {
            "text/plain": [
              "Dropdown(description='Sensor 1:', options=('funcionando', 'no funcionando'), value='funcionando')"
            ],
            "application/vnd.jupyter.widget-view+json": {
              "version_major": 2,
              "version_minor": 0,
              "model_id": "46f07bbabf004e8ea9abb1bd54b5b523"
            }
          },
          "metadata": {}
        },
        {
          "output_type": "display_data",
          "data": {
            "text/plain": [
              "Dropdown(description='Sensor 2:', options=('funcionando', 'no funcionando'), value='funcionando')"
            ],
            "application/vnd.jupyter.widget-view+json": {
              "version_major": 2,
              "version_minor": 0,
              "model_id": "ec57fcbeb6e54efd8b8d576a09b19312"
            }
          },
          "metadata": {}
        },
        {
          "output_type": "display_data",
          "data": {
            "text/plain": [
              "Dropdown(description='Estado semáforo:', options=('verde', 'amarillo', 'rojo'), value='verde')"
            ],
            "application/vnd.jupyter.widget-view+json": {
              "version_major": 2,
              "version_minor": 0,
              "model_id": "8bc387a37d544c258b0692a07ad7ed87"
            }
          },
          "metadata": {}
        }
      ]
    },
    {
      "cell_type": "markdown",
      "source": [
        "# Algoritmo Genético"
      ],
      "metadata": {
        "id": "ljDH6GT_AkYK"
      }
    },
    {
      "cell_type": "markdown",
      "source": [
        "Este código implementa un algoritmo genético para optimizar la distribución de autobuses en varias zonas. Define diferentes zonas y asigna costos y eficiencias a cada una. El objetivo es encontrar la mejor distribución de autobuses que maximice la eficiencia y minimice los costos.\n",
        "\n",
        "El proceso comienza creando una población inicial de soluciones posibles. Luego, el algoritmo evalúa qué tan buena es cada solución (su \"fitness\") y selecciona las mejores para la siguiente generación. Las mejores soluciones se cruzan y mutan para crear nuevas soluciones. Este ciclo de evaluación, selección, cruce y mutación se repite durante varias generaciones para mejorar las soluciones gradualmente."
      ],
      "metadata": {
        "id": "G8ACVEmJKwV0"
      }
    },
    {
      "cell_type": "code",
      "source": [
        "\n",
        "# Definición de las zonas a considerar en el problema.\n",
        "zonas = [\"Centro\", \"Villa Chacao\", \"Pudeto\", \"Fátima\", \"Quetalmahue\", \"Pumillahue\", \"Lechagua\", \"Calen\", \"Pugueñún\", \"Caulín\"]\n",
        "\n",
        "# Costos asociados a cada zona, almacenados en un array numpy.\n",
        "costos = np.array([10, 8, 9, 7, 6, 5, 8, 7, 9, 6])\n",
        "\n",
        "# Eficiencia asociada a cada zona, almacenada en un array numpy.\n",
        "eficiencia = np.array([8, 9, 7, 8, 6, 9, 7, 5, 8, 7])\n",
        "\n",
        "# Función para calcular el \"fitness\" (aptitud) de una distribución dada.\n",
        "def calcular_fitness(distribucion):\n",
        "    # Calcula el costo total multiplicando la distribución por los costos y sumando los resultados.\n",
        "    costo_total = np.sum(distribucion * costos)\n",
        "    # Calcula la eficiencia total multiplicando la distribución por las eficiencias y sumando los resultados.\n",
        "    eficiencia_total = np.sum(distribucion * eficiencia)\n",
        "    # Devuelve la diferencia entre la eficiencia total y el costo total como el valor de aptitud.\n",
        "    return eficiencia_total - costo_total\n",
        "\n",
        "# Función para generar una población inicial de soluciones.\n",
        "def generar_poblacion_inicial(tamano_poblacion, distribucion_inicial):\n",
        "    poblacion = []\n",
        "    # Crea una lista de distribuciones iniciales copiadas tamano_poblacion veces.\n",
        "    for _ in range(tamano_poblacion):\n",
        "        poblacion.append(distribucion_inicial.copy())\n",
        "    # Devuelve la población como un array numpy.\n",
        "    return np.array(poblacion)\n",
        "\n",
        "# Función para seleccionar los individuos más aptos de la población.\n",
        "def seleccion(poblacion, fitness_poblacion, num_seleccionados):\n",
        "    # Ordena los índices de la población en función de los valores de aptitud (fitness) en orden descendente.\n",
        "    indices_seleccionados = np.argsort(fitness_poblacion)[-num_seleccionados:]\n",
        "    # Devuelve la subpoblación de los individuos seleccionados.\n",
        "    return poblacion[indices_seleccionados]\n",
        "\n",
        "# Función para cruzar (mezclar) dos individuos (padres) y generar dos nuevos individuos (hijos).\n",
        "def cruce(padre1, padre2):\n",
        "    # Elige un punto de cruce aleatorio.\n",
        "    punto_cruce = np.random.randint(1, len(padre1) - 1)\n",
        "    # Genera dos hijos combinando las partes de los padres a partir del punto de cruce.\n",
        "    hijo1 = np.concatenate((padre1[:punto_cruce], padre2[punto_cruce:]))\n",
        "    hijo2 = np.concatenate((padre2[:punto_cruce], padre1[punto_cruce:]))\n",
        "    # Devuelve los dos hijos.\n",
        "    return hijo1, hijo2\n",
        "\n",
        "# Función para mutar (modificar aleatoriamente) un individuo.\n",
        "def mutacion(individuo, tasa_mutacion=0.01):\n",
        "    # Itera sobre cada gen en el individuo.\n",
        "    for i in range(len(individuo)):\n",
        "        # Si un número aleatorio es menor que la tasa de mutación, cambia el gen a un valor aleatorio.\n",
        "        if np.random.rand() < tasa_mutacion:\n",
        "            individuo[i] = np.random.randint(1, 10)  # Ejemplo de mutación\n",
        "    # Devuelve el individuo mutado.\n",
        "    return individuo\n",
        "\n",
        "# Función principal del ciclo del algoritmo genético.\n",
        "def ciclo_algoritmo_genetico(tamano_poblacion, num_generaciones, tasa_cruce, tasa_mutacion):\n",
        "    # Genera una distribución inicial aleatoria.\n",
        "    distribucion_inicial = np.random.randint(1, 10, size=len(costos))\n",
        "    # Genera la población inicial basada en la distribución inicial.\n",
        "    poblacion = generar_poblacion_inicial(tamano_poblacion, distribucion_inicial)\n",
        "    # Itera sobre el número de generaciones especificado.\n",
        "    for _ in range(num_generaciones):\n",
        "        # Calcula la aptitud (fitness) de cada individuo en la población.\n",
        "        fitness_poblacion = np.array([calcular_fitness(ind) for ind in poblacion])\n",
        "        # Selecciona la mitad superior de la población basada en la aptitud.\n",
        "        poblacion = seleccion(poblacion, fitness_poblacion, tamano_poblacion // 2)\n",
        "        nueva_poblacion = []\n",
        "        # Genera una nueva población mediante cruces y mutaciones hasta alcanzar el tamaño de la población inicial.\n",
        "        while len(nueva_poblacion) < tamano_poblacion:\n",
        "            # Selecciona dos padres aleatorios de la población seleccionada.\n",
        "            padre1, padre2 = poblacion[np.random.choice(poblacion.shape[0], 2, replace=False)]\n",
        "            # Realiza un cruce con una probabilidad igual a la tasa de cruce.\n",
        "            if np.random.rand() < tasa_cruce:\n",
        "                hijo1, hijo2 = cruce(padre1, padre2)\n",
        "            else:\n",
        "                hijo1, hijo2 = padre1.copy(), padre2.copy()\n",
        "            # Realiza una mutación en los hijos con la tasa de mutación especificada.\n",
        "            hijo1 = mutacion(hijo1, tasa_mutacion)\n",
        "            hijo2 = mutacion(hijo2, tasa_mutacion)\n",
        "            # Añade los hijos a la nueva población.\n",
        "            nueva_poblacion.append(hijo1)\n",
        "            nueva_poblacion.append(hijo2)\n",
        "        # Reemplaza la población antigua con la nueva.\n",
        "        poblacion = np.array(nueva_poblacion)\n",
        "    # Devuelve la población final después de todas las generaciones.\n",
        "    return poblacion\n"
      ],
      "metadata": {
        "id": "pAtGukn526jv"
      },
      "execution_count": 36,
      "outputs": []
    },
    {
      "cell_type": "markdown",
      "source": [],
      "metadata": {
        "id": "8UZO-jCdLAsr"
      }
    },
    {
      "cell_type": "markdown",
      "source": [
        "# Lógica Difusa"
      ],
      "metadata": {
        "id": "la1LvgLrAu1p"
      }
    },
    {
      "cell_type": "markdown",
      "source": [
        "Este código implementa un sistema de control difuso para ajustar la intensidad de las luces en función de la hora del día, el nivel de tráfico y las condiciones climáticas. Se definen variables difusas para cada uno de estos factores y se establecen funciones de pertenencia para categorizar los datos en términos como \"madrugada\", \"tráfico alto\" o \"clima lluvioso\". Luego, se crean reglas difusas para determinar la intensidad de las luces según las combinaciones de estas categorías. La función simular_intensidad toma valores específicos de hora, tráfico y clima, ejecuta la simulación y devuelve la intensidad de luz recomendada en un formato fácil de entender.\n",
        "\n",
        "\n",
        "\n",
        "\n",
        "\n",
        "\n"
      ],
      "metadata": {
        "id": "__i24W6LK_-K"
      }
    },
    {
      "cell_type": "code",
      "source": [
        "\n",
        "# Definiciones del Control Difuso\n",
        "# Crea una variable difusa (antecedente) para la hora del día, con un rango de 0 a 23.\n",
        "hora = ctrl.Antecedent(np.arange(0, 24, 1), 'hora')\n",
        "\n",
        "# Crea una variable difusa (antecedente) para el nivel de tráfico, con un rango de 0 a 100.\n",
        "trafico = ctrl.Antecedent(np.arange(0, 101, 1), 'trafico')\n",
        "\n",
        "# Crea una variable difusa (antecedente) para el clima, con un rango de 0 a 100.\n",
        "clima = ctrl.Antecedent(np.arange(0, 101, 1), 'clima')\n",
        "\n",
        "# Crea una variable difusa (consecuente) para la intensidad de las luces, con un rango de 0 a 100.\n",
        "intensidad = ctrl.Consequent(np.arange(0, 101, 1), 'intensidad')\n",
        "\n",
        "# Define las funciones de pertenencia para la variable 'hora'.\n",
        "hora['madrugada'] = fuzz.trapmf(hora.universe, [0, 0, 4, 6])\n",
        "hora['mañana'] = fuzz.trapmf(hora.universe, [4, 6, 10, 12])\n",
        "hora['tarde'] = fuzz.trapmf(hora.universe, [10, 12, 16, 18])\n",
        "hora['noche'] = fuzz.trapmf(hora.universe, [16, 18, 24, 24])\n",
        "\n",
        "# Define las funciones de pertenencia para la variable 'trafico'.\n",
        "trafico['bajo'] = fuzz.trapmf(trafico.universe, [0, 0, 25, 50])\n",
        "trafico['medio'] = fuzz.trapmf(trafico.universe, [25, 50, 75, 100])\n",
        "trafico['alto'] = fuzz.trapmf(trafico.universe, [50, 75, 100, 100])\n",
        "\n",
        "# Define las funciones de pertenencia para la variable 'clima'.\n",
        "clima['despejado'] = fuzz.trapmf(clima.universe, [0, 0, 25, 50])\n",
        "clima['nublado'] = fuzz.trapmf(clima.universe, [25, 50, 75, 100])\n",
        "clima['lluvioso'] = fuzz.trapmf(clima.universe, [50, 75, 100, 100])\n",
        "\n",
        "# Define las funciones de pertenencia para la variable 'intensidad'.\n",
        "intensidad['baja'] = fuzz.trapmf(intensidad.universe, [0, 0, 25, 50])\n",
        "intensidad['media'] = fuzz.trapmf(intensidad.universe, [25, 50, 75, 100])\n",
        "intensidad['alta'] = fuzz.trapmf(intensidad.universe, [50, 75, 100, 100])\n",
        "\n",
        "# Define las reglas difusas.\n",
        "rule1 = ctrl.Rule(hora['madrugada'] & trafico['bajo'] & clima['despejado'], intensidad['baja'])\n",
        "rule2 = ctrl.Rule(hora['madrugada'] & trafico['alto'] & clima['nublado'], intensidad['media'])\n",
        "rule3 = ctrl.Rule(hora['mañana'] & trafico['medio'] & clima['lluvioso'], intensidad['media'])\n",
        "rule4 = ctrl.Rule(hora['noche'] & trafico['alto'] & clima['despejado'], intensidad['alta'])\n",
        "rule5 = ctrl.Rule(hora['tarde'] & trafico['alto'] & clima['lluvioso'], intensidad['alta'])\n",
        "rule6 = ctrl.Rule(hora['mañana'] & trafico['bajo'] & clima['despejado'], intensidad['baja'])\n",
        "rule7 = ctrl.Rule(hora['mañana'] & trafico['medio'] & clima['despejado'], intensidad['media'])  # Nueva regla de respaldo\n",
        "\n",
        "# Crea un sistema de control difuso con las reglas definidas.\n",
        "intensity_ctrl = ctrl.ControlSystem([rule1, rule2, rule3, rule4, rule5, rule6, rule7])\n",
        "\n",
        "# Crea una simulación del sistema de control difuso.\n",
        "intensity_simulation = ctrl.ControlSystemSimulation(intensity_ctrl)\n",
        "\n",
        "# Función para formatear la hora de 24 horas a 12 horas (AM/PM).\n",
        "def formato_hora(hora_24):\n",
        "    return datetime.strptime(str(hora_24), \"%H\").strftime(\"%I:%M %p\")\n",
        "\n",
        "# Función para simular la intensidad de las luces basada en la hora, tráfico y clima.\n",
        "def simular_intensidad(hora_val, trafico_val, clima_val):\n",
        "    # Asigna los valores de entrada a la simulación.\n",
        "    intensity_simulation.input['hora'] = hora_val\n",
        "    intensity_simulation.input['trafico'] = trafico_val\n",
        "    intensity_simulation.input['clima'] = clima_val\n",
        "    try:\n",
        "        # Ejecuta la simulación para calcular la salida.\n",
        "        intensity_simulation.compute()\n",
        "        # Obtiene el valor de la intensidad calculada.\n",
        "        intensidad_val = intensity_simulation.output['intensidad']\n",
        "    except ValueError:\n",
        "        # En caso de error, asigna un valor por defecto de 0 a la intensidad.\n",
        "        intensidad_val = 0\n",
        "\n",
        "    # Convierte la hora de 24 horas a formato AM/PM.\n",
        "    hora_formato = formato_hora(hora_val)\n",
        "    # Crea un diccionario con los resultados.\n",
        "    resultado = {\n",
        "        \"hora\": hora_formato,\n",
        "        \"trafico\": trafico_val,\n",
        "        \"clima\": clima_val,\n",
        "        \"intensidad\": intensidad_val\n",
        "    }\n",
        "    # Devuelve el diccionario con los resultados.\n",
        "    return resultado\n"
      ],
      "metadata": {
        "id": "h8zimb2u28cY"
      },
      "execution_count": 37,
      "outputs": []
    },
    {
      "cell_type": "markdown",
      "source": [
        "#Lógica Proposicional y Primer Orden\n",
        "\n",
        "\n"
      ],
      "metadata": {
        "id": "33qlQZpVA5wh"
      }
    },
    {
      "cell_type": "markdown",
      "source": [
        "Este código define un conjunto de reglas de lógica proposicional y de primer orden para controlar las acciones de los vehículos en función de las señales de un semáforo. Se crean símbolos que representan los colores del semáforo (verde, amarillo, rojo) y las acciones de los vehículos (detenerse, avanzar, disminuir velocidad). Luego, se establecen reglas lógicas: si el semáforo está en verde, los vehículos avanzan; si está en amarillo, disminuyen la velocidad; y si está en rojo, se detienen. La función evaluar_accion se utiliza para verificar si una acción es posible dada una situación específica y un conjunto de conocimientos, asegurando que la acción no sea contradictoria con las reglas establecidas.\n",
        "\n",
        "\n",
        "\n",
        "\n",
        "\n",
        "\n"
      ],
      "metadata": {
        "id": "tTdHkjAVLK07"
      }
    },
    {
      "cell_type": "code",
      "source": [
        "\n",
        "# Lógica Proposicional y Primer Orden\n",
        "verde, amarillo, rojo = symbols('verde amarillo rojo')  # Define los símbolos que representan los colores del semáforo.\n",
        "detenerse, avanzar, disminuir_velocidad = symbols('detenerse avanzar disminuir_velocidad')  # Define los símbolos que representan las acciones de los vehículos.\n",
        "VeSemaforo_C_S, Semaforo_S_rojo, Semaforo_S_verde, Semaforo_S_amarillo = symbols('VeSemaforo_C_S Semaforo_S_rojo Semaforo_S_verde Semaforo_S_amarillo')  # Define símbolos adicionales para las señales del semáforo.\n",
        "Detenerse_C, Avanzar_C, DisminuirVelocidad_C = symbols('Detenerse_C Avanzar_C DisminuirVelocidad_C')  # Define símbolos adicionales para las acciones correspondientes.\n",
        "\n",
        "reglas = [\n",
        "    Implies(verde, avanzar),  # Define la regla: si el semáforo está en verde, los vehículos deben avanzar.\n",
        "    Implies(amarillo, disminuir_velocidad),  # Define la regla: si el semáforo está en amarillo, los vehículos deben disminuir la velocidad.\n",
        "    Implies(rojo, detenerse)  # Define la regla: si el semáforo está en rojo, los vehículos deben detenerse.\n",
        "]\n",
        "\n",
        "def evaluar_accion(acc, conocimiento):\n",
        "    return satisfiable(And(conocimiento, acc)) and not satisfiable(And(conocimiento, Not(acc)))  # Evalúa si una acción es posible dado un conjunto de conocimientos, devolviendo True si es satisfacible y no contradictoria.\n"
      ],
      "metadata": {
        "id": "k3YsDgYZ2-GY"
      },
      "execution_count": 38,
      "outputs": []
    },
    {
      "cell_type": "markdown",
      "source": [
        "#Sistema de Producción\n"
      ],
      "metadata": {
        "id": "PLp_Km9dBCpU"
      }
    },
    {
      "cell_type": "markdown",
      "source": [
        "Este código define un sistema de producción para gestionar un sistema de agua, modelando sus componentes y estados. La clase SistemaAgua inicializa y almacena el estado del suministro de agua, válvulas, bombas y sensores. Las funciones abrir_valvula, cerrar_valvula, encender_bomba, apagar_bomba y revisar_sensor permiten cambiar el estado de estos componentes. La función diagnosticar_y_reparar realiza diagnósticos y reparaciones automáticas: si el suministro de agua está \"sin agua\" y todas las válvulas están cerradas, abre todas las válvulas; si hay \"baja presión\" y alguna bomba no está funcionando, enciende las bombas no funcionales; y si algún sensor no está funcionando, revisa y activa esos sensores.\n",
        "\n",
        "\n",
        "\n",
        "\n",
        "\n"
      ],
      "metadata": {
        "id": "1sLFmB1rLTny"
      }
    },
    {
      "cell_type": "code",
      "source": [
        "# Sistema de Producción\n",
        "class SistemaAgua:  # Define la clase SistemaAgua para modelar el sistema de gestión de agua.\n",
        "    def __init__(self, estado_suministro, estado_valvulas, estado_bombas, estado_sensores):\n",
        "        self.estado_suministro = estado_suministro  # Inicializa el estado del suministro de agua.\n",
        "        self.estado_valvulas = estado_valvulas  # Inicializa el estado de las válvulas.\n",
        "        self.estado_bombas = estado_bombas  # Inicializa el estado de las bombas.\n",
        "        self.estado_sensores = estado_sensores  # Inicializa el estado de los sensores.\n",
        "\n",
        "def abrir_valvula(sistema, valvula):\n",
        "    sistema.estado_valvulas[valvula] = \"abierta\"  # Cambia el estado de la válvula especificada a \"abierta\".\n",
        "\n",
        "def cerrar_valvula(sistema, valvula):\n",
        "    sistema.estado_valvulas[valvula] = \"cerrada\"  # Cambia el estado de la válvula especificada a \"cerrada\".\n",
        "\n",
        "def encender_bomba(sistema, bomba):\n",
        "    sistema.estado_bombas[bomba] = \"funcionando\"  # Cambia el estado de la bomba especificada a \"funcionando\".\n",
        "\n",
        "def apagar_bomba(sistema, bomba):\n",
        "    sistema.estado_bombas[bomba] = \"no funcionando\"  # Cambia el estado de la bomba especificada a \"no funcionando\".\n",
        "\n",
        "def revisar_sensor(sistema, sensor):\n",
        "    sistema.estado_sensores[sensor] = \"funcionando\"  # Cambia el estado del sensor especificado a \"funcionando\".\n",
        "\n",
        "def diagnosticar_y_reparar(sistema):\n",
        "    # Si el suministro de agua está en \"sin agua\" y todas las válvulas están \"cerradas\", abre todas las válvulas.\n",
        "    if sistema.estado_suministro == \"sin agua\" and all(v == \"cerrada\" for v in sistema.estado_valvulas.values()):\n",
        "        for valvula in sistema.estado_valvulas:\n",
        "            abrir_valvula(sistema, valvula)\n",
        "    # Si el suministro de agua está en \"baja presión\" y alguna bomba no está funcionando, enciende las bombas que no están funcionando.\n",
        "    elif sistema.estado_suministro == \"baja presión\" and any(b == \"no funcionando\" for b in sistema.estado_bombas.values()):\n",
        "        for bomba in sistema.estado_bombas:\n",
        "            if sistema.estado_bombas[bomba] == \"no funcionando\":\n",
        "                encender_bomba(sistema, bomba)\n",
        "    # Si algún sensor no está funcionando, revisa y activa los sensores que no están funcionando.\n",
        "    elif any(s == \"no funcionando\" for s in sistema.estado_sensores.values()):\n",
        "        for sensor in sistema.estado_sensores:\n",
        "            if sistema.estado_sensores[sensor] == \"no funcionando\":\n",
        "                revisar_sensor(sistema, sensor)\n"
      ],
      "metadata": {
        "id": "lMttRCdH2_ag"
      },
      "execution_count": 39,
      "outputs": []
    },
    {
      "cell_type": "markdown",
      "source": [
        "# Redes Semánticas"
      ],
      "metadata": {
        "id": "-WFgwIlgBMrS"
      }
    },
    {
      "cell_type": "markdown",
      "source": [
        "Este código crea y maneja una representación de la infraestructura de una ciudad usando un grafo. Añade varios elementos como carreteras, tuberías, cables eléctricos y estaciones de bombeo, cada uno con atributos específicos como estado y capacidad. También define las conexiones entre estos elementos, indicando cómo están relacionados entre sí, por ejemplo, si están cerca o si un cable eléctrico alimenta una subestación. Además, incluye funciones para mostrar la información y las conexiones de un elemento específico, y para encontrar el camino más corto entre dos elementos en la infraestructura."
      ],
      "metadata": {
        "id": "agSKLa3NLb4K"
      }
    },
    {
      "cell_type": "code",
      "source": [
        "\n",
        "# Definición de la infraestructura\n",
        "infraestructura = nx.Graph()  # Crea un nuevo grafo vacío para representar la infraestructura.\n",
        "\n",
        "# Agregar nodos y aristas a la infraestructura (ejemplo)\n",
        "infraestructura.add_node(\"Carretera1\", tipo=\"carretera\", estado=\"bueno\", longitud=10)  # Añade un nodo representando una carretera con atributos específicos.\n",
        "infraestructura.add_node(\"Carretera2\", tipo=\"carretera\", estado=\"regular\", longitud=15)  # Añade un segundo nodo para otra carretera con diferentes atributos.\n",
        "infraestructura.add_node(\"Tuberia1\", tipo=\"tuberia\", estado=\"malo\", capacidad=100)  # Añade un nodo representando una tubería con atributos específicos.\n",
        "infraestructura.add_node(\"Tuberia2\", tipo=\"tuberia\", estado=\"bueno\", capacidad=150)  # Añade otro nodo para una segunda tubería con diferentes atributos.\n",
        "infraestructura.add_node(\"CableElectrico1\", tipo=\"cable electrico\", estado=\"bueno\", capacidad=500)  # Añade un nodo para un cable eléctrico con atributos específicos.\n",
        "infraestructura.add_node(\"CableElectrico2\", tipo=\"cable electrico\", estado=\"regular\", capacidad=400)  # Añade otro nodo para un segundo cable eléctrico con diferentes atributos.\n",
        "infraestructura.add_node(\"EstacionBombeo1\", tipo=\"estacion de bombeo\", estado=\"bueno\")  # Añade un nodo para una estación de bombeo con atributos específicos.\n",
        "infraestructura.add_node(\"SubestacionElectrica1\", tipo=\"subestacion electrica\", estado=\"malo\")  # Añade un nodo para una subestación eléctrica con atributos específicos.\n",
        "\n",
        "# Añade aristas (conexiones) entre los nodos con atributos que describen la relación entre ellos.\n",
        "infraestructura.add_edge(\"Carretera1\", \"Tuberia1\", relacion=\"cercano\")  # Conecta Carretera1 con Tuberia1 indicando que están cerca.\n",
        "infraestructura.add_edge(\"Carretera1\", \"CableElectrico1\", relacion=\"cruza\")  # Conecta Carretera1 con CableElectrico1 indicando que se cruzan.\n",
        "infraestructura.add_edge(\"Carretera2\", \"Tuberia2\", relacion=\"cercano\")  # Conecta Carretera2 con Tuberia2 indicando que están cerca.\n",
        "infraestructura.add_edge(\"Carretera2\", \"CableElectrico2\", relacion=\"cruza\")  # Conecta Carretera2 con CableElectrico2 indicando que se cruzan.\n",
        "infraestructura.add_edge(\"Tuberia1\", \"EstacionBombeo1\", relacion=\"conecta\")  # Conecta Tuberia1 con EstacionBombeo1 indicando que están conectados.\n",
        "infraestructura.add_edge(\"CableElectrico1\", \"SubestacionElectrica1\", relacion=\"alimenta\")  # Conecta CableElectrico1 con SubestacionElectrica1 indicando que la alimenta.\n",
        "infraestructura.add_edge(\"CableElectrico2\", \"SubestacionElectrica1\", relacion=\"alimenta\")  # Conecta CableElectrico2 con SubestacionElectrica1 indicando que la alimenta.\n",
        "\n",
        "# Función para mostrar la información de un nodo específico.\n",
        "def mostrar_info_nodo(nodo):\n",
        "    return infraestructura.nodes[nodo]  # Devuelve los atributos del nodo especificado.\n",
        "\n",
        "# Función para mostrar las conexiones de un nodo específico.\n",
        "def mostrar_conexiones_nodo(nodo):\n",
        "    return list(infraestructura.neighbors(nodo))  # Devuelve una lista de los nodos conectados al nodo especificado.\n",
        "\n",
        "# Función para encontrar el camino más corto entre dos nodos.\n",
        "def camino_mas_corto(nodo1, nodo2):\n",
        "    return nx.shortest_path(infraestructura, source=nodo1, target=nodo2)  # Devuelve el camino más corto entre los dos nodos especificados utilizando el algoritmo de caminos más cortos de NetworkX.\n"
      ],
      "metadata": {
        "id": "2kD5Lkgc3AxY"
      },
      "execution_count": 40,
      "outputs": []
    },
    {
      "cell_type": "markdown",
      "source": [
        "# Teoría de Juegos de Nash\n"
      ],
      "metadata": {
        "id": "97Emg8J-BV-p"
      }
    },
    {
      "cell_type": "markdown",
      "source": [
        "Este código crea un juego de teoría de juegos utilizando una matriz de pagos simple, que representa un juego de suma cero similar al dilema del prisionero. Luego, calcula los equilibrios de Nash, que son situaciones donde ningún jugador puede mejorar su resultado cambiando solo su estrategia. Finalmente, imprime todos los equilibrios de Nash encontrados. Esto ayuda a entender las estrategias óptimas que los jugadores deben seguir para mantener el equilibrio en el juego."
      ],
      "metadata": {
        "id": "xJKTQ16iLkAC"
      }
    },
    {
      "cell_type": "code",
      "source": [
        "\n",
        "# Ejemplo de teoría de juegos de Nash\n",
        "juego = nash.Game([[1, -1], [-1, 1]])  # Crea un juego utilizando una matriz de pagos. En este caso, es una matriz para un juego de suma cero como el dilema del prisionero.\n",
        "\n",
        "equilibrios = list(juego.support_enumeration())  # Encuentra los equilibrios de Nash utilizando el método de enumeración de soportes y los almacena en una lista.\n",
        "\n",
        "# Mostrar equilibrios de Nash\n",
        "for eq in equilibrios:  # Itera sobre cada equilibrio de Nash encontrado.\n",
        "    print(f\"Equilibrio de Nash: {eq}\")  # Imprime cada equilibrio de Nash.\n"
      ],
      "metadata": {
        "colab": {
          "base_uri": "https://localhost:8080/"
        },
        "id": "eduwivl-3CmA",
        "outputId": "5922108d-ab98-4ee3-e4ab-0ff0461bafc5"
      },
      "execution_count": 41,
      "outputs": [
        {
          "output_type": "stream",
          "name": "stdout",
          "text": [
            "Equilibrio de Nash: (array([0.5, 0.5]), array([0.5, 0.5]))\n"
          ]
        }
      ]
    },
    {
      "cell_type": "markdown",
      "source": [
        "# Impresión de resultados."
      ],
      "metadata": {
        "id": "68oarWNDBava"
      }
    },
    {
      "cell_type": "markdown",
      "source": [
        "Este código crea una interfaz interactiva para simular y mostrar recomendaciones basadas en varios parámetros como la hora del día, el tráfico y el clima. También gestiona el estado de un sistema de agua y la infraestructura de una ciudad. Los usuarios pueden ajustar estos parámetros mediante controles deslizantes y menús desplegables, y el sistema actualizará automáticamente las recomendaciones y mostrará gráficos que visualizan la distribución de autobuses, la intensidad de las luces y el estado del sistema de agua e infraestructura."
      ],
      "metadata": {
        "id": "ZlUiCX0sLvGj"
      }
    },
    {
      "cell_type": "code",
      "source": [
        "# Crear widgets\n",
        "ciudad_text = widgets.Text(value='Ancud', description='Ciudad:', disabled=False)  # Crea un widget de texto para ingresar la ciudad, con valor inicial 'Ancud'.\n",
        "\n",
        "# Crear salidas\n",
        "salida_resultados = widgets.Output()  # Crea un área de salida para mostrar los resultados.\n",
        "\n",
        "# Función para actualizar recomendaciones\n",
        "def actualizar_recomendaciones(change=None):\n",
        "    ciudad = ciudad_text.value  # Obtiene el valor ingresado en el widget de texto de la ciudad.\n",
        "    hora_val = hora_slider.value  # Obtiene el valor seleccionado en el slider de hora.\n",
        "    trafico_val = trafico_slider.value  # Obtiene el valor seleccionado en el slider de tráfico.\n",
        "    clima_val = {'Favorable': 20, 'Normal': 50, 'Desfavorable': 80}[clima_dropdown.value]  # Traduce el valor seleccionado en el desplegable de clima a un valor numérico.\n",
        "\n",
        "    # Simulación de intensidad\n",
        "    resultado_intensidad = simular_intensidad(hora_val, trafico_val, clima_val)  # Simula la intensidad de las luces basada en los valores de hora, tráfico y clima.\n",
        "\n",
        "    # Diagnóstico del sistema de agua\n",
        "    estado_suministro = estado_suministro_selector.value  # Obtiene el valor seleccionado en el desplegable de estado de suministro.\n",
        "    estado_valvulas = {k: v.value for k, v in estado_valvulas_selectors.items()}  # Crea un diccionario con los estados de las válvulas.\n",
        "    estado_bombas = {k: v.value for k, v in estado_bombas_selectors.items()}  # Crea un diccionario con los estados de las bombas.\n",
        "    estado_sensores = {k: v.value for k, v in estado_sensores_selectors.items()}  # Crea un diccionario con los estados de los sensores.\n",
        "\n",
        "    sistema_agua = SistemaAgua(estado_suministro, estado_valvulas, estado_bombas, estado_sensores)  # Inicializa un objeto SistemaAgua con los estados actuales.\n",
        "    diagnosticar_y_reparar(sistema_agua)  # Diagnostica y repara el sistema de agua según los estados actuales.\n",
        "\n",
        "    # Generar la salida formateada\n",
        "    with salida_resultados:  # Utiliza el área de salida creada para mostrar los resultados.\n",
        "        salida_resultados.clear_output()  # Limpia la salida anterior.\n",
        "\n",
        "        # Muestra y grafica la distribución optimizada de autobuses\n",
        "        print(f\"Distribución optimizada de autobuses en {ciudad}:\")\n",
        "        distribucion_optimizada = ciclo_algoritmo_genetico(10, 100, 0.8, 0.01)  # Ejecuta el algoritmo genético para optimizar la distribución de autobuses.\n",
        "        print(f\"Fitness del plan de distribución: {calcular_fitness(distribucion_optimizada[0])}\")\n",
        "        for zona, num_autobuses in zip(zonas, distribucion_optimizada[0]):  # Itera sobre las zonas y el número de autobuses.\n",
        "            print(f\"  - Zona: {zona}, Número de autobuses: {num_autobuses}\")\n",
        "\n",
        "        # Gráfico de la distribución optimizada de autobuses\n",
        "        fig, ax = plt.subplots()  # Crea una figura y un eje para el gráfico.\n",
        "        ax.bar(zonas, distribucion_optimizada[0])  # Crea un gráfico de barras con las zonas y el número de autobuses.\n",
        "        ax.set_xlabel('Zonas')  # Etiqueta el eje X.\n",
        "        ax.set_ylabel('Número de autobuses')  # Etiqueta el eje Y.\n",
        "        ax.set_title(f'Distribución optimizada de autobuses en {ciudad}')  # Título del gráfico.\n",
        "        plt.xticks(rotation=45)  # Rota las etiquetas del eje X 45 grados.\n",
        "        plt.show()  # Muestra el gráfico.\n",
        "\n",
        "        # Muestra y grafica las recomendaciones de intensidad de luces\n",
        "        print(f\"\\nRecomendaciones de intensidad de luces en {ciudad} según simulaciones:\")\n",
        "        print(f\"  - Hora del día: {resultado_intensidad['hora']}\")\n",
        "        print(f\"  - Nivel de tráfico: {resultado_intensidad['trafico']}%\")\n",
        "        print(f\"  - Condición climática: {resultado_intensidad['clima']}%\")\n",
        "        print(f\"  - Intensidad de luces recomendada: {resultado_intensidad['intensidad']:.2f}%\")\n",
        "\n",
        "        # Gráfico de la intensidad de luces recomendada\n",
        "        labels = ['Hora del día', 'Nivel de tráfico', 'Condición climática']  # Define las etiquetas para el gráfico.\n",
        "        values = [hora_val, trafico_val, clima_val]  # Define los valores para el gráfico.\n",
        "        fig, ax = plt.subplots()  # Crea una figura y un eje para el gráfico.\n",
        "        ax.bar(labels, values)  # Crea un gráfico de barras con las etiquetas y los valores.\n",
        "        ax.set_ylabel('Valor')  # Etiqueta el eje Y.\n",
        "        ax.set_title(f'Recomendaciones de intensidad de luces en {ciudad}')  # Título del gráfico.\n",
        "        plt.show()  # Muestra el gráfico.\n",
        "\n",
        "        # Muestra los resultados de la lógica proposicional y de primer orden\n",
        "        print(f\"\\nResultados de la lógica proposicional para el control de tráfico en {ciudad}:\")\n",
        "        if evaluar_accion(avanzar, verde):  # Evalúa si la acción de avanzar es posible con el semáforo en verde.\n",
        "            print(\"  - El semáforo está en verde: los vehículos pueden avanzar.\")\n",
        "\n",
        "        print(f\"\\nResultados de la lógica de primer orden para el control de tráfico en {ciudad}:\")\n",
        "        if evaluar_accion(avanzar, verde):  # Evalúa si la acción de avanzar es posible con el semáforo en verde.\n",
        "            print(\"  - En base a la lógica de primer orden, los vehículos pueden avanzar.\")\n",
        "\n",
        "        # Gráfico de estados inicial y final de los sistemas de agua\n",
        "        estado_inicial = [estado_suministro_selector.value,\n",
        "                          estado_valvulas_selectors['valvula1'].value,\n",
        "                          estado_valvulas_selectors['valvula2'].value,\n",
        "                          estado_bombas_selectors['bomba1'].value,\n",
        "                          estado_bombas_selectors['bomba2'].value,\n",
        "                          estado_sensores_selectors['sensor1'].value,\n",
        "                          estado_sensores_selectors['sensor2'].value]\n",
        "\n",
        "        diagnosticar_y_reparar(sistema_agua)  # Actualiza el diagnóstico y reparación del sistema de agua.\n",
        "\n",
        "        estado_final = [sistema_agua.estado_suministro,\n",
        "                        sistema_agua.estado_valvulas['valvula1'],\n",
        "                        sistema_agua.estado_valvulas['valvula2'],\n",
        "                        sistema_agua.estado_bombas['bomba1'],\n",
        "                        sistema_agua.estado_bombas['bomba2'],\n",
        "                        sistema_agua.estado_sensores['sensor1'],\n",
        "                        sistema_agua.estado_sensores['sensor2']]\n",
        "\n",
        "        print(f\"\\nEstados inicial y final de los sistemas de agua en {ciudad}:\")\n",
        "        print(f\"  - Estado inicial: {estado_inicial}\")\n",
        "        print(f\"  - Estado final: {estado_final}\")\n",
        "\n",
        "        labels = ['Suministro', 'Válvula 1', 'Válvula 2', 'Bomba 1', 'Bomba 2', 'Sensor 1', 'Sensor 2']  # Define las etiquetas para el gráfico.\n",
        "        fig, ax = plt.subplots()  # Crea una figura y un eje para el gráfico.\n",
        "        ax.bar(labels, estado_inicial, alpha=0.5, label='Inicial')  # Crea un gráfico de barras con el estado inicial.\n",
        "        ax.bar(labels, estado_final, alpha=0.5, label='Final')  # Crea un gráfico de barras con el estado final.\n",
        "        ax.set_ylabel('Estado')  # Etiqueta el eje Y.\n",
        "        ax.set_title(f'Estados inicial y final de los sistemas de agua en {ciudad}')  # Título del gráfico.\n",
        "        ax.legend()  # Muestra la leyenda del gráfico.\n",
        "        plt.xticks(rotation=45)  # Rota las etiquetas del eje X 45 grados.\n",
        "        plt.show()  # Muestra el gráfico.\n",
        "\n",
        "        # Muestra y grafica la información detallada sobre la infraestructura\n",
        "        print(f\"\\nInformación detallada sobre la infraestructura en {ciudad}:\")\n",
        "        nodo1_info = mostrar_info_nodo('Carretera1')  # Obtiene la información del nodo 'Carretera1'.\n",
        "        nodo1_conexiones = mostrar_conexiones_nodo('Carretera1')  # Obtiene las conexiones del nodo 'Carretera1'.\n",
        "        nodo1_camino = camino_mas_corto('Carretera1', 'SubestacionElectrica1')  # Obtiene el camino más corto entre 'Carretera1' y 'SubestacionElectrica1'.\n",
        "        print(f\"Información sobre 'Carretera1':\\n  - Tipo: {nodo1_info['tipo']}\\n  - Estado: {nodo1_info['estado']}\\n  - Longitud: {nodo1_info['longitud']} km\\n  - Conexiones: {', '.join(nodo1_conexiones)}\\n  - Camino más corto entre 'Carretera1' y 'SubestacionElectrica1': {', '.join(nodo1_camino)}\")\n",
        "\n",
        "        nodo2_info = mostrar_info_nodo('Tuberia1')  # Obtiene la información del nodo 'Tuberia1'.\n",
        "        nodo2_conexiones = mostrar_conexiones_nodo('Tuberia1')  # Obtiene las conexiones del nodo 'Tuberia1'.\n",
        "        nodo2_camino = camino_mas_corto('Tuberia1', 'SubestacionElectrica1')  # Obtiene el camino más corto entre 'Tuberia1' y 'SubestacionElectrica1'.\n",
        "        print(f\"\\nInformación sobre 'Tuberia1':\\n  - Tipo: {nodo2_info['tipo']}\\n  - Estado: {nodo2_info['estado']}\\n  - Capacidad: {nodo2_info['capacidad']} L\\n  - Conexiones: {', '.join(nodo2_conexiones)}\\n  - Camino más corto entre 'Tuberia1' y 'SubestacionElectrica1': {', '.join(nodo2_camino)}\")\n",
        "\n",
        "        # Gráfico de la infraestructura\n",
        "        labels = ['Carretera1', 'Tuberia1', 'CableElectrico1', 'EstacionBombeo1', 'SubestacionElectrica1']  # Define las etiquetas para el gráfico.\n",
        "        estados = [nodo1_info['estado'], nodo2_info['estado'],\n",
        "                   mostrar_info_nodo('CableElectrico1')['estado'],\n",
        "                   mostrar_info_nodo('EstacionBombeo1')['estado'],\n",
        "                   mostrar_info_nodo('SubestacionElectrica1')['estado']]  # Obtiene los estados de los nodos de infraestructura.\n",
        "        capacidades = [nodo1_info.get('longitud', 0), nodo2_info.get('capacidad', 0),\n",
        "                       mostrar_info_nodo('CableElectrico1').get('capacidad', 0),\n",
        "                       mostrar_info_nodo('EstacionBombeo1').get('capacidad', 0),\n",
        "                       mostrar_info_nodo('SubestacionElectrica1').get('capacidad', 0)]  # Obtiene las capacidades de los nodos de infraestructura.\n",
        "\n",
        "        fig, ax = plt.subplots()  # Crea una figura y un eje para el gráfico.\n",
        "        ax.bar(labels, capacidades)  # Crea un gráfico de barras con las etiquetas y las capacidades.\n",
        "        ax.set_ylabel('Capacidad / Longitud')  # Etiqueta el eje Y.\n",
        "        ax.set_title(f'Capacidades / Longitudes de la infraestructura en {ciudad}')  # Título del gráfico.\n",
        "        plt.xticks(rotation=45)  # Rota las etiquetas del eje X 45 grados.\n",
        "        plt.show()  # Muestra el gráfico.\n",
        "\n",
        "        fig, ax = plt.subplots()  # Crea una figura y un eje para el gráfico.\n",
        "        ax.bar(labels, [1 if estado == 'bueno' else 0.5 if estado == 'regular' else 0 for estado in estados])  # Crea un gráfico de barras con los estados de los nodos.\n",
        "        ax.set_ylabel('Estado (1: bueno, 0.5: regular, 0: malo)')  # Etiqueta el eje Y.\n",
        "        ax.set_title(f'Estados de la infraestructura en {ciudad}')  # Título del gráfico.\n",
        "        plt.xticks(rotation=45)  # Rota las etiquetas del eje X 45 grados.\n",
        "        plt.show()  # Muestra el gráfico.\n",
        "\n",
        "# Enlazar widgets con la función de actualización\n",
        "hora_slider.observe(actualizar_recomendaciones, names='value')  # Enlaza el slider de hora con la función de actualización.\n",
        "trafico_slider.observe(actualizar_recomendaciones, names='value')  # Enlaza el slider de tráfico con la función de actualización.\n",
        "clima_dropdown.observe(actualizar_recomendaciones, names='value')  # Enlaza el desplegable de clima con la función de actualización.\n",
        "estado_suministro_selector.observe(actualizar_recomendaciones, names='value')  # Enlaza el desplegable de estado de suministro con la función de actualización.\n",
        "for selector in estado_valvulas_selectors.values():\n",
        "    selector.observe(actualizar_recomendaciones, names='value')  # Enlaza los desplegables de estado de válvulas con la función de actualización.\n",
        "for selector in estado_bombas_selectors.values():\n",
        "    selector.observe(actualizar_recomendaciones, names='value')  # Enlaza los desplegables de estado de bombas con la función de actualización.\n",
        "for selector in estado_sensores_selectors.values():\n",
        "    selector.observe(actualizar_recomendaciones, names='value')  # Enlaza los desplegables de estado de sensores con la función de actualización.\n",
        "ciudad_text.observe(actualizar_recomendaciones, names='value')  # Enlaza el widget de texto de la ciudad con la función de actualización.\n",
        "\n",
        "# Mostrar widgets adicionales y salidas\n",
        "display(ciudad_text)  # Muestra el widget de texto de la ciudad.\n",
        "display(salida_resultados)  # Muestra el área de salida para los resultados.\n",
        "\n",
        "# Llamar a la función inicialmente para mostrar la salida\n",
        "actualizar_recomendaciones()  # Llama a la función de actualización para mostrar los resultados iniciales.\n"
      ],
      "metadata": {
        "colab": {
          "base_uri": "https://localhost:8080/",
          "height": 1000,
          "referenced_widgets": [
            "2ee11dcd0b254d1db614b8544117a9a4",
            "9be0435248d64792963078d7748083a4",
            "58ce72c4a70d401cb3fd60236ba577f2",
            "f13211f0fb184dd8b0ce264c9f9807f1",
            "9f714023b1c147fda1b5f2a0c1943952"
          ]
        },
        "id": "bYlIaNma3GGf",
        "outputId": "040adcad-8b28-400f-e8ec-b4c5414d9bbb"
      },
      "execution_count": 42,
      "outputs": [
        {
          "output_type": "display_data",
          "data": {
            "text/plain": [
              "Text(value='Ancud', description='Ciudad:')"
            ],
            "application/vnd.jupyter.widget-view+json": {
              "version_major": 2,
              "version_minor": 0,
              "model_id": "2ee11dcd0b254d1db614b8544117a9a4"
            }
          },
          "metadata": {}
        },
        {
          "output_type": "display_data",
          "data": {
            "text/plain": [
              "Output()"
            ],
            "application/vnd.jupyter.widget-view+json": {
              "version_major": 2,
              "version_minor": 0,
              "model_id": "f13211f0fb184dd8b0ce264c9f9807f1"
            }
          },
          "metadata": {}
        }
      ]
    },
    {
      "cell_type": "markdown",
      "source": [
        "# Repositorio GitHub"
      ],
      "metadata": {
        "id": "J1hUcZ6hL5W0"
      }
    },
    {
      "cell_type": "markdown",
      "source": [
        "https://github.com/michaelarjelm/evaluacionTresIA/blob/main/Evaluacion_3.ipynb"
      ],
      "metadata": {
        "id": "oml5pMdbYxyE"
      }
    }
  ]
}