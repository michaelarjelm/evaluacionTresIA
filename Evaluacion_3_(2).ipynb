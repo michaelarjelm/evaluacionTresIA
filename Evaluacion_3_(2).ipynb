{
  "nbformat": 4,
  "nbformat_minor": 0,
  "metadata": {
    "colab": {
      "provenance": [],
      "include_colab_link": true
    },
    "kernelspec": {
      "name": "python3",
      "display_name": "Python 3"
    },
    "language_info": {
      "name": "python"
    },
    "widgets": {
      "application/vnd.jupyter.widget-state+json": {
        "6733b7c89be44b5b9b41368c79280de3": {
          "model_module": "@jupyter-widgets/controls",
          "model_name": "IntSliderModel",
          "model_module_version": "1.5.0",
          "state": {
            "_dom_classes": [],
            "_model_module": "@jupyter-widgets/controls",
            "_model_module_version": "1.5.0",
            "_model_name": "IntSliderModel",
            "_view_count": null,
            "_view_module": "@jupyter-widgets/controls",
            "_view_module_version": "1.5.0",
            "_view_name": "IntSliderView",
            "continuous_update": true,
            "description": "Hora:",
            "description_tooltip": null,
            "disabled": false,
            "layout": "IPY_MODEL_4de45890b5104d2fa50dc2e121227a9f",
            "max": 23,
            "min": 0,
            "orientation": "horizontal",
            "readout": true,
            "readout_format": "d",
            "step": 1,
            "style": "IPY_MODEL_bf684ac624aa4c03b6324b813bc4688b",
            "value": 12
          }
        },
        "4de45890b5104d2fa50dc2e121227a9f": {
          "model_module": "@jupyter-widgets/base",
          "model_name": "LayoutModel",
          "model_module_version": "1.2.0",
          "state": {
            "_model_module": "@jupyter-widgets/base",
            "_model_module_version": "1.2.0",
            "_model_name": "LayoutModel",
            "_view_count": null,
            "_view_module": "@jupyter-widgets/base",
            "_view_module_version": "1.2.0",
            "_view_name": "LayoutView",
            "align_content": null,
            "align_items": null,
            "align_self": null,
            "border": null,
            "bottom": null,
            "display": null,
            "flex": null,
            "flex_flow": null,
            "grid_area": null,
            "grid_auto_columns": null,
            "grid_auto_flow": null,
            "grid_auto_rows": null,
            "grid_column": null,
            "grid_gap": null,
            "grid_row": null,
            "grid_template_areas": null,
            "grid_template_columns": null,
            "grid_template_rows": null,
            "height": null,
            "justify_content": null,
            "justify_items": null,
            "left": null,
            "margin": null,
            "max_height": null,
            "max_width": null,
            "min_height": null,
            "min_width": null,
            "object_fit": null,
            "object_position": null,
            "order": null,
            "overflow": null,
            "overflow_x": null,
            "overflow_y": null,
            "padding": null,
            "right": null,
            "top": null,
            "visibility": null,
            "width": null
          }
        },
        "bf684ac624aa4c03b6324b813bc4688b": {
          "model_module": "@jupyter-widgets/controls",
          "model_name": "SliderStyleModel",
          "model_module_version": "1.5.0",
          "state": {
            "_model_module": "@jupyter-widgets/controls",
            "_model_module_version": "1.5.0",
            "_model_name": "SliderStyleModel",
            "_view_count": null,
            "_view_module": "@jupyter-widgets/base",
            "_view_module_version": "1.2.0",
            "_view_name": "StyleView",
            "description_width": "",
            "handle_color": null
          }
        },
        "adbbe7c0c39246e38b55a76165879e0c": {
          "model_module": "@jupyter-widgets/controls",
          "model_name": "IntSliderModel",
          "model_module_version": "1.5.0",
          "state": {
            "_dom_classes": [],
            "_model_module": "@jupyter-widgets/controls",
            "_model_module_version": "1.5.0",
            "_model_name": "IntSliderModel",
            "_view_count": null,
            "_view_module": "@jupyter-widgets/controls",
            "_view_module_version": "1.5.0",
            "_view_name": "IntSliderView",
            "continuous_update": true,
            "description": "Tráfico (%):",
            "description_tooltip": null,
            "disabled": false,
            "layout": "IPY_MODEL_05d2095e161640cc98ebe9a5e00e0417",
            "max": 100,
            "min": 0,
            "orientation": "horizontal",
            "readout": true,
            "readout_format": "d",
            "step": 10,
            "style": "IPY_MODEL_4fbc1ac83468418fa9a46ee5277bee05",
            "value": 50
          }
        },
        "05d2095e161640cc98ebe9a5e00e0417": {
          "model_module": "@jupyter-widgets/base",
          "model_name": "LayoutModel",
          "model_module_version": "1.2.0",
          "state": {
            "_model_module": "@jupyter-widgets/base",
            "_model_module_version": "1.2.0",
            "_model_name": "LayoutModel",
            "_view_count": null,
            "_view_module": "@jupyter-widgets/base",
            "_view_module_version": "1.2.0",
            "_view_name": "LayoutView",
            "align_content": null,
            "align_items": null,
            "align_self": null,
            "border": null,
            "bottom": null,
            "display": null,
            "flex": null,
            "flex_flow": null,
            "grid_area": null,
            "grid_auto_columns": null,
            "grid_auto_flow": null,
            "grid_auto_rows": null,
            "grid_column": null,
            "grid_gap": null,
            "grid_row": null,
            "grid_template_areas": null,
            "grid_template_columns": null,
            "grid_template_rows": null,
            "height": null,
            "justify_content": null,
            "justify_items": null,
            "left": null,
            "margin": null,
            "max_height": null,
            "max_width": null,
            "min_height": null,
            "min_width": null,
            "object_fit": null,
            "object_position": null,
            "order": null,
            "overflow": null,
            "overflow_x": null,
            "overflow_y": null,
            "padding": null,
            "right": null,
            "top": null,
            "visibility": null,
            "width": null
          }
        },
        "4fbc1ac83468418fa9a46ee5277bee05": {
          "model_module": "@jupyter-widgets/controls",
          "model_name": "SliderStyleModel",
          "model_module_version": "1.5.0",
          "state": {
            "_model_module": "@jupyter-widgets/controls",
            "_model_module_version": "1.5.0",
            "_model_name": "SliderStyleModel",
            "_view_count": null,
            "_view_module": "@jupyter-widgets/base",
            "_view_module_version": "1.2.0",
            "_view_name": "StyleView",
            "description_width": "",
            "handle_color": null
          }
        },
        "770a788018874d49a2a751977a8b9374": {
          "model_module": "@jupyter-widgets/controls",
          "model_name": "DropdownModel",
          "model_module_version": "1.5.0",
          "state": {
            "_dom_classes": [],
            "_model_module": "@jupyter-widgets/controls",
            "_model_module_version": "1.5.0",
            "_model_name": "DropdownModel",
            "_options_labels": [
              "Favorable",
              "Normal",
              "Desfavorable"
            ],
            "_view_count": null,
            "_view_module": "@jupyter-widgets/controls",
            "_view_module_version": "1.5.0",
            "_view_name": "DropdownView",
            "description": "Clima:",
            "description_tooltip": null,
            "disabled": false,
            "index": 1,
            "layout": "IPY_MODEL_9bd5b8095ab2498c92dd2489aae53840",
            "style": "IPY_MODEL_b8901f370f8649649cd77b0308f90e30"
          }
        },
        "9bd5b8095ab2498c92dd2489aae53840": {
          "model_module": "@jupyter-widgets/base",
          "model_name": "LayoutModel",
          "model_module_version": "1.2.0",
          "state": {
            "_model_module": "@jupyter-widgets/base",
            "_model_module_version": "1.2.0",
            "_model_name": "LayoutModel",
            "_view_count": null,
            "_view_module": "@jupyter-widgets/base",
            "_view_module_version": "1.2.0",
            "_view_name": "LayoutView",
            "align_content": null,
            "align_items": null,
            "align_self": null,
            "border": null,
            "bottom": null,
            "display": null,
            "flex": null,
            "flex_flow": null,
            "grid_area": null,
            "grid_auto_columns": null,
            "grid_auto_flow": null,
            "grid_auto_rows": null,
            "grid_column": null,
            "grid_gap": null,
            "grid_row": null,
            "grid_template_areas": null,
            "grid_template_columns": null,
            "grid_template_rows": null,
            "height": null,
            "justify_content": null,
            "justify_items": null,
            "left": null,
            "margin": null,
            "max_height": null,
            "max_width": null,
            "min_height": null,
            "min_width": null,
            "object_fit": null,
            "object_position": null,
            "order": null,
            "overflow": null,
            "overflow_x": null,
            "overflow_y": null,
            "padding": null,
            "right": null,
            "top": null,
            "visibility": null,
            "width": null
          }
        },
        "b8901f370f8649649cd77b0308f90e30": {
          "model_module": "@jupyter-widgets/controls",
          "model_name": "DescriptionStyleModel",
          "model_module_version": "1.5.0",
          "state": {
            "_model_module": "@jupyter-widgets/controls",
            "_model_module_version": "1.5.0",
            "_model_name": "DescriptionStyleModel",
            "_view_count": null,
            "_view_module": "@jupyter-widgets/base",
            "_view_module_version": "1.2.0",
            "_view_name": "StyleView",
            "description_width": ""
          }
        },
        "0aa691e973e141998ac04c992c8eb045": {
          "model_module": "@jupyter-widgets/controls",
          "model_name": "DropdownModel",
          "model_module_version": "1.5.0",
          "state": {
            "_dom_classes": [],
            "_model_module": "@jupyter-widgets/controls",
            "_model_module_version": "1.5.0",
            "_model_name": "DropdownModel",
            "_options_labels": [
              "normal",
              "baja presión",
              "sin agua"
            ],
            "_view_count": null,
            "_view_module": "@jupyter-widgets/controls",
            "_view_module_version": "1.5.0",
            "_view_name": "DropdownView",
            "description": "Estado suministro:",
            "description_tooltip": null,
            "disabled": false,
            "index": 2,
            "layout": "IPY_MODEL_7f4325a6c2714728afc6dae08ead2756",
            "style": "IPY_MODEL_066542825e904d3fbbac129738fcee99"
          }
        },
        "7f4325a6c2714728afc6dae08ead2756": {
          "model_module": "@jupyter-widgets/base",
          "model_name": "LayoutModel",
          "model_module_version": "1.2.0",
          "state": {
            "_model_module": "@jupyter-widgets/base",
            "_model_module_version": "1.2.0",
            "_model_name": "LayoutModel",
            "_view_count": null,
            "_view_module": "@jupyter-widgets/base",
            "_view_module_version": "1.2.0",
            "_view_name": "LayoutView",
            "align_content": null,
            "align_items": null,
            "align_self": null,
            "border": null,
            "bottom": null,
            "display": null,
            "flex": null,
            "flex_flow": null,
            "grid_area": null,
            "grid_auto_columns": null,
            "grid_auto_flow": null,
            "grid_auto_rows": null,
            "grid_column": null,
            "grid_gap": null,
            "grid_row": null,
            "grid_template_areas": null,
            "grid_template_columns": null,
            "grid_template_rows": null,
            "height": null,
            "justify_content": null,
            "justify_items": null,
            "left": null,
            "margin": null,
            "max_height": null,
            "max_width": null,
            "min_height": null,
            "min_width": null,
            "object_fit": null,
            "object_position": null,
            "order": null,
            "overflow": null,
            "overflow_x": null,
            "overflow_y": null,
            "padding": null,
            "right": null,
            "top": null,
            "visibility": null,
            "width": null
          }
        },
        "066542825e904d3fbbac129738fcee99": {
          "model_module": "@jupyter-widgets/controls",
          "model_name": "DescriptionStyleModel",
          "model_module_version": "1.5.0",
          "state": {
            "_model_module": "@jupyter-widgets/controls",
            "_model_module_version": "1.5.0",
            "_model_name": "DescriptionStyleModel",
            "_view_count": null,
            "_view_module": "@jupyter-widgets/base",
            "_view_module_version": "1.2.0",
            "_view_name": "StyleView",
            "description_width": ""
          }
        },
        "e631d5c793264d488f9b848303b4f802": {
          "model_module": "@jupyter-widgets/controls",
          "model_name": "DropdownModel",
          "model_module_version": "1.5.0",
          "state": {
            "_dom_classes": [],
            "_model_module": "@jupyter-widgets/controls",
            "_model_module_version": "1.5.0",
            "_model_name": "DropdownModel",
            "_options_labels": [
              "abierta",
              "cerrada"
            ],
            "_view_count": null,
            "_view_module": "@jupyter-widgets/controls",
            "_view_module_version": "1.5.0",
            "_view_name": "DropdownView",
            "description": "Válvula 1:",
            "description_tooltip": null,
            "disabled": false,
            "index": 1,
            "layout": "IPY_MODEL_62901ef7a6f5400cbbee2ee08b726735",
            "style": "IPY_MODEL_02077ebe46ca4d44ad728ea3c0dacc5d"
          }
        },
        "62901ef7a6f5400cbbee2ee08b726735": {
          "model_module": "@jupyter-widgets/base",
          "model_name": "LayoutModel",
          "model_module_version": "1.2.0",
          "state": {
            "_model_module": "@jupyter-widgets/base",
            "_model_module_version": "1.2.0",
            "_model_name": "LayoutModel",
            "_view_count": null,
            "_view_module": "@jupyter-widgets/base",
            "_view_module_version": "1.2.0",
            "_view_name": "LayoutView",
            "align_content": null,
            "align_items": null,
            "align_self": null,
            "border": null,
            "bottom": null,
            "display": null,
            "flex": null,
            "flex_flow": null,
            "grid_area": null,
            "grid_auto_columns": null,
            "grid_auto_flow": null,
            "grid_auto_rows": null,
            "grid_column": null,
            "grid_gap": null,
            "grid_row": null,
            "grid_template_areas": null,
            "grid_template_columns": null,
            "grid_template_rows": null,
            "height": null,
            "justify_content": null,
            "justify_items": null,
            "left": null,
            "margin": null,
            "max_height": null,
            "max_width": null,
            "min_height": null,
            "min_width": null,
            "object_fit": null,
            "object_position": null,
            "order": null,
            "overflow": null,
            "overflow_x": null,
            "overflow_y": null,
            "padding": null,
            "right": null,
            "top": null,
            "visibility": null,
            "width": null
          }
        },
        "02077ebe46ca4d44ad728ea3c0dacc5d": {
          "model_module": "@jupyter-widgets/controls",
          "model_name": "DescriptionStyleModel",
          "model_module_version": "1.5.0",
          "state": {
            "_model_module": "@jupyter-widgets/controls",
            "_model_module_version": "1.5.0",
            "_model_name": "DescriptionStyleModel",
            "_view_count": null,
            "_view_module": "@jupyter-widgets/base",
            "_view_module_version": "1.2.0",
            "_view_name": "StyleView",
            "description_width": ""
          }
        },
        "79f8bc084b044dc9ba785f83657cb874": {
          "model_module": "@jupyter-widgets/controls",
          "model_name": "DropdownModel",
          "model_module_version": "1.5.0",
          "state": {
            "_dom_classes": [],
            "_model_module": "@jupyter-widgets/controls",
            "_model_module_version": "1.5.0",
            "_model_name": "DropdownModel",
            "_options_labels": [
              "abierta",
              "cerrada"
            ],
            "_view_count": null,
            "_view_module": "@jupyter-widgets/controls",
            "_view_module_version": "1.5.0",
            "_view_name": "DropdownView",
            "description": "Válvula 2:",
            "description_tooltip": null,
            "disabled": false,
            "index": 1,
            "layout": "IPY_MODEL_3743aedfebe04cd79139278606096726",
            "style": "IPY_MODEL_b83b73aac42b447f966527f29bdeb54b"
          }
        },
        "3743aedfebe04cd79139278606096726": {
          "model_module": "@jupyter-widgets/base",
          "model_name": "LayoutModel",
          "model_module_version": "1.2.0",
          "state": {
            "_model_module": "@jupyter-widgets/base",
            "_model_module_version": "1.2.0",
            "_model_name": "LayoutModel",
            "_view_count": null,
            "_view_module": "@jupyter-widgets/base",
            "_view_module_version": "1.2.0",
            "_view_name": "LayoutView",
            "align_content": null,
            "align_items": null,
            "align_self": null,
            "border": null,
            "bottom": null,
            "display": null,
            "flex": null,
            "flex_flow": null,
            "grid_area": null,
            "grid_auto_columns": null,
            "grid_auto_flow": null,
            "grid_auto_rows": null,
            "grid_column": null,
            "grid_gap": null,
            "grid_row": null,
            "grid_template_areas": null,
            "grid_template_columns": null,
            "grid_template_rows": null,
            "height": null,
            "justify_content": null,
            "justify_items": null,
            "left": null,
            "margin": null,
            "max_height": null,
            "max_width": null,
            "min_height": null,
            "min_width": null,
            "object_fit": null,
            "object_position": null,
            "order": null,
            "overflow": null,
            "overflow_x": null,
            "overflow_y": null,
            "padding": null,
            "right": null,
            "top": null,
            "visibility": null,
            "width": null
          }
        },
        "b83b73aac42b447f966527f29bdeb54b": {
          "model_module": "@jupyter-widgets/controls",
          "model_name": "DescriptionStyleModel",
          "model_module_version": "1.5.0",
          "state": {
            "_model_module": "@jupyter-widgets/controls",
            "_model_module_version": "1.5.0",
            "_model_name": "DescriptionStyleModel",
            "_view_count": null,
            "_view_module": "@jupyter-widgets/base",
            "_view_module_version": "1.2.0",
            "_view_name": "StyleView",
            "description_width": ""
          }
        },
        "24eb2bc009f04e76a6548168dc5f12d9": {
          "model_module": "@jupyter-widgets/controls",
          "model_name": "DropdownModel",
          "model_module_version": "1.5.0",
          "state": {
            "_dom_classes": [],
            "_model_module": "@jupyter-widgets/controls",
            "_model_module_version": "1.5.0",
            "_model_name": "DropdownModel",
            "_options_labels": [
              "funcionando",
              "no funcionando"
            ],
            "_view_count": null,
            "_view_module": "@jupyter-widgets/controls",
            "_view_module_version": "1.5.0",
            "_view_name": "DropdownView",
            "description": "Bomba 1:",
            "description_tooltip": null,
            "disabled": false,
            "index": 1,
            "layout": "IPY_MODEL_e7bf7997db7c4f4b83a49009cf9d7d76",
            "style": "IPY_MODEL_3b8273a4cfdb4af9a811c76a399d2cbb"
          }
        },
        "e7bf7997db7c4f4b83a49009cf9d7d76": {
          "model_module": "@jupyter-widgets/base",
          "model_name": "LayoutModel",
          "model_module_version": "1.2.0",
          "state": {
            "_model_module": "@jupyter-widgets/base",
            "_model_module_version": "1.2.0",
            "_model_name": "LayoutModel",
            "_view_count": null,
            "_view_module": "@jupyter-widgets/base",
            "_view_module_version": "1.2.0",
            "_view_name": "LayoutView",
            "align_content": null,
            "align_items": null,
            "align_self": null,
            "border": null,
            "bottom": null,
            "display": null,
            "flex": null,
            "flex_flow": null,
            "grid_area": null,
            "grid_auto_columns": null,
            "grid_auto_flow": null,
            "grid_auto_rows": null,
            "grid_column": null,
            "grid_gap": null,
            "grid_row": null,
            "grid_template_areas": null,
            "grid_template_columns": null,
            "grid_template_rows": null,
            "height": null,
            "justify_content": null,
            "justify_items": null,
            "left": null,
            "margin": null,
            "max_height": null,
            "max_width": null,
            "min_height": null,
            "min_width": null,
            "object_fit": null,
            "object_position": null,
            "order": null,
            "overflow": null,
            "overflow_x": null,
            "overflow_y": null,
            "padding": null,
            "right": null,
            "top": null,
            "visibility": null,
            "width": null
          }
        },
        "3b8273a4cfdb4af9a811c76a399d2cbb": {
          "model_module": "@jupyter-widgets/controls",
          "model_name": "DescriptionStyleModel",
          "model_module_version": "1.5.0",
          "state": {
            "_model_module": "@jupyter-widgets/controls",
            "_model_module_version": "1.5.0",
            "_model_name": "DescriptionStyleModel",
            "_view_count": null,
            "_view_module": "@jupyter-widgets/base",
            "_view_module_version": "1.2.0",
            "_view_name": "StyleView",
            "description_width": ""
          }
        },
        "f9923d99d5fe458fb07b9523853a8e95": {
          "model_module": "@jupyter-widgets/controls",
          "model_name": "DropdownModel",
          "model_module_version": "1.5.0",
          "state": {
            "_dom_classes": [],
            "_model_module": "@jupyter-widgets/controls",
            "_model_module_version": "1.5.0",
            "_model_name": "DropdownModel",
            "_options_labels": [
              "funcionando",
              "no funcionando"
            ],
            "_view_count": null,
            "_view_module": "@jupyter-widgets/controls",
            "_view_module_version": "1.5.0",
            "_view_name": "DropdownView",
            "description": "Bomba 2:",
            "description_tooltip": null,
            "disabled": false,
            "index": 1,
            "layout": "IPY_MODEL_51757272ecbb45bbb435ce65b96f9a3b",
            "style": "IPY_MODEL_4fcc100004d64cd08ee0fc99fd2d7388"
          }
        },
        "51757272ecbb45bbb435ce65b96f9a3b": {
          "model_module": "@jupyter-widgets/base",
          "model_name": "LayoutModel",
          "model_module_version": "1.2.0",
          "state": {
            "_model_module": "@jupyter-widgets/base",
            "_model_module_version": "1.2.0",
            "_model_name": "LayoutModel",
            "_view_count": null,
            "_view_module": "@jupyter-widgets/base",
            "_view_module_version": "1.2.0",
            "_view_name": "LayoutView",
            "align_content": null,
            "align_items": null,
            "align_self": null,
            "border": null,
            "bottom": null,
            "display": null,
            "flex": null,
            "flex_flow": null,
            "grid_area": null,
            "grid_auto_columns": null,
            "grid_auto_flow": null,
            "grid_auto_rows": null,
            "grid_column": null,
            "grid_gap": null,
            "grid_row": null,
            "grid_template_areas": null,
            "grid_template_columns": null,
            "grid_template_rows": null,
            "height": null,
            "justify_content": null,
            "justify_items": null,
            "left": null,
            "margin": null,
            "max_height": null,
            "max_width": null,
            "min_height": null,
            "min_width": null,
            "object_fit": null,
            "object_position": null,
            "order": null,
            "overflow": null,
            "overflow_x": null,
            "overflow_y": null,
            "padding": null,
            "right": null,
            "top": null,
            "visibility": null,
            "width": null
          }
        },
        "4fcc100004d64cd08ee0fc99fd2d7388": {
          "model_module": "@jupyter-widgets/controls",
          "model_name": "DescriptionStyleModel",
          "model_module_version": "1.5.0",
          "state": {
            "_model_module": "@jupyter-widgets/controls",
            "_model_module_version": "1.5.0",
            "_model_name": "DescriptionStyleModel",
            "_view_count": null,
            "_view_module": "@jupyter-widgets/base",
            "_view_module_version": "1.2.0",
            "_view_name": "StyleView",
            "description_width": ""
          }
        },
        "2ddf16d707a24bca990ef48f9c410a22": {
          "model_module": "@jupyter-widgets/controls",
          "model_name": "DropdownModel",
          "model_module_version": "1.5.0",
          "state": {
            "_dom_classes": [],
            "_model_module": "@jupyter-widgets/controls",
            "_model_module_version": "1.5.0",
            "_model_name": "DropdownModel",
            "_options_labels": [
              "funcionando",
              "no funcionando"
            ],
            "_view_count": null,
            "_view_module": "@jupyter-widgets/controls",
            "_view_module_version": "1.5.0",
            "_view_name": "DropdownView",
            "description": "Sensor 1:",
            "description_tooltip": null,
            "disabled": false,
            "index": 1,
            "layout": "IPY_MODEL_851f2f98b7cf4c9ba75a87ecce6be482",
            "style": "IPY_MODEL_18e08c90d528445c884e5372d4dc9a3e"
          }
        },
        "851f2f98b7cf4c9ba75a87ecce6be482": {
          "model_module": "@jupyter-widgets/base",
          "model_name": "LayoutModel",
          "model_module_version": "1.2.0",
          "state": {
            "_model_module": "@jupyter-widgets/base",
            "_model_module_version": "1.2.0",
            "_model_name": "LayoutModel",
            "_view_count": null,
            "_view_module": "@jupyter-widgets/base",
            "_view_module_version": "1.2.0",
            "_view_name": "LayoutView",
            "align_content": null,
            "align_items": null,
            "align_self": null,
            "border": null,
            "bottom": null,
            "display": null,
            "flex": null,
            "flex_flow": null,
            "grid_area": null,
            "grid_auto_columns": null,
            "grid_auto_flow": null,
            "grid_auto_rows": null,
            "grid_column": null,
            "grid_gap": null,
            "grid_row": null,
            "grid_template_areas": null,
            "grid_template_columns": null,
            "grid_template_rows": null,
            "height": null,
            "justify_content": null,
            "justify_items": null,
            "left": null,
            "margin": null,
            "max_height": null,
            "max_width": null,
            "min_height": null,
            "min_width": null,
            "object_fit": null,
            "object_position": null,
            "order": null,
            "overflow": null,
            "overflow_x": null,
            "overflow_y": null,
            "padding": null,
            "right": null,
            "top": null,
            "visibility": null,
            "width": null
          }
        },
        "18e08c90d528445c884e5372d4dc9a3e": {
          "model_module": "@jupyter-widgets/controls",
          "model_name": "DescriptionStyleModel",
          "model_module_version": "1.5.0",
          "state": {
            "_model_module": "@jupyter-widgets/controls",
            "_model_module_version": "1.5.0",
            "_model_name": "DescriptionStyleModel",
            "_view_count": null,
            "_view_module": "@jupyter-widgets/base",
            "_view_module_version": "1.2.0",
            "_view_name": "StyleView",
            "description_width": ""
          }
        },
        "2827e616e4b24aeea85d476be7749a84": {
          "model_module": "@jupyter-widgets/controls",
          "model_name": "DropdownModel",
          "model_module_version": "1.5.0",
          "state": {
            "_dom_classes": [],
            "_model_module": "@jupyter-widgets/controls",
            "_model_module_version": "1.5.0",
            "_model_name": "DropdownModel",
            "_options_labels": [
              "funcionando",
              "no funcionando"
            ],
            "_view_count": null,
            "_view_module": "@jupyter-widgets/controls",
            "_view_module_version": "1.5.0",
            "_view_name": "DropdownView",
            "description": "Sensor 2:",
            "description_tooltip": null,
            "disabled": false,
            "index": 1,
            "layout": "IPY_MODEL_cd5f853c12d64d6d8ed7734788d4282a",
            "style": "IPY_MODEL_c35e5602ded941fcaab860d559b9c14f"
          }
        },
        "cd5f853c12d64d6d8ed7734788d4282a": {
          "model_module": "@jupyter-widgets/base",
          "model_name": "LayoutModel",
          "model_module_version": "1.2.0",
          "state": {
            "_model_module": "@jupyter-widgets/base",
            "_model_module_version": "1.2.0",
            "_model_name": "LayoutModel",
            "_view_count": null,
            "_view_module": "@jupyter-widgets/base",
            "_view_module_version": "1.2.0",
            "_view_name": "LayoutView",
            "align_content": null,
            "align_items": null,
            "align_self": null,
            "border": null,
            "bottom": null,
            "display": null,
            "flex": null,
            "flex_flow": null,
            "grid_area": null,
            "grid_auto_columns": null,
            "grid_auto_flow": null,
            "grid_auto_rows": null,
            "grid_column": null,
            "grid_gap": null,
            "grid_row": null,
            "grid_template_areas": null,
            "grid_template_columns": null,
            "grid_template_rows": null,
            "height": null,
            "justify_content": null,
            "justify_items": null,
            "left": null,
            "margin": null,
            "max_height": null,
            "max_width": null,
            "min_height": null,
            "min_width": null,
            "object_fit": null,
            "object_position": null,
            "order": null,
            "overflow": null,
            "overflow_x": null,
            "overflow_y": null,
            "padding": null,
            "right": null,
            "top": null,
            "visibility": null,
            "width": null
          }
        },
        "c35e5602ded941fcaab860d559b9c14f": {
          "model_module": "@jupyter-widgets/controls",
          "model_name": "DescriptionStyleModel",
          "model_module_version": "1.5.0",
          "state": {
            "_model_module": "@jupyter-widgets/controls",
            "_model_module_version": "1.5.0",
            "_model_name": "DescriptionStyleModel",
            "_view_count": null,
            "_view_module": "@jupyter-widgets/base",
            "_view_module_version": "1.2.0",
            "_view_name": "StyleView",
            "description_width": ""
          }
        },
        "99732a88fddd49678ceb0c1624d5e793": {
          "model_module": "@jupyter-widgets/controls",
          "model_name": "DropdownModel",
          "model_module_version": "1.5.0",
          "state": {
            "_dom_classes": [],
            "_model_module": "@jupyter-widgets/controls",
            "_model_module_version": "1.5.0",
            "_model_name": "DropdownModel",
            "_options_labels": [
              "verde",
              "amarillo",
              "rojo"
            ],
            "_view_count": null,
            "_view_module": "@jupyter-widgets/controls",
            "_view_module_version": "1.5.0",
            "_view_name": "DropdownView",
            "description": "Estado semáforo:",
            "description_tooltip": null,
            "disabled": false,
            "index": 1,
            "layout": "IPY_MODEL_45e9e31afc6748ff81d54dfb4365787e",
            "style": "IPY_MODEL_c986db86062d4c8ea551a84566597676"
          }
        },
        "45e9e31afc6748ff81d54dfb4365787e": {
          "model_module": "@jupyter-widgets/base",
          "model_name": "LayoutModel",
          "model_module_version": "1.2.0",
          "state": {
            "_model_module": "@jupyter-widgets/base",
            "_model_module_version": "1.2.0",
            "_model_name": "LayoutModel",
            "_view_count": null,
            "_view_module": "@jupyter-widgets/base",
            "_view_module_version": "1.2.0",
            "_view_name": "LayoutView",
            "align_content": null,
            "align_items": null,
            "align_self": null,
            "border": null,
            "bottom": null,
            "display": null,
            "flex": null,
            "flex_flow": null,
            "grid_area": null,
            "grid_auto_columns": null,
            "grid_auto_flow": null,
            "grid_auto_rows": null,
            "grid_column": null,
            "grid_gap": null,
            "grid_row": null,
            "grid_template_areas": null,
            "grid_template_columns": null,
            "grid_template_rows": null,
            "height": null,
            "justify_content": null,
            "justify_items": null,
            "left": null,
            "margin": null,
            "max_height": null,
            "max_width": null,
            "min_height": null,
            "min_width": null,
            "object_fit": null,
            "object_position": null,
            "order": null,
            "overflow": null,
            "overflow_x": null,
            "overflow_y": null,
            "padding": null,
            "right": null,
            "top": null,
            "visibility": null,
            "width": null
          }
        },
        "c986db86062d4c8ea551a84566597676": {
          "model_module": "@jupyter-widgets/controls",
          "model_name": "DescriptionStyleModel",
          "model_module_version": "1.5.0",
          "state": {
            "_model_module": "@jupyter-widgets/controls",
            "_model_module_version": "1.5.0",
            "_model_name": "DescriptionStyleModel",
            "_view_count": null,
            "_view_module": "@jupyter-widgets/base",
            "_view_module_version": "1.2.0",
            "_view_name": "StyleView",
            "description_width": ""
          }
        },
        "4c6e2f54d29547d59283bc14bec99ec6": {
          "model_module": "@jupyter-widgets/controls",
          "model_name": "TextModel",
          "model_module_version": "1.5.0",
          "state": {
            "_dom_classes": [],
            "_model_module": "@jupyter-widgets/controls",
            "_model_module_version": "1.5.0",
            "_model_name": "TextModel",
            "_view_count": null,
            "_view_module": "@jupyter-widgets/controls",
            "_view_module_version": "1.5.0",
            "_view_name": "TextView",
            "continuous_update": true,
            "description": "Ciudad:",
            "description_tooltip": null,
            "disabled": false,
            "layout": "IPY_MODEL_a147f9d539f64075bb3f06d67915dfbb",
            "placeholder": "​",
            "style": "IPY_MODEL_6cc96e1cfd624f1f8a5d3d925334c740",
            "value": "Ancud"
          }
        },
        "a147f9d539f64075bb3f06d67915dfbb": {
          "model_module": "@jupyter-widgets/base",
          "model_name": "LayoutModel",
          "model_module_version": "1.2.0",
          "state": {
            "_model_module": "@jupyter-widgets/base",
            "_model_module_version": "1.2.0",
            "_model_name": "LayoutModel",
            "_view_count": null,
            "_view_module": "@jupyter-widgets/base",
            "_view_module_version": "1.2.0",
            "_view_name": "LayoutView",
            "align_content": null,
            "align_items": null,
            "align_self": null,
            "border": null,
            "bottom": null,
            "display": null,
            "flex": null,
            "flex_flow": null,
            "grid_area": null,
            "grid_auto_columns": null,
            "grid_auto_flow": null,
            "grid_auto_rows": null,
            "grid_column": null,
            "grid_gap": null,
            "grid_row": null,
            "grid_template_areas": null,
            "grid_template_columns": null,
            "grid_template_rows": null,
            "height": null,
            "justify_content": null,
            "justify_items": null,
            "left": null,
            "margin": null,
            "max_height": null,
            "max_width": null,
            "min_height": null,
            "min_width": null,
            "object_fit": null,
            "object_position": null,
            "order": null,
            "overflow": null,
            "overflow_x": null,
            "overflow_y": null,
            "padding": null,
            "right": null,
            "top": null,
            "visibility": null,
            "width": null
          }
        },
        "6cc96e1cfd624f1f8a5d3d925334c740": {
          "model_module": "@jupyter-widgets/controls",
          "model_name": "DescriptionStyleModel",
          "model_module_version": "1.5.0",
          "state": {
            "_model_module": "@jupyter-widgets/controls",
            "_model_module_version": "1.5.0",
            "_model_name": "DescriptionStyleModel",
            "_view_count": null,
            "_view_module": "@jupyter-widgets/base",
            "_view_module_version": "1.2.0",
            "_view_name": "StyleView",
            "description_width": ""
          }
        },
        "94efe69603e748f8a985a6301a9cb4a6": {
          "model_module": "@jupyter-widgets/output",
          "model_name": "OutputModel",
          "model_module_version": "1.0.0",
          "state": {
            "_dom_classes": [],
            "_model_module": "@jupyter-widgets/output",
            "_model_module_version": "1.0.0",
            "_model_name": "OutputModel",
            "_view_count": null,
            "_view_module": "@jupyter-widgets/output",
            "_view_module_version": "1.0.0",
            "_view_name": "OutputView",
            "layout": "IPY_MODEL_d84b4a523e7c45ff8749a5005f046980",
            "msg_id": "",
            "outputs": [
              {
                "output_type": "stream",
                "name": "stdout",
                "text": [
                  "Distribución optimizada de autobuses en Ancud:\n",
                  "Fitness del plan de distribución: 50\n",
                  "  - Zona: Centro, Número de autobuses: 1\n",
                  "  - Zona: Villa Chacao, Número de autobuses: 9\n",
                  "  - Zona: Pudeto, Número de autobuses: 2\n",
                  "  - Zona: Fátima, Número de autobuses: 9\n",
                  "  - Zona: Quetalmahue, Número de autobuses: 1\n",
                  "  - Zona: Pumillahue, Número de autobuses: 9\n",
                  "  - Zona: Lechagua, Número de autobuses: 1\n",
                  "  - Zona: Calen, Número de autobuses: 2\n",
                  "  - Zona: Pugueñún, Número de autobuses: 1\n",
                  "  - Zona: Caulín, Número de autobuses: 8\n"
                ]
              },
              {
                "output_type": "display_data",
                "data": {
                  "text/plain": "<Figure size 640x480 with 1 Axes>",
                  "image/png": "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\n"
                },
                "metadata": {}
              },
              {
                "output_type": "stream",
                "name": "stdout",
                "text": [
                  "\n",
                  "Recomendaciones de intensidad de luces en Ancud según simulaciones:\n",
                  "  - Hora del día: 12:00 PM\n",
                  "  - Nivel de tráfico: 50%\n",
                  "  - Condición climática: 50%\n",
                  "  - Intensidad de luces recomendada: 0.00%\n"
                ]
              },
              {
                "output_type": "display_data",
                "data": {
                  "text/plain": "<Figure size 640x480 with 1 Axes>",
                  "image/png": "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\n"
                },
                "metadata": {}
              },
              {
                "output_type": "stream",
                "name": "stdout",
                "text": [
                  "\n",
                  "Resultados de la lógica proposicional para el control de tráfico en Ancud:\n"
                ]
              },
              {
                "output_type": "stream",
                "name": "stdout",
                "text": [
                  "\n",
                  "Resultados de la lógica de primer orden para el control de tráfico en Ancud:\n",
                  "\n",
                  "Estados inicial y final de los sistemas de agua en Ancud:\n",
                  "  - Estado inicial: ['sin agua', 'cerrada', 'cerrada', 'no funcionando', 'no funcionando', 'no funcionando', 'no funcionando']\n",
                  "  - Estado final: ['sin agua', 'abierta', 'abierta', 'no funcionando', 'no funcionando', 'funcionando', 'funcionando']\n"
                ]
              },
              {
                "output_type": "display_data",
                "data": {
                  "text/plain": "<Figure size 640x480 with 1 Axes>",
                  "image/png": "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\n"
                },
                "metadata": {}
              },
              {
                "output_type": "stream",
                "name": "stdout",
                "text": [
                  "\n",
                  "Información detallada sobre la infraestructura en Ancud:\n",
                  "Información sobre 'Carretera1':\n",
                  "  - Tipo: carretera\n",
                  "  - Estado: bueno\n",
                  "  - Longitud: 10 km\n",
                  "  - Conexiones: Tuberia1, CableElectrico1\n",
                  "  - Camino más corto entre 'Carretera1' y 'SubestacionElectrica1': Carretera1, CableElectrico1, SubestacionElectrica1\n",
                  "\n",
                  "Información sobre 'Tuberia1':\n",
                  "  - Tipo: tuberia\n",
                  "  - Estado: malo\n",
                  "  - Capacidad: 100 L\n",
                  "  - Conexiones: Carretera1, EstacionBombeo1\n",
                  "  - Camino más corto entre 'Tuberia1' y 'SubestacionElectrica1': Tuberia1, Carretera1, CableElectrico1, SubestacionElectrica1\n"
                ]
              },
              {
                "output_type": "display_data",
                "data": {
                  "text/plain": "<Figure size 640x480 with 1 Axes>",
                  "image/png": "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\n"
                },
                "metadata": {}
              },
              {
                "output_type": "display_data",
                "data": {
                  "text/plain": "<Figure size 640x480 with 1 Axes>",
                  "image/png": "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\n"
                },
                "metadata": {}
              }
            ]
          }
        },
        "d84b4a523e7c45ff8749a5005f046980": {
          "model_module": "@jupyter-widgets/base",
          "model_name": "LayoutModel",
          "model_module_version": "1.2.0",
          "state": {
            "_model_module": "@jupyter-widgets/base",
            "_model_module_version": "1.2.0",
            "_model_name": "LayoutModel",
            "_view_count": null,
            "_view_module": "@jupyter-widgets/base",
            "_view_module_version": "1.2.0",
            "_view_name": "LayoutView",
            "align_content": null,
            "align_items": null,
            "align_self": null,
            "border": null,
            "bottom": null,
            "display": null,
            "flex": null,
            "flex_flow": null,
            "grid_area": null,
            "grid_auto_columns": null,
            "grid_auto_flow": null,
            "grid_auto_rows": null,
            "grid_column": null,
            "grid_gap": null,
            "grid_row": null,
            "grid_template_areas": null,
            "grid_template_columns": null,
            "grid_template_rows": null,
            "height": null,
            "justify_content": null,
            "justify_items": null,
            "left": null,
            "margin": null,
            "max_height": null,
            "max_width": null,
            "min_height": null,
            "min_width": null,
            "object_fit": null,
            "object_position": null,
            "order": null,
            "overflow": null,
            "overflow_x": null,
            "overflow_y": null,
            "padding": null,
            "right": null,
            "top": null,
            "visibility": null,
            "width": null
          }
        }
      }
    }
  },
  "cells": [
    {
      "cell_type": "markdown",
      "metadata": {
        "id": "view-in-github",
        "colab_type": "text"
      },
      "source": [
        "<a href=\"https://colab.research.google.com/github/michaelarjelm/evaluacionTresIA/blob/main/Evaluacion_3_(2).ipynb\" target=\"_parent\"><img src=\"https://colab.research.google.com/assets/colab-badge.svg\" alt=\"Open In Colab\"/></a>"
      ]
    },
    {
      "cell_type": "markdown",
      "source": [
        "# Introducción"
      ],
      "metadata": {
        "id": "DSQLmU6KMD0b"
      }
    },
    {
      "cell_type": "markdown",
      "source": [
        "Estamos implementando un avanzado sistema de Smart City para transformar Ancud en una ciudad inteligente. Ancud, una pintoresca ciudad ubicada en el norte de la Isla de Chiloé en Chile, es conocida por su rica historia, hermosos paisajes y vibrante cultura local. Este sistema integrará tecnologías de última generación para optimizar y mejorar diversos aspectos de la vida urbana, incluyendo la gestión del tráfico, la administración del suministro de agua, y la infraestructura pública. Utilizando técnicas de inteligencia artificial, control difuso, y teoría de juegos de Nash, nuestro objetivo es crear una ciudad más eficiente, segura y sostenible, mejorando así la calidad de vida de sus habitantes y posicionando a Ancud como un modelo de innovación y modernidad en la región.\n",
        "\n",
        "\n",
        "\n",
        "\n"
      ],
      "metadata": {
        "id": "cEZnJjzBNC1S"
      }
    },
    {
      "cell_type": "markdown",
      "source": [],
      "metadata": {
        "id": "MtEVxqgFMKwq"
      }
    },
    {
      "cell_type": "markdown",
      "source": [
        "# Importar bibliotecas necesarias\n",
        "\n"
      ],
      "metadata": {
        "id": "nA5wMi0E-fsa"
      }
    },
    {
      "cell_type": "code",
      "execution_count": 1,
      "metadata": {
        "colab": {
          "base_uri": "https://localhost:8080/"
        },
        "id": "ZOLTQKVW2zjW",
        "outputId": "2a167ada-41e7-4af8-c67d-b02074517ff8"
      },
      "outputs": [
        {
          "output_type": "stream",
          "name": "stdout",
          "text": [
            "Collecting scikit-fuzzy\n",
            "  Downloading scikit-fuzzy-0.4.2.tar.gz (993 kB)\n",
            "\u001b[2K     \u001b[90m━━━━━━━━━━━━━━━━━━━━━━━━━━━━━━━━━━━━━━━━\u001b[0m \u001b[32m994.0/994.0 kB\u001b[0m \u001b[31m5.8 MB/s\u001b[0m eta \u001b[36m0:00:00\u001b[0m\n",
            "\u001b[?25h  Preparing metadata (setup.py) ... \u001b[?25l\u001b[?25hdone\n",
            "Requirement already satisfied: numpy>=1.6.0 in /usr/local/lib/python3.10/dist-packages (from scikit-fuzzy) (1.25.2)\n",
            "Requirement already satisfied: scipy>=0.9.0 in /usr/local/lib/python3.10/dist-packages (from scikit-fuzzy) (1.11.4)\n",
            "Requirement already satisfied: networkx>=1.9.0 in /usr/local/lib/python3.10/dist-packages (from scikit-fuzzy) (3.3)\n",
            "Building wheels for collected packages: scikit-fuzzy\n",
            "  Building wheel for scikit-fuzzy (setup.py) ... \u001b[?25l\u001b[?25hdone\n",
            "  Created wheel for scikit-fuzzy: filename=scikit_fuzzy-0.4.2-py3-none-any.whl size=894078 sha256=f913c3868cfcef029e01a82f32a986a6bf3a412ec329451835e0b92d855c1f36\n",
            "  Stored in directory: /root/.cache/pip/wheels/4f/86/1b/dfd97134a2c8313e519bcebd95d3fedc7be7944db022094bc8\n",
            "Successfully built scikit-fuzzy\n",
            "Installing collected packages: scikit-fuzzy\n",
            "Successfully installed scikit-fuzzy-0.4.2\n",
            "Collecting nashpy\n",
            "  Downloading nashpy-0.0.41-py3-none-any.whl (27 kB)\n",
            "Requirement already satisfied: numpy>=1.21.0 in /usr/local/lib/python3.10/dist-packages (from nashpy) (1.25.2)\n",
            "Requirement already satisfied: scipy>=0.19.0 in /usr/local/lib/python3.10/dist-packages (from nashpy) (1.11.4)\n",
            "Requirement already satisfied: networkx>=3.0.0 in /usr/local/lib/python3.10/dist-packages (from nashpy) (3.3)\n",
            "Collecting deprecated>=1.2.14 (from nashpy)\n",
            "  Downloading Deprecated-1.2.14-py2.py3-none-any.whl (9.6 kB)\n",
            "Requirement already satisfied: wrapt<2,>=1.10 in /usr/local/lib/python3.10/dist-packages (from deprecated>=1.2.14->nashpy) (1.14.1)\n",
            "Installing collected packages: deprecated, nashpy\n",
            "Successfully installed deprecated-1.2.14 nashpy-0.0.41\n",
            "Requirement already satisfied: networkx in /usr/local/lib/python3.10/dist-packages (3.3)\n",
            "Requirement already satisfied: sympy in /usr/local/lib/python3.10/dist-packages (1.12.1)\n",
            "Requirement already satisfied: mpmath<1.4.0,>=1.1.0 in /usr/local/lib/python3.10/dist-packages (from sympy) (1.3.0)\n"
          ]
        }
      ],
      "source": [
        "!pip install scikit-fuzzy # Instala la biblioteca scikit-fuzzy, que proporciona herramientas para trabajar con lógica difusa.\n",
        "!pip install nashpy # Instala la biblioteca nashpy, que permite trabajar con teoría de juegos y encontrar equilibrios de Nash.\n",
        "!pip install networkx # Instala la biblioteca networkx, que proporciona herramientas para la creación, manipulación y estudio de la estructura, dinámica y funciones de redes complejas.\n",
        "!pip install sympy # Instala la biblioteca sympy, que es una biblioteca para cálculos simbólicos en Python.\n",
        "import ipywidgets as widgets # Importa la biblioteca ipywidgets para crear widgets interactivos en Jupyter notebooks.\n",
        "from IPython.display import display # Importa la función display de IPython.display para mostrar widgets en la salida del notebook.\n",
        "import numpy as np # Importa la biblioteca numpy para operaciones numéricas avanzadas.\n",
        "import skfuzzy as fuzz # Importa la biblioteca scikit-fuzzy para trabajar con lógica difusa.\n",
        "from skfuzzy import control as ctrl # Importa el módulo control de scikit-fuzzy para crear sistemas de control difusos.\n",
        "from datetime import datetime # Importa la clase datetime de la biblioteca datetime para manejar y manipular fechas y horas.\n",
        "import networkx as nx # Importa la biblioteca networkx para crear y manejar grafos y redes.\n",
        "from sympy import symbols, And, Implies, Not, satisfiable # Importa funciones y símbolos de la biblioteca sympy para cálculos simbólicos.\n",
        "from skfuzzy import control as ctrl # Importa el módulo control de scikit-fuzzy para crear sistemas de control difusos.\n",
        "from datetime import datetime # Importa la clase datetime de la biblioteca datetime para manejar y manipular fechas y horas.\n",
        "import networkx as nx  # Importa la biblioteca networkx para crear y manejar grafos y redes.\n",
        "import nashpy as nash  # Importa la biblioteca nashpy para trabajar con teoría de juegos y encontrar equilibrios de Nash.\n",
        "import matplotlib.pyplot as plt # Importamos matplotlib.pyplot como 'plt' para crear gráficos y visualizaciones"
      ]
    },
    {
      "cell_type": "markdown",
      "source": [
        "# Creación Widgets para generar casos."
      ],
      "metadata": {
        "id": "LoVObObhAYzb"
      }
    },
    {
      "cell_type": "markdown",
      "source": [
        "Este código crea una interfaz interactiva en un notebook de Jupyter utilizando widgets para simular y gestionar un sistema de control de tráfico y un sistema de gestión de agua. Los usuarios pueden ajustar diferentes parámetros como la hora del día, el nivel de tráfico y la condición climática para ver cómo afectan la intensidad de las luces. También pueden ajustar el estado del suministro de agua, las válvulas, las bombas y los sensores para ver cómo estos cambios afectan el sistema de agua. Además, hay un selector para el estado del semáforo.\n",
        "\n",
        "Casos de uso.\n",
        "\n",
        "* Hora: 18:00 (hora punta)\n",
        "* Tráfico: 80%\n",
        "* Clima: Desfavorable\n",
        "* Madrugada con tráfico bajo y clima favorable:\n",
        "\n",
        "---------------------------------------------------------------------\n",
        "\n",
        "* Hora: 3:00\n",
        "* Tráfico: 10%\n",
        "* Clima: Favorable\n",
        "* Estado crítico del suministro de agua:\n",
        "\n",
        "----------------------------------------------------------------------\n",
        "\n",
        "* Estado del suministro: sin agua\n",
        "* Válvulas: cerradas\n",
        "* Bombas: no funcionando\n",
        "* Sensores: no funcionando\n",
        "* Condiciones normales durante el día:\n",
        "\n",
        "----------------------------------------------------------------------\n",
        "\n",
        "* Hora: 12:00\n",
        "* Tráfico: 50%\n",
        "* Clima: Normal\n",
        "* Estado del suministro: normal\n",
        "* Válvulas: abiertas\n",
        "* Bombas: funcionando\n",
        "* Sensores: funcionando\n",
        "\n"
      ],
      "metadata": {
        "id": "eSAN5OozB3ia"
      }
    },
    {
      "cell_type": "code",
      "source": [
        "# Parámetros configurables para el sistema de control de tráfico\n",
        "# Crea un slider para seleccionar la hora del día.\n",
        "hora_slider = widgets.IntSlider(value=12, min=0, max=23, step=1, description='Hora:')\n",
        "\n",
        "# Crea un slider para seleccionar el nivel de tráfico en porcentaje.\n",
        "trafico_slider = widgets.IntSlider(value=50, min=0, max=100, step=10, description='Tráfico (%):')\n",
        "\n",
        "# Crea un desplegable para seleccionar la condición climática.\n",
        "clima_dropdown = widgets.Dropdown(\n",
        "    options=['Favorable', 'Normal', 'Desfavorable'],\n",
        "    value='Normal',\n",
        "    description='Clima:',\n",
        ")\n",
        "\n",
        "# Muestra los widgets de hora, tráfico y clima en la salida del notebook.\n",
        "display(hora_slider, trafico_slider, clima_dropdown)\n",
        "\n",
        "# Parámetros configurables para el sistema de gestión de agua\n",
        "# Crea un desplegable para seleccionar el estado del suministro de agua.\n",
        "estado_suministro_selector = widgets.Dropdown(\n",
        "    options=['normal', 'baja presión', 'sin agua'],\n",
        "    value='normal',\n",
        "    description='Estado suministro:'\n",
        ")\n",
        "\n",
        "# Crea un diccionario de widgets desplegables para seleccionar el estado de las válvulas.\n",
        "estado_valvulas_selectors = {\n",
        "    'valvula1': widgets.Dropdown(options=['abierta', 'cerrada'], value='abierta', description='Válvula 1:'),\n",
        "    'valvula2': widgets.Dropdown(options=['abierta', 'cerrada'], value='abierta', description='Válvula 2:')\n",
        "}\n",
        "\n",
        "# Crea un diccionario de widgets desplegables para seleccionar el estado de las bombas.\n",
        "estado_bombas_selectors = {\n",
        "    'bomba1': widgets.Dropdown(options=['funcionando', 'no funcionando'], value='funcionando', description='Bomba 1:'),\n",
        "    'bomba2': widgets.Dropdown(options=['funcionando', 'no funcionando'], value='funcionando', description='Bomba 2:')\n",
        "}\n",
        "\n",
        "# Crea un diccionario de widgets desplegables para seleccionar el estado de los sensores.\n",
        "estado_sensores_selectors = {\n",
        "    'sensor1': widgets.Dropdown(options=['funcionando', 'no funcionando'], value='funcionando', description='Sensor 1:'),\n",
        "    'sensor2': widgets.Dropdown(options=['funcionando', 'no funcionando'], value='funcionando', description='Sensor 2:')\n",
        "}\n",
        "\n",
        "# Muestra el widget del estado del suministro de agua en la salida del notebook.\n",
        "display(estado_suministro_selector)\n",
        "\n",
        "# Muestra los widgets del estado de las válvulas en la salida del notebook.\n",
        "for w in estado_valvulas_selectors.values():\n",
        "    display(w)\n",
        "\n",
        "# Muestra los widgets del estado de las bombas en la salida del notebook.\n",
        "for w in estado_bombas_selectors.values():\n",
        "    display(w)\n",
        "\n",
        "# Muestra los widgets del estado de los sensores en la salida del notebook.\n",
        "for w in estado_sensores_selectors.values():\n",
        "    display(w)\n",
        "\n",
        "# Crea un desplegable para seleccionar el estado del semáforo.\n",
        "semaforo_selector = widgets.Dropdown(\n",
        "    options=['verde', 'amarillo', 'rojo'],\n",
        "    value='verde',\n",
        "    description='Estado semáforo:'\n",
        ")\n",
        "\n",
        "# Muestra el widget del estado del semáforo en la salida del notebook.\n",
        "display(semaforo_selector)\n"
      ],
      "metadata": {
        "colab": {
          "base_uri": "https://localhost:8080/",
          "height": 349,
          "referenced_widgets": [
            "6733b7c89be44b5b9b41368c79280de3",
            "4de45890b5104d2fa50dc2e121227a9f",
            "bf684ac624aa4c03b6324b813bc4688b",
            "adbbe7c0c39246e38b55a76165879e0c",
            "05d2095e161640cc98ebe9a5e00e0417",
            "4fbc1ac83468418fa9a46ee5277bee05",
            "770a788018874d49a2a751977a8b9374",
            "9bd5b8095ab2498c92dd2489aae53840",
            "b8901f370f8649649cd77b0308f90e30",
            "0aa691e973e141998ac04c992c8eb045",
            "7f4325a6c2714728afc6dae08ead2756",
            "066542825e904d3fbbac129738fcee99",
            "e631d5c793264d488f9b848303b4f802",
            "62901ef7a6f5400cbbee2ee08b726735",
            "02077ebe46ca4d44ad728ea3c0dacc5d",
            "79f8bc084b044dc9ba785f83657cb874",
            "3743aedfebe04cd79139278606096726",
            "b83b73aac42b447f966527f29bdeb54b",
            "24eb2bc009f04e76a6548168dc5f12d9",
            "e7bf7997db7c4f4b83a49009cf9d7d76",
            "3b8273a4cfdb4af9a811c76a399d2cbb",
            "f9923d99d5fe458fb07b9523853a8e95",
            "51757272ecbb45bbb435ce65b96f9a3b",
            "4fcc100004d64cd08ee0fc99fd2d7388",
            "2ddf16d707a24bca990ef48f9c410a22",
            "851f2f98b7cf4c9ba75a87ecce6be482",
            "18e08c90d528445c884e5372d4dc9a3e",
            "2827e616e4b24aeea85d476be7749a84",
            "cd5f853c12d64d6d8ed7734788d4282a",
            "c35e5602ded941fcaab860d559b9c14f",
            "99732a88fddd49678ceb0c1624d5e793",
            "45e9e31afc6748ff81d54dfb4365787e",
            "c986db86062d4c8ea551a84566597676"
          ]
        },
        "id": "JamSHnhn24BB",
        "outputId": "77b76630-cba2-4533-d1a6-fce489c6d661"
      },
      "execution_count": 2,
      "outputs": [
        {
          "output_type": "display_data",
          "data": {
            "text/plain": [
              "IntSlider(value=12, description='Hora:', max=23)"
            ],
            "application/vnd.jupyter.widget-view+json": {
              "version_major": 2,
              "version_minor": 0,
              "model_id": "6733b7c89be44b5b9b41368c79280de3"
            }
          },
          "metadata": {}
        },
        {
          "output_type": "display_data",
          "data": {
            "text/plain": [
              "IntSlider(value=50, description='Tráfico (%):', step=10)"
            ],
            "application/vnd.jupyter.widget-view+json": {
              "version_major": 2,
              "version_minor": 0,
              "model_id": "adbbe7c0c39246e38b55a76165879e0c"
            }
          },
          "metadata": {}
        },
        {
          "output_type": "display_data",
          "data": {
            "text/plain": [
              "Dropdown(description='Clima:', index=1, options=('Favorable', 'Normal', 'Desfavorable'), value='Normal')"
            ],
            "application/vnd.jupyter.widget-view+json": {
              "version_major": 2,
              "version_minor": 0,
              "model_id": "770a788018874d49a2a751977a8b9374"
            }
          },
          "metadata": {}
        },
        {
          "output_type": "display_data",
          "data": {
            "text/plain": [
              "Dropdown(description='Estado suministro:', options=('normal', 'baja presión', 'sin agua'), value='normal')"
            ],
            "application/vnd.jupyter.widget-view+json": {
              "version_major": 2,
              "version_minor": 0,
              "model_id": "0aa691e973e141998ac04c992c8eb045"
            }
          },
          "metadata": {}
        },
        {
          "output_type": "display_data",
          "data": {
            "text/plain": [
              "Dropdown(description='Válvula 1:', options=('abierta', 'cerrada'), value='abierta')"
            ],
            "application/vnd.jupyter.widget-view+json": {
              "version_major": 2,
              "version_minor": 0,
              "model_id": "e631d5c793264d488f9b848303b4f802"
            }
          },
          "metadata": {}
        },
        {
          "output_type": "display_data",
          "data": {
            "text/plain": [
              "Dropdown(description='Válvula 2:', options=('abierta', 'cerrada'), value='abierta')"
            ],
            "application/vnd.jupyter.widget-view+json": {
              "version_major": 2,
              "version_minor": 0,
              "model_id": "79f8bc084b044dc9ba785f83657cb874"
            }
          },
          "metadata": {}
        },
        {
          "output_type": "display_data",
          "data": {
            "text/plain": [
              "Dropdown(description='Bomba 1:', options=('funcionando', 'no funcionando'), value='funcionando')"
            ],
            "application/vnd.jupyter.widget-view+json": {
              "version_major": 2,
              "version_minor": 0,
              "model_id": "24eb2bc009f04e76a6548168dc5f12d9"
            }
          },
          "metadata": {}
        },
        {
          "output_type": "display_data",
          "data": {
            "text/plain": [
              "Dropdown(description='Bomba 2:', options=('funcionando', 'no funcionando'), value='funcionando')"
            ],
            "application/vnd.jupyter.widget-view+json": {
              "version_major": 2,
              "version_minor": 0,
              "model_id": "f9923d99d5fe458fb07b9523853a8e95"
            }
          },
          "metadata": {}
        },
        {
          "output_type": "display_data",
          "data": {
            "text/plain": [
              "Dropdown(description='Sensor 1:', options=('funcionando', 'no funcionando'), value='funcionando')"
            ],
            "application/vnd.jupyter.widget-view+json": {
              "version_major": 2,
              "version_minor": 0,
              "model_id": "2ddf16d707a24bca990ef48f9c410a22"
            }
          },
          "metadata": {}
        },
        {
          "output_type": "display_data",
          "data": {
            "text/plain": [
              "Dropdown(description='Sensor 2:', options=('funcionando', 'no funcionando'), value='funcionando')"
            ],
            "application/vnd.jupyter.widget-view+json": {
              "version_major": 2,
              "version_minor": 0,
              "model_id": "2827e616e4b24aeea85d476be7749a84"
            }
          },
          "metadata": {}
        },
        {
          "output_type": "display_data",
          "data": {
            "text/plain": [
              "Dropdown(description='Estado semáforo:', options=('verde', 'amarillo', 'rojo'), value='verde')"
            ],
            "application/vnd.jupyter.widget-view+json": {
              "version_major": 2,
              "version_minor": 0,
              "model_id": "99732a88fddd49678ceb0c1624d5e793"
            }
          },
          "metadata": {}
        }
      ]
    },
    {
      "cell_type": "markdown",
      "source": [
        "# Algoritmo Genético"
      ],
      "metadata": {
        "id": "ljDH6GT_AkYK"
      }
    },
    {
      "cell_type": "markdown",
      "source": [
        "Este código implementa un algoritmo genético para optimizar la distribución de autobuses en varias zonas. Define diferentes zonas y asigna costos y eficiencias a cada una. El objetivo es encontrar la mejor distribución de autobuses que maximice la eficiencia y minimice los costos.\n",
        "\n",
        "El proceso comienza creando una población inicial de soluciones posibles. Luego, el algoritmo evalúa qué tan buena es cada solución (su \"fitness\") y selecciona las mejores para la siguiente generación. Las mejores soluciones se cruzan y mutan para crear nuevas soluciones. Este ciclo de evaluación, selección, cruce y mutación se repite durante varias generaciones para mejorar las soluciones gradualmente."
      ],
      "metadata": {
        "id": "G8ACVEmJKwV0"
      }
    },
    {
      "cell_type": "code",
      "source": [
        "\n",
        "# Definición de las zonas a considerar en el problema.\n",
        "zonas = [\"Centro\", \"Villa Chacao\", \"Pudeto\", \"Fátima\", \"Quetalmahue\", \"Pumillahue\", \"Lechagua\", \"Calen\", \"Pugueñún\", \"Caulín\"]\n",
        "\n",
        "# Costos asociados a cada zona, almacenados en un array numpy.\n",
        "costos = np.array([10, 8, 9, 7, 6, 5, 8, 7, 9, 6])\n",
        "\n",
        "# Eficiencia asociada a cada zona, almacenada en un array numpy.\n",
        "eficiencia = np.array([8, 9, 7, 8, 6, 9, 7, 5, 8, 7])\n",
        "\n",
        "# Función para calcular el \"fitness\" (aptitud) de una distribución dada.\n",
        "def calcular_fitness(distribucion):\n",
        "    # Calcula el costo total multiplicando la distribución por los costos y sumando los resultados.\n",
        "    costo_total = np.sum(distribucion * costos)\n",
        "    # Calcula la eficiencia total multiplicando la distribución por las eficiencias y sumando los resultados.\n",
        "    eficiencia_total = np.sum(distribucion * eficiencia)\n",
        "    # Devuelve la diferencia entre la eficiencia total y el costo total como el valor de aptitud.\n",
        "    return eficiencia_total - costo_total\n",
        "\n",
        "# Función para generar una población inicial de soluciones.\n",
        "def generar_poblacion_inicial(tamano_poblacion, distribucion_inicial):\n",
        "    poblacion = []\n",
        "    # Crea una lista de distribuciones iniciales copiadas tamano_poblacion veces.\n",
        "    for _ in range(tamano_poblacion):\n",
        "        poblacion.append(distribucion_inicial.copy())\n",
        "    # Devuelve la población como un array numpy.\n",
        "    return np.array(poblacion)\n",
        "\n",
        "# Función para seleccionar los individuos más aptos de la población.\n",
        "def seleccion(poblacion, fitness_poblacion, num_seleccionados):\n",
        "    # Ordena los índices de la población en función de los valores de aptitud (fitness) en orden descendente.\n",
        "    indices_seleccionados = np.argsort(fitness_poblacion)[-num_seleccionados:]\n",
        "    # Devuelve la subpoblación de los individuos seleccionados.\n",
        "    return poblacion[indices_seleccionados]\n",
        "\n",
        "# Función para cruzar (mezclar) dos individuos (padres) y generar dos nuevos individuos (hijos).\n",
        "def cruce(padre1, padre2):\n",
        "    # Elige un punto de cruce aleatorio.\n",
        "    punto_cruce = np.random.randint(1, len(padre1) - 1)\n",
        "    # Genera dos hijos combinando las partes de los padres a partir del punto de cruce.\n",
        "    hijo1 = np.concatenate((padre1[:punto_cruce], padre2[punto_cruce:]))\n",
        "    hijo2 = np.concatenate((padre2[:punto_cruce], padre1[punto_cruce:]))\n",
        "    # Devuelve los dos hijos.\n",
        "    return hijo1, hijo2\n",
        "\n",
        "# Función para mutar (modificar aleatoriamente) un individuo.\n",
        "def mutacion(individuo, tasa_mutacion=0.01):\n",
        "    # Itera sobre cada gen en el individuo.\n",
        "    for i in range(len(individuo)):\n",
        "        # Si un número aleatorio es menor que la tasa de mutación, cambia el gen a un valor aleatorio.\n",
        "        if np.random.rand() < tasa_mutacion:\n",
        "            individuo[i] = np.random.randint(1, 10)  # Ejemplo de mutación\n",
        "    # Devuelve el individuo mutado.\n",
        "    return individuo\n",
        "\n",
        "# Función principal del ciclo del algoritmo genético.\n",
        "def ciclo_algoritmo_genetico(tamano_poblacion, num_generaciones, tasa_cruce, tasa_mutacion):\n",
        "    # Genera una distribución inicial aleatoria.\n",
        "    distribucion_inicial = np.random.randint(1, 10, size=len(costos))\n",
        "    # Genera la población inicial basada en la distribución inicial.\n",
        "    poblacion = generar_poblacion_inicial(tamano_poblacion, distribucion_inicial)\n",
        "    # Itera sobre el número de generaciones especificado.\n",
        "    for _ in range(num_generaciones):\n",
        "        # Calcula la aptitud (fitness) de cada individuo en la población.\n",
        "        fitness_poblacion = np.array([calcular_fitness(ind) for ind in poblacion])\n",
        "        # Selecciona la mitad superior de la población basada en la aptitud.\n",
        "        poblacion = seleccion(poblacion, fitness_poblacion, tamano_poblacion // 2)\n",
        "        nueva_poblacion = []\n",
        "        # Genera una nueva población mediante cruces y mutaciones hasta alcanzar el tamaño de la población inicial.\n",
        "        while len(nueva_poblacion) < tamano_poblacion:\n",
        "            # Selecciona dos padres aleatorios de la población seleccionada.\n",
        "            padre1, padre2 = poblacion[np.random.choice(poblacion.shape[0], 2, replace=False)]\n",
        "            # Realiza un cruce con una probabilidad igual a la tasa de cruce.\n",
        "            if np.random.rand() < tasa_cruce:\n",
        "                hijo1, hijo2 = cruce(padre1, padre2)\n",
        "            else:\n",
        "                hijo1, hijo2 = padre1.copy(), padre2.copy()\n",
        "            # Realiza una mutación en los hijos con la tasa de mutación especificada.\n",
        "            hijo1 = mutacion(hijo1, tasa_mutacion)\n",
        "            hijo2 = mutacion(hijo2, tasa_mutacion)\n",
        "            # Añade los hijos a la nueva población.\n",
        "            nueva_poblacion.append(hijo1)\n",
        "            nueva_poblacion.append(hijo2)\n",
        "        # Reemplaza la población antigua con la nueva.\n",
        "        poblacion = np.array(nueva_poblacion)\n",
        "    # Devuelve la población final después de todas las generaciones.\n",
        "    return poblacion\n"
      ],
      "metadata": {
        "id": "pAtGukn526jv"
      },
      "execution_count": 3,
      "outputs": []
    },
    {
      "cell_type": "markdown",
      "source": [],
      "metadata": {
        "id": "8UZO-jCdLAsr"
      }
    },
    {
      "cell_type": "markdown",
      "source": [
        "# Lógica Difusa"
      ],
      "metadata": {
        "id": "la1LvgLrAu1p"
      }
    },
    {
      "cell_type": "markdown",
      "source": [
        "Este código implementa un sistema de control difuso para ajustar la intensidad de las luces en función de la hora del día, el nivel de tráfico y las condiciones climáticas. Se definen variables difusas para cada uno de estos factores y se establecen funciones de pertenencia para categorizar los datos en términos como \"madrugada\", \"tráfico alto\" o \"clima lluvioso\". Luego, se crean reglas difusas para determinar la intensidad de las luces según las combinaciones de estas categorías. La función simular_intensidad toma valores específicos de hora, tráfico y clima, ejecuta la simulación y devuelve la intensidad de luz recomendada en un formato fácil de entender.\n",
        "\n",
        "\n",
        "\n",
        "\n",
        "\n",
        "\n"
      ],
      "metadata": {
        "id": "__i24W6LK_-K"
      }
    },
    {
      "cell_type": "code",
      "source": [
        "\n",
        "# Definiciones del Control Difuso\n",
        "# Crea una variable difusa (antecedente) para la hora del día, con un rango de 0 a 23.\n",
        "hora = ctrl.Antecedent(np.arange(0, 24, 1), 'hora')\n",
        "\n",
        "# Crea una variable difusa (antecedente) para el nivel de tráfico, con un rango de 0 a 100.\n",
        "trafico = ctrl.Antecedent(np.arange(0, 101, 1), 'trafico')\n",
        "\n",
        "# Crea una variable difusa (antecedente) para el clima, con un rango de 0 a 100.\n",
        "clima = ctrl.Antecedent(np.arange(0, 101, 1), 'clima')\n",
        "\n",
        "# Crea una variable difusa (consecuente) para la intensidad de las luces, con un rango de 0 a 100.\n",
        "intensidad = ctrl.Consequent(np.arange(0, 101, 1), 'intensidad')\n",
        "\n",
        "# Define las funciones de pertenencia para la variable 'hora'.\n",
        "hora['madrugada'] = fuzz.trapmf(hora.universe, [0, 0, 4, 6])\n",
        "hora['mañana'] = fuzz.trapmf(hora.universe, [4, 6, 10, 12])\n",
        "hora['tarde'] = fuzz.trapmf(hora.universe, [10, 12, 16, 18])\n",
        "hora['noche'] = fuzz.trapmf(hora.universe, [16, 18, 24, 24])\n",
        "\n",
        "# Define las funciones de pertenencia para la variable 'trafico'.\n",
        "trafico['bajo'] = fuzz.trapmf(trafico.universe, [0, 0, 25, 50])\n",
        "trafico['medio'] = fuzz.trapmf(trafico.universe, [25, 50, 75, 100])\n",
        "trafico['alto'] = fuzz.trapmf(trafico.universe, [50, 75, 100, 100])\n",
        "\n",
        "# Define las funciones de pertenencia para la variable 'clima'.\n",
        "clima['despejado'] = fuzz.trapmf(clima.universe, [0, 0, 25, 50])\n",
        "clima['nublado'] = fuzz.trapmf(clima.universe, [25, 50, 75, 100])\n",
        "clima['lluvioso'] = fuzz.trapmf(clima.universe, [50, 75, 100, 100])\n",
        "\n",
        "# Define las funciones de pertenencia para la variable 'intensidad'.\n",
        "intensidad['baja'] = fuzz.trapmf(intensidad.universe, [0, 0, 25, 50])\n",
        "intensidad['media'] = fuzz.trapmf(intensidad.universe, [25, 50, 75, 100])\n",
        "intensidad['alta'] = fuzz.trapmf(intensidad.universe, [50, 75, 100, 100])\n",
        "\n",
        "# Define las reglas difusas.\n",
        "rule1 = ctrl.Rule(hora['madrugada'] & trafico['bajo'] & clima['despejado'], intensidad['baja'])\n",
        "rule2 = ctrl.Rule(hora['madrugada'] & trafico['alto'] & clima['nublado'], intensidad['media'])\n",
        "rule3 = ctrl.Rule(hora['mañana'] & trafico['medio'] & clima['lluvioso'], intensidad['media'])\n",
        "rule4 = ctrl.Rule(hora['noche'] & trafico['alto'] & clima['despejado'], intensidad['alta'])\n",
        "rule5 = ctrl.Rule(hora['tarde'] & trafico['alto'] & clima['lluvioso'], intensidad['alta'])\n",
        "rule6 = ctrl.Rule(hora['mañana'] & trafico['bajo'] & clima['despejado'], intensidad['baja'])\n",
        "rule7 = ctrl.Rule(hora['mañana'] & trafico['medio'] & clima['despejado'], intensidad['media'])  # Nueva regla de respaldo\n",
        "\n",
        "# Crea un sistema de control difuso con las reglas definidas.\n",
        "intensity_ctrl = ctrl.ControlSystem([rule1, rule2, rule3, rule4, rule5, rule6, rule7])\n",
        "\n",
        "# Crea una simulación del sistema de control difuso.\n",
        "intensity_simulation = ctrl.ControlSystemSimulation(intensity_ctrl)\n",
        "\n",
        "# Función para formatear la hora de 24 horas a 12 horas (AM/PM).\n",
        "def formato_hora(hora_24):\n",
        "    return datetime.strptime(str(hora_24), \"%H\").strftime(\"%I:%M %p\")\n",
        "\n",
        "# Función para simular la intensidad de las luces basada en la hora, tráfico y clima.\n",
        "def simular_intensidad(hora_val, trafico_val, clima_val):\n",
        "    # Asigna los valores de entrada a la simulación.\n",
        "    intensity_simulation.input['hora'] = hora_val\n",
        "    intensity_simulation.input['trafico'] = trafico_val\n",
        "    intensity_simulation.input['clima'] = clima_val\n",
        "    try:\n",
        "        # Ejecuta la simulación para calcular la salida.\n",
        "        intensity_simulation.compute()\n",
        "        # Obtiene el valor de la intensidad calculada.\n",
        "        intensidad_val = intensity_simulation.output['intensidad']\n",
        "    except ValueError:\n",
        "        # En caso de error, asigna un valor por defecto de 0 a la intensidad.\n",
        "        intensidad_val = 0\n",
        "\n",
        "    # Convierte la hora de 24 horas a formato AM/PM.\n",
        "    hora_formato = formato_hora(hora_val)\n",
        "    # Crea un diccionario con los resultados.\n",
        "    resultado = {\n",
        "        \"hora\": hora_formato,\n",
        "        \"trafico\": trafico_val,\n",
        "        \"clima\": clima_val,\n",
        "        \"intensidad\": intensidad_val\n",
        "    }\n",
        "    # Devuelve el diccionario con los resultados.\n",
        "    return resultado\n"
      ],
      "metadata": {
        "id": "h8zimb2u28cY"
      },
      "execution_count": 4,
      "outputs": []
    },
    {
      "cell_type": "markdown",
      "source": [
        "#Lógica Proposicional y Primer Orden\n",
        "\n",
        "\n"
      ],
      "metadata": {
        "id": "33qlQZpVA5wh"
      }
    },
    {
      "cell_type": "markdown",
      "source": [
        "Este código define un conjunto de reglas de lógica proposicional y de primer orden para controlar las acciones de los vehículos en función de las señales de un semáforo. Se crean símbolos que representan los colores del semáforo (verde, amarillo, rojo) y las acciones de los vehículos (detenerse, avanzar, disminuir velocidad). Luego, se establecen reglas lógicas: si el semáforo está en verde, los vehículos avanzan; si está en amarillo, disminuyen la velocidad; y si está en rojo, se detienen. La función evaluar_accion se utiliza para verificar si una acción es posible dada una situación específica y un conjunto de conocimientos, asegurando que la acción no sea contradictoria con las reglas establecidas.\n",
        "\n",
        "\n",
        "\n",
        "\n",
        "\n",
        "\n"
      ],
      "metadata": {
        "id": "tTdHkjAVLK07"
      }
    },
    {
      "cell_type": "code",
      "source": [
        "\n",
        "# Lógica Proposicional y Primer Orden\n",
        "verde, amarillo, rojo = symbols('verde amarillo rojo')  # Define los símbolos que representan los colores del semáforo.\n",
        "detenerse, avanzar, disminuir_velocidad = symbols('detenerse avanzar disminuir_velocidad')  # Define los símbolos que representan las acciones de los vehículos.\n",
        "VeSemaforo_C_S, Semaforo_S_rojo, Semaforo_S_verde, Semaforo_S_amarillo = symbols('VeSemaforo_C_S Semaforo_S_rojo Semaforo_S_verde Semaforo_S_amarillo')  # Define símbolos adicionales para las señales del semáforo.\n",
        "Detenerse_C, Avanzar_C, DisminuirVelocidad_C = symbols('Detenerse_C Avanzar_C DisminuirVelocidad_C')  # Define símbolos adicionales para las acciones correspondientes.\n",
        "\n",
        "reglas = [\n",
        "    Implies(verde, avanzar),  # Define la regla: si el semáforo está en verde, los vehículos deben avanzar.\n",
        "    Implies(amarillo, disminuir_velocidad),  # Define la regla: si el semáforo está en amarillo, los vehículos deben disminuir la velocidad.\n",
        "    Implies(rojo, detenerse)  # Define la regla: si el semáforo está en rojo, los vehículos deben detenerse.\n",
        "]\n",
        "\n",
        "def evaluar_accion(acc, conocimiento):\n",
        "    return satisfiable(And(conocimiento, acc)) and not satisfiable(And(conocimiento, Not(acc)))  # Evalúa si una acción es posible dado un conjunto de conocimientos, devolviendo True si es satisfacible y no contradictoria.\n"
      ],
      "metadata": {
        "id": "k3YsDgYZ2-GY"
      },
      "execution_count": 5,
      "outputs": []
    },
    {
      "cell_type": "markdown",
      "source": [
        "#Sistema de Producción\n"
      ],
      "metadata": {
        "id": "PLp_Km9dBCpU"
      }
    },
    {
      "cell_type": "markdown",
      "source": [
        "Este código define un sistema de producción para gestionar un sistema de agua, modelando sus componentes y estados. La clase SistemaAgua inicializa y almacena el estado del suministro de agua, válvulas, bombas y sensores. Las funciones abrir_valvula, cerrar_valvula, encender_bomba, apagar_bomba y revisar_sensor permiten cambiar el estado de estos componentes. La función diagnosticar_y_reparar realiza diagnósticos y reparaciones automáticas: si el suministro de agua está \"sin agua\" y todas las válvulas están cerradas, abre todas las válvulas; si hay \"baja presión\" y alguna bomba no está funcionando, enciende las bombas no funcionales; y si algún sensor no está funcionando, revisa y activa esos sensores.\n",
        "\n",
        "\n",
        "\n",
        "\n",
        "\n"
      ],
      "metadata": {
        "id": "1sLFmB1rLTny"
      }
    },
    {
      "cell_type": "code",
      "source": [
        "# Sistema de Producción\n",
        "class SistemaAgua:  # Define la clase SistemaAgua para modelar el sistema de gestión de agua.\n",
        "    def __init__(self, estado_suministro, estado_valvulas, estado_bombas, estado_sensores):\n",
        "        self.estado_suministro = estado_suministro  # Inicializa el estado del suministro de agua.\n",
        "        self.estado_valvulas = estado_valvulas  # Inicializa el estado de las válvulas.\n",
        "        self.estado_bombas = estado_bombas  # Inicializa el estado de las bombas.\n",
        "        self.estado_sensores = estado_sensores  # Inicializa el estado de los sensores.\n",
        "\n",
        "def abrir_valvula(sistema, valvula):\n",
        "    sistema.estado_valvulas[valvula] = \"abierta\"  # Cambia el estado de la válvula especificada a \"abierta\".\n",
        "\n",
        "def cerrar_valvula(sistema, valvula):\n",
        "    sistema.estado_valvulas[valvula] = \"cerrada\"  # Cambia el estado de la válvula especificada a \"cerrada\".\n",
        "\n",
        "def encender_bomba(sistema, bomba):\n",
        "    sistema.estado_bombas[bomba] = \"funcionando\"  # Cambia el estado de la bomba especificada a \"funcionando\".\n",
        "\n",
        "def apagar_bomba(sistema, bomba):\n",
        "    sistema.estado_bombas[bomba] = \"no funcionando\"  # Cambia el estado de la bomba especificada a \"no funcionando\".\n",
        "\n",
        "def revisar_sensor(sistema, sensor):\n",
        "    sistema.estado_sensores[sensor] = \"funcionando\"  # Cambia el estado del sensor especificado a \"funcionando\".\n",
        "\n",
        "def diagnosticar_y_reparar(sistema):\n",
        "    # Si el suministro de agua está en \"sin agua\" y todas las válvulas están \"cerradas\", abre todas las válvulas.\n",
        "    if sistema.estado_suministro == \"sin agua\" and all(v == \"cerrada\" for v in sistema.estado_valvulas.values()):\n",
        "        for valvula in sistema.estado_valvulas:\n",
        "            abrir_valvula(sistema, valvula)\n",
        "    # Si el suministro de agua está en \"baja presión\" y alguna bomba no está funcionando, enciende las bombas que no están funcionando.\n",
        "    elif sistema.estado_suministro == \"baja presión\" and any(b == \"no funcionando\" for b in sistema.estado_bombas.values()):\n",
        "        for bomba in sistema.estado_bombas:\n",
        "            if sistema.estado_bombas[bomba] == \"no funcionando\":\n",
        "                encender_bomba(sistema, bomba)\n",
        "    # Si algún sensor no está funcionando, revisa y activa los sensores que no están funcionando.\n",
        "    elif any(s == \"no funcionando\" for s in sistema.estado_sensores.values()):\n",
        "        for sensor in sistema.estado_sensores:\n",
        "            if sistema.estado_sensores[sensor] == \"no funcionando\":\n",
        "                revisar_sensor(sistema, sensor)\n"
      ],
      "metadata": {
        "id": "lMttRCdH2_ag"
      },
      "execution_count": 6,
      "outputs": []
    },
    {
      "cell_type": "markdown",
      "source": [
        "# Redes Semánticas"
      ],
      "metadata": {
        "id": "-WFgwIlgBMrS"
      }
    },
    {
      "cell_type": "markdown",
      "source": [
        "Este código crea y maneja una representación de la infraestructura de una ciudad usando un grafo. Añade varios elementos como carreteras, tuberías, cables eléctricos y estaciones de bombeo, cada uno con atributos específicos como estado y capacidad. También define las conexiones entre estos elementos, indicando cómo están relacionados entre sí, por ejemplo, si están cerca o si un cable eléctrico alimenta una subestación. Además, incluye funciones para mostrar la información y las conexiones de un elemento específico, y para encontrar el camino más corto entre dos elementos en la infraestructura."
      ],
      "metadata": {
        "id": "agSKLa3NLb4K"
      }
    },
    {
      "cell_type": "code",
      "source": [
        "\n",
        "# Definición de la infraestructura\n",
        "infraestructura = nx.Graph()  # Crea un nuevo grafo vacío para representar la infraestructura.\n",
        "\n",
        "# Agregar nodos y aristas a la infraestructura (ejemplo)\n",
        "infraestructura.add_node(\"Carretera1\", tipo=\"carretera\", estado=\"bueno\", longitud=10)  # Añade un nodo representando una carretera con atributos específicos.\n",
        "infraestructura.add_node(\"Carretera2\", tipo=\"carretera\", estado=\"regular\", longitud=15)  # Añade un segundo nodo para otra carretera con diferentes atributos.\n",
        "infraestructura.add_node(\"Tuberia1\", tipo=\"tuberia\", estado=\"malo\", capacidad=100)  # Añade un nodo representando una tubería con atributos específicos.\n",
        "infraestructura.add_node(\"Tuberia2\", tipo=\"tuberia\", estado=\"bueno\", capacidad=150)  # Añade otro nodo para una segunda tubería con diferentes atributos.\n",
        "infraestructura.add_node(\"CableElectrico1\", tipo=\"cable electrico\", estado=\"bueno\", capacidad=500)  # Añade un nodo para un cable eléctrico con atributos específicos.\n",
        "infraestructura.add_node(\"CableElectrico2\", tipo=\"cable electrico\", estado=\"regular\", capacidad=400)  # Añade otro nodo para un segundo cable eléctrico con diferentes atributos.\n",
        "infraestructura.add_node(\"EstacionBombeo1\", tipo=\"estacion de bombeo\", estado=\"bueno\")  # Añade un nodo para una estación de bombeo con atributos específicos.\n",
        "infraestructura.add_node(\"SubestacionElectrica1\", tipo=\"subestacion electrica\", estado=\"malo\")  # Añade un nodo para una subestación eléctrica con atributos específicos.\n",
        "\n",
        "# Añade aristas (conexiones) entre los nodos con atributos que describen la relación entre ellos.\n",
        "infraestructura.add_edge(\"Carretera1\", \"Tuberia1\", relacion=\"cercano\")  # Conecta Carretera1 con Tuberia1 indicando que están cerca.\n",
        "infraestructura.add_edge(\"Carretera1\", \"CableElectrico1\", relacion=\"cruza\")  # Conecta Carretera1 con CableElectrico1 indicando que se cruzan.\n",
        "infraestructura.add_edge(\"Carretera2\", \"Tuberia2\", relacion=\"cercano\")  # Conecta Carretera2 con Tuberia2 indicando que están cerca.\n",
        "infraestructura.add_edge(\"Carretera2\", \"CableElectrico2\", relacion=\"cruza\")  # Conecta Carretera2 con CableElectrico2 indicando que se cruzan.\n",
        "infraestructura.add_edge(\"Tuberia1\", \"EstacionBombeo1\", relacion=\"conecta\")  # Conecta Tuberia1 con EstacionBombeo1 indicando que están conectados.\n",
        "infraestructura.add_edge(\"CableElectrico1\", \"SubestacionElectrica1\", relacion=\"alimenta\")  # Conecta CableElectrico1 con SubestacionElectrica1 indicando que la alimenta.\n",
        "infraestructura.add_edge(\"CableElectrico2\", \"SubestacionElectrica1\", relacion=\"alimenta\")  # Conecta CableElectrico2 con SubestacionElectrica1 indicando que la alimenta.\n",
        "\n",
        "# Función para mostrar la información de un nodo específico.\n",
        "def mostrar_info_nodo(nodo):\n",
        "    return infraestructura.nodes[nodo]  # Devuelve los atributos del nodo especificado.\n",
        "\n",
        "# Función para mostrar las conexiones de un nodo específico.\n",
        "def mostrar_conexiones_nodo(nodo):\n",
        "    return list(infraestructura.neighbors(nodo))  # Devuelve una lista de los nodos conectados al nodo especificado.\n",
        "\n",
        "# Función para encontrar el camino más corto entre dos nodos.\n",
        "def camino_mas_corto(nodo1, nodo2):\n",
        "    return nx.shortest_path(infraestructura, source=nodo1, target=nodo2)  # Devuelve el camino más corto entre los dos nodos especificados utilizando el algoritmo de caminos más cortos de NetworkX.\n"
      ],
      "metadata": {
        "id": "2kD5Lkgc3AxY"
      },
      "execution_count": 7,
      "outputs": []
    },
    {
      "cell_type": "markdown",
      "source": [
        "# Teoría de Juegos de Nash\n"
      ],
      "metadata": {
        "id": "97Emg8J-BV-p"
      }
    },
    {
      "cell_type": "markdown",
      "source": [
        "Este código crea un juego de teoría de juegos utilizando una matriz de pagos simple, que representa un juego de suma cero similar al dilema del prisionero. Luego, calcula los equilibrios de Nash, que son situaciones donde ningún jugador puede mejorar su resultado cambiando solo su estrategia. Finalmente, imprime todos los equilibrios de Nash encontrados. Esto ayuda a entender las estrategias óptimas que los jugadores deben seguir para mantener el equilibrio en el juego."
      ],
      "metadata": {
        "id": "xJKTQ16iLkAC"
      }
    },
    {
      "cell_type": "code",
      "source": [
        "\n",
        "# Ejemplo de teoría de juegos de Nash\n",
        "juego = nash.Game([[1, -1], [-1, 1]])  # Crea un juego utilizando una matriz de pagos. En este caso, es una matriz para un juego de suma cero como el dilema del prisionero.\n",
        "\n",
        "equilibrios = list(juego.support_enumeration())  # Encuentra los equilibrios de Nash utilizando el método de enumeración de soportes y los almacena en una lista.\n",
        "\n",
        "# Mostrar equilibrios de Nash\n",
        "for eq in equilibrios:  # Itera sobre cada equilibrio de Nash encontrado.\n",
        "    print(f\"Equilibrio de Nash: {eq}\")  # Imprime cada equilibrio de Nash.\n"
      ],
      "metadata": {
        "colab": {
          "base_uri": "https://localhost:8080/"
        },
        "id": "eduwivl-3CmA",
        "outputId": "8a41d664-ab62-4d96-a00b-fca1f2c034d0"
      },
      "execution_count": 8,
      "outputs": [
        {
          "output_type": "stream",
          "name": "stdout",
          "text": [
            "Equilibrio de Nash: (array([0.5, 0.5]), array([0.5, 0.5]))\n"
          ]
        }
      ]
    },
    {
      "cell_type": "markdown",
      "source": [
        "# Impresión de resultados."
      ],
      "metadata": {
        "id": "68oarWNDBava"
      }
    },
    {
      "cell_type": "markdown",
      "source": [
        "Este código crea una interfaz interactiva para simular y mostrar recomendaciones basadas en varios parámetros como la hora del día, el tráfico y el clima. También gestiona el estado de un sistema de agua y la infraestructura de una ciudad. Los usuarios pueden ajustar estos parámetros mediante controles deslizantes y menús desplegables, y el sistema actualizará automáticamente las recomendaciones y mostrará gráficos que visualizan la distribución de autobuses, la intensidad de las luces y el estado del sistema de agua e infraestructura."
      ],
      "metadata": {
        "id": "ZlUiCX0sLvGj"
      }
    },
    {
      "cell_type": "code",
      "source": [
        "# Crear salidas\n",
        "salida_resultados = widgets.Output()  # Crea un área de salida para mostrar los resultados.\n",
        "\n",
        "# Función para actualizar recomendaciones\n",
        "def actualizar_recomendaciones(change=None):\n",
        "    ciudad = ciudad_text.value  # Obtiene el valor ingresado en el widget de texto de la ciudad.\n",
        "    hora_val = hora_slider.value  # Obtiene el valor seleccionado en el slider de hora.\n",
        "    trafico_val = trafico_slider.value  # Obtiene el valor seleccionado en el slider de tráfico.\n",
        "    clima_val = {'Favorable': 20, 'Normal': 50, 'Desfavorable': 80}[clima_dropdown.value]  # Traduce el valor seleccionado en el desplegable de clima a un valor numérico.\n",
        "\n",
        "    # Simulación de intensidad\n",
        "    resultado_intensidad = simular_intensidad(hora_val, trafico_val, clima_val)  # Simula la intensidad de las luces basada en los valores de hora, tráfico y clima.\n",
        "\n",
        "    # Diagnóstico del sistema de agua\n",
        "    estado_suministro = estado_suministro_selector.value  # Obtiene el valor seleccionado en el desplegable de estado de suministro.\n",
        "    estado_valvulas = {k: v.value for k, v in estado_valvulas_selectors.items()}  # Crea un diccionario con los estados de las válvulas.\n",
        "    estado_bombas = {k: v.value for k, v in estado_bombas_selectors.items()}  # Crea un diccionario con los estados de las bombas.\n",
        "    estado_sensores = {k: v.value for k, v in estado_sensores_selectors.items()}  # Crea un diccionario con los estados de los sensores.\n",
        "\n",
        "    sistema_agua = SistemaAgua(estado_suministro, estado_valvulas, estado_bombas, estado_sensores)  # Inicializa un objeto SistemaAgua con los estados actuales.\n",
        "    diagnosticar_y_reparar(sistema_agua)  # Diagnostica y repara el sistema de agua según los estados actuales.\n",
        "\n",
        "    # Generar la salida formateada\n",
        "    with salida_resultados:  # Utiliza el área de salida creada para mostrar los resultados.\n",
        "        salida_resultados.clear_output()  # Limpia la salida anterior.\n",
        "\n",
        "        # Muestra y grafica la distribución optimizada de autobuses\n",
        "        print(f\"Distribución optimizada de autobuses en {ciudad}:\")\n",
        "        distribucion_optimizada = ciclo_algoritmo_genetico(10, 100, 0.8, 0.01)  # Ejecuta el algoritmo genético para optimizar la distribución de autobuses.\n",
        "        print(f\"Fitness del plan de distribución: {calcular_fitness(distribucion_optimizada[0])}\")\n",
        "        for zona, num_autobuses in zip(zonas, distribucion_optimizada[0]):  # Itera sobre las zonas y el número de autobuses.\n",
        "            print(f\"  - Zona: {zona}, Número de autobuses: {num_autobuses}\")\n",
        "\n",
        "        # Gráfico de la distribución optimizada de autobuses\n",
        "        fig, ax = plt.subplots()  # Crea una figura y un eje para el gráfico.\n",
        "        ax.bar(zonas, distribucion_optimizada[0])  # Crea un gráfico de barras con las zonas y el número de autobuses.\n",
        "        ax.set_xlabel('Zonas')  # Etiqueta el eje X.\n",
        "        ax.set_ylabel('Número de autobuses')  # Etiqueta el eje Y.\n",
        "        ax.set_title(f'Distribución optimizada de autobuses en {ciudad}')  # Título del gráfico.\n",
        "        plt.xticks(rotation=45)  # Rota las etiquetas del eje X 45 grados.\n",
        "        plt.show()  # Muestra el gráfico.\n",
        "\n",
        "        # Muestra y grafica las recomendaciones de intensidad de luces\n",
        "        print(f\"\\nRecomendaciones de intensidad de luces en {ciudad} según simulaciones:\")\n",
        "        print(f\"  - Hora del día: {resultado_intensidad['hora']}\")\n",
        "        print(f\"  - Nivel de tráfico: {resultado_intensidad['trafico']}%\")\n",
        "        print(f\"  - Condición climática: {resultado_intensidad['clima']}%\")\n",
        "        print(f\"  - Intensidad de luces recomendada: {resultado_intensidad['intensidad']:.2f}%\")\n",
        "\n",
        "        # Gráfico de la intensidad de luces recomendada\n",
        "        labels = ['Hora del día', 'Nivel de tráfico', 'Condición climática']  # Define las etiquetas para el gráfico.\n",
        "        values = [hora_val, trafico_val, clima_val]  # Define los valores para el gráfico.\n",
        "        fig, ax = plt.subplots()  # Crea una figura y un eje para el gráfico.\n",
        "        ax.bar(labels, values)  # Crea un gráfico de barras con las etiquetas y los valores.\n",
        "        ax.set_ylabel('Valor')  # Etiqueta el eje Y.\n",
        "        ax.set_title(f'Recomendaciones de intensidad de luces en {ciudad}')  # Título del gráfico.\n",
        "        plt.show()  # Muestra el gráfico.\n",
        "\n",
        "        # Muestra los resultados de la lógica proposicional y de primer orden\n",
        "        print(f\"\\nResultados de la lógica proposicional para el control de tráfico en {ciudad}:\")\n",
        "        if evaluar_accion(avanzar, verde):  # Evalúa si la acción de avanzar es posible con el semáforo en verde.\n",
        "            print(\"  - El semáforo está en verde: los vehículos pueden avanzar.\")\n",
        "\n",
        "        print(f\"\\nResultados de la lógica de primer orden para el control de tráfico en {ciudad}:\")\n",
        "        if evaluar_accion(avanzar, verde):  # Evalúa si la acción de avanzar es posible con el semáforo en verde.\n",
        "            print(\"  - En base a la lógica de primer orden, los vehículos pueden avanzar.\")\n",
        "\n",
        "        # Gráfico de estados inicial y final de los sistemas de agua\n",
        "        estado_inicial = [estado_suministro_selector.value,\n",
        "                          estado_valvulas_selectors['valvula1'].value,\n",
        "                          estado_valvulas_selectors['valvula2'].value,\n",
        "                          estado_bombas_selectors['bomba1'].value,\n",
        "                          estado_bombas_selectors['bomba2'].value,\n",
        "                          estado_sensores_selectors['sensor1'].value,\n",
        "                          estado_sensores_selectors['sensor2'].value]\n",
        "\n",
        "        diagnosticar_y_reparar(sistema_agua)  # Actualiza el diagnóstico y reparación del sistema de agua.\n",
        "\n",
        "        estado_final = [sistema_agua.estado_suministro,\n",
        "                        sistema_agua.estado_valvulas['valvula1'],\n",
        "                        sistema_agua.estado_valvulas['valvula2'],\n",
        "                        sistema_agua.estado_bombas['bomba1'],\n",
        "                        sistema_agua.estado_bombas['bomba2'],\n",
        "                        sistema_agua.estado_sensores['sensor1'],\n",
        "                        sistema_agua.estado_sensores['sensor2']]\n",
        "\n",
        "        print(f\"\\nEstados inicial y final de los sistemas de agua en {ciudad}:\")\n",
        "        print(f\"  - Estado inicial: {estado_inicial}\")\n",
        "        print(f\"  - Estado final: {estado_final}\")\n",
        "\n",
        "        labels = ['Suministro', 'Válvula 1', 'Válvula 2', 'Bomba 1', 'Bomba 2', 'Sensor 1', 'Sensor 2']  # Define las etiquetas para el gráfico.\n",
        "        fig, ax = plt.subplots()  # Crea una figura y un eje para el gráfico.\n",
        "        ax.bar(labels, estado_inicial, alpha=0.5, label='Inicial')  # Crea un gráfico de barras con el estado inicial.\n",
        "        ax.bar(labels, estado_final, alpha=0.5, label='Final')  # Crea un gráfico de barras con el estado final.\n",
        "        ax.set_ylabel('Estado')  # Etiqueta el eje Y.\n",
        "        ax.set_title(f'Estados inicial y final de los sistemas de agua en {ciudad}')  # Título del gráfico.\n",
        "        ax.legend()  # Muestra la leyenda del gráfico.\n",
        "        plt.xticks(rotation=45)  # Rota las etiquetas del eje X 45 grados.\n",
        "        plt.show()  # Muestra el gráfico.\n",
        "\n",
        "        # Muestra y grafica la información detallada sobre la infraestructura\n",
        "        print(f\"\\nInformación detallada sobre la infraestructura en {ciudad}:\")\n",
        "        nodo1_info = mostrar_info_nodo('Carretera1')  # Obtiene la información del nodo 'Carretera1'.\n",
        "        nodo1_conexiones = mostrar_conexiones_nodo('Carretera1')  # Obtiene las conexiones del nodo 'Carretera1'.\n",
        "        nodo1_camino = camino_mas_corto('Carretera1', 'SubestacionElectrica1')  # Obtiene el camino más corto entre 'Carretera1' y 'SubestacionElectrica1'.\n",
        "        print(f\"Información sobre 'Carretera1':\\n  - Tipo: {nodo1_info['tipo']}\\n  - Estado: {nodo1_info['estado']}\\n  - Longitud: {nodo1_info['longitud']} km\\n  - Conexiones: {', '.join(nodo1_conexiones)}\\n  - Camino más corto entre 'Carretera1' y 'SubestacionElectrica1': {', '.join(nodo1_camino)}\")\n",
        "\n",
        "        nodo2_info = mostrar_info_nodo('Tuberia1')  # Obtiene la información del nodo 'Tuberia1'.\n",
        "        nodo2_conexiones = mostrar_conexiones_nodo('Tuberia1')  # Obtiene las conexiones del nodo 'Tuberia1'.\n",
        "        nodo2_camino = camino_mas_corto('Tuberia1', 'SubestacionElectrica1')  # Obtiene el camino más corto entre 'Tuberia1' y 'SubestacionElectrica1'.\n",
        "        print(f\"\\nInformación sobre 'Tuberia1':\\n  - Tipo: {nodo2_info['tipo']}\\n  - Estado: {nodo2_info['estado']}\\n  - Capacidad: {nodo2_info['capacidad']} L\\n  - Conexiones: {', '.join(nodo2_conexiones)}\\n  - Camino más corto entre 'Tuberia1' y 'SubestacionElectrica1': {', '.join(nodo2_camino)}\")\n",
        "\n",
        "        # Gráfico de la infraestructura\n",
        "        labels = ['Carretera1', 'Tuberia1', 'CableElectrico1', 'EstacionBombeo1', 'SubestacionElectrica1']  # Define las etiquetas para el gráfico.\n",
        "        estados = [nodo1_info['estado'], nodo2_info['estado'],\n",
        "                   mostrar_info_nodo('CableElectrico1')['estado'],\n",
        "                   mostrar_info_nodo('EstacionBombeo1')['estado'],\n",
        "                   mostrar_info_nodo('SubestacionElectrica1')['estado']]  # Obtiene los estados de los nodos de infraestructura.\n",
        "        capacidades = [nodo1_info.get('longitud', 0), nodo2_info.get('capacidad', 0),\n",
        "                       mostrar_info_nodo('CableElectrico1').get('capacidad', 0),\n",
        "                       mostrar_info_nodo('EstacionBombeo1').get('capacidad', 0),\n",
        "                       mostrar_info_nodo('SubestacionElectrica1').get('capacidad', 0)]  # Obtiene las capacidades de los nodos de infraestructura.\n",
        "\n",
        "        fig, ax = plt.subplots()  # Crea una figura y un eje para el gráfico.\n",
        "        ax.bar(labels, capacidades)  # Crea un gráfico de barras con las etiquetas y las capacidades.\n",
        "        ax.set_ylabel('Capacidad / Longitud')  # Etiqueta el eje Y.\n",
        "        ax.set_title(f'Capacidades / Longitudes de la infraestructura en {ciudad}')  # Título del gráfico.\n",
        "        plt.xticks(rotation=45)  # Rota las etiquetas del eje X 45 grados.\n",
        "        plt.show()  # Muestra el gráfico.\n",
        "\n",
        "        fig, ax = plt.subplots()  # Crea una figura y un eje para el gráfico.\n",
        "        ax.bar(labels, [1 if estado == 'bueno' else 0.5 if estado == 'regular' else 0 for estado in estados])  # Crea un gráfico de barras con los estados de los nodos.\n",
        "        ax.set_ylabel('Estado (1: bueno, 0.5: regular, 0: malo)')  # Etiqueta el eje Y.\n",
        "        ax.set_title(f'Estados de la infraestructura en {ciudad}')  # Título del gráfico.\n",
        "        plt.xticks(rotation=45)  # Rota las etiquetas del eje X 45 grados.\n",
        "        plt.show()  # Muestra el gráfico.\n",
        "\n",
        "# Enlazar widgets con la función de actualización\n",
        "hora_slider.observe(actualizar_recomendaciones, names='value')  # Enlaza el slider de hora con la función de actualización.\n",
        "trafico_slider.observe(actualizar_recomendaciones, names='value')  # Enlaza el slider de tráfico con la función de actualización.\n",
        "clima_dropdown.observe(actualizar_recomendaciones, names='value')  # Enlaza el desplegable de clima con la función de actualización.\n",
        "estado_suministro_selector.observe(actualizar_recomendaciones, names='value')  # Enlaza el desplegable de estado de suministro con la función de actualización.\n",
        "for selector in estado_valvulas_selectors.values():\n",
        "    selector.observe(actualizar_recomendaciones, names='value')  # Enlaza los desplegables de estado de válvulas con la función de actualización.\n",
        "for selector in estado_bombas_selectors.values():\n",
        "    selector.observe(actualizar_recomendaciones, names='value')  # Enlaza los desplegables de estado de bombas con la función de actualización.\n",
        "for selector in estado_sensores_selectors.values():\n",
        "    selector.observe(actualizar_recomendaciones, names='value')  # Enlaza los desplegables de estado de sensores con la función de actualización.\n",
        "ciudad_text.observe(actualizar_recomendaciones, names='value')  # Enlaza el widget de texto de la ciudad con la función de actualización.\n",
        "\n",
        "# Mostrar widgets adicionales y salidas\n",
        "display(ciudad_text)  # Muestra el widget de texto de la ciudad.\n",
        "display(salida_resultados)  # Muestra el área de salida para los resultados.\n",
        "\n",
        "# Llamar a la función inicialmente para mostrar la salida\n",
        "actualizar_recomendaciones()  # Llama a la función de actualización para mostrar los resultados iniciales.\n"
      ],
      "metadata": {
        "colab": {
          "base_uri": "https://localhost:8080/",
          "height": 1000,
          "referenced_widgets": [
            "4c6e2f54d29547d59283bc14bec99ec6",
            "a147f9d539f64075bb3f06d67915dfbb",
            "6cc96e1cfd624f1f8a5d3d925334c740",
            "94efe69603e748f8a985a6301a9cb4a6",
            "d84b4a523e7c45ff8749a5005f046980"
          ]
        },
        "id": "bYlIaNma3GGf",
        "outputId": "4ff7c6f0-bcac-4f45-afac-f6c749eed378"
      },
      "execution_count": 10,
      "outputs": [
        {
          "output_type": "display_data",
          "data": {
            "text/plain": [
              "Text(value='Ancud', description='Ciudad:')"
            ],
            "application/vnd.jupyter.widget-view+json": {
              "version_major": 2,
              "version_minor": 0,
              "model_id": "4c6e2f54d29547d59283bc14bec99ec6"
            }
          },
          "metadata": {}
        },
        {
          "output_type": "display_data",
          "data": {
            "text/plain": [
              "Output()"
            ],
            "application/vnd.jupyter.widget-view+json": {
              "version_major": 2,
              "version_minor": 0,
              "model_id": "94efe69603e748f8a985a6301a9cb4a6"
            }
          },
          "metadata": {}
        }
      ]
    },
    {
      "cell_type": "markdown",
      "source": [
        "# Repositorio GitHub"
      ],
      "metadata": {
        "id": "J1hUcZ6hL5W0"
      }
    },
    {
      "cell_type": "markdown",
      "source": [
        "https://github.com/michaelarjelm/evaluacionTresIA/blob/main/Evaluacion_3.ipynb"
      ],
      "metadata": {
        "id": "oml5pMdbYxyE"
      }
    }
  ]
}